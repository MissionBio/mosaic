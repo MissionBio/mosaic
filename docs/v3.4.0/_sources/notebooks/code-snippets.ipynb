{
 "cells": [
  {
   "cell_type": "markdown",
   "id": "99e70b60",
   "metadata": {},
   "source": [
    "# Code Snippets\n",
    "\n",
    "## Annotate your variants\n",
    "\n",
    "This example shows how you can annotate your variants. Running the command below will output a pandas dataframe."
   ]
  },
  {
   "cell_type": "code",
   "execution_count": null,
   "id": "a8770970",
   "metadata": {
    "render": {
     "image": {
      "width": "200px"
     }
    }
   },
   "outputs": [],
   "source": [
    "import missionbio.mosaic as ms\n",
    "sample = ms.load_example_dataset(\"3 cell mix\")\n",
    "filtered_variants = list(sample.dna.filter_variants())\n",
    "\n",
    "sample.dna.get_annotations(filtered_variants[0:5])"
   ]
  },
  {
   "cell_type": "markdown",
   "id": "54aa5686",
   "metadata": {},
   "source": [
    "Currently we provide the following annotations:\n",
    "\n",
    "* Variant type\n",
    "* Gene\n",
    "* Gene function\n",
    "* RefSeq transcript ID\n",
    "* cDNA change\n",
    "* Protein change\n",
    "* Protein coding impact\n",
    "* COSMIC\n",
    "* DANN SNVs\n",
    "* ClinVar\n",
    "* gnomAD\n",
    "* dbSNP\n",
    "\n",
    "If you need additional annotation sources, please contact us.\n",
    "\n",
    "\n",
    "## Multi-assay heatmap\n",
    "\n",
    "The following examples demonstrate how to produce a heatmap showing data from multiple assays. The first example shows how to cluster cells by protein expression, then produce a heatmap that shows the per-cluster protein expression and DNA mutation status for some select variants."
   ]
  },
  {
   "cell_type": "code",
   "execution_count": null,
   "id": "f2777117",
   "metadata": {
    "tags": [
     "remove-stdout",
     "remove-stderr"
    ]
   },
   "outputs": [],
   "source": [
    "import missionbio.mosaic as ms\n",
    "\n",
    "sample = ms.load_example_dataset(\"3 cell mix\")\n",
    "\n",
    "# first, cluster by protein expression\n",
    "sample.protein.normalize_reads()\n",
    "sample.protein.run_pca(attribute='normalized_counts', components=5)\n",
    "sample.protein.run_umap(attribute='pca')\n",
    "sample.protein.cluster(attribute='pca', method='graph-community', k=100)\n",
    "\n",
    "# show only two DNA variants, and chromosomes 1 and 2 for CNV\n",
    "fig = sample.heatmap((\"protein\", \"dna\", \"cnv\"), features=(None, sample.dna.ids()[:2], [\"1\", \"2\"]))\n",
    "fig.show(\"jpg\")"
   ]
  },
  {
   "cell_type": "markdown",
   "id": "4122eb89",
   "metadata": {},
   "source": [
    "If you cluster by protein, you can also quantify the percentage and mutated cells in each cluster for your mutation(s) of choice."
   ]
  },
  {
   "cell_type": "code",
   "execution_count": null,
   "id": "954ff2ef",
   "metadata": {
    "tags": [
     "remove-stdout",
     "remove-stderr"
    ]
   },
   "outputs": [],
   "source": [
    "import missionbio.mosaic as ms\n",
    "\n",
    "sample = ms.load_example_dataset(\"3 cell mix\")\n",
    "\n",
    "# first, cluster by protein expression\n",
    "sample.protein.normalize_reads()\n",
    "sample.protein.run_pca(attribute='normalized_counts', components=5)\n",
    "sample.protein.run_umap(attribute='pca')\n",
    "sample.protein.cluster(attribute='pca', method='graph-community', k=100)\n",
    "\n",
    "# show only two DNA variants\n",
    "\n",
    "fig = sample.signaturemap((\"protein\", \"dna\", \"cnv\"), features=(None, sample.dna.ids()[:2], [\"1\", \"2\"]))\n",
    "fig.show(\"jpg\")"
   ]
  },
  {
   "cell_type": "markdown",
   "id": "5c9a8e38",
   "metadata": {},
   "source": [
    "## Fishplot to visualize clonal evolution\n",
    "\n",
    "Draws a fish plot and associated graphical representation of clonal phylogeny. Currently, you must provide the phylogenetic relationships between clones."
   ]
  },
  {
   "cell_type": "code",
   "execution_count": null,
   "id": "47afe684",
   "metadata": {
    "tags": [
     "remove-stdout",
     "remove-stderr"
    ]
   },
   "outputs": [],
   "source": [
    "import missionbio.mosaic as ms\n",
    "\n",
    "group = ms.load_example_dataset('Multisample PBMC')\n",
    "fig = group.fishplot(labels=[\"Clone 1\", \"Clone 2\"], parents=[None, None])\n",
    "fig.show(\"jpg\")"
   ]
  },
  {
   "cell_type": "markdown",
   "id": "fab742a4",
   "metadata": {},
   "source": [
    "## Group cells by a select number of DNA variants\n",
    "\n",
    "Clusters cells into clones based on the provided variants and returns a dataframe of per-clone and per-variant statistics. This algorithm also takes into consideration allele dropout out (ADO) to identify potential false positive clones."
   ]
  },
  {
   "cell_type": "code",
   "execution_count": null,
   "id": "ed1c6ea8",
   "metadata": {
    "tags": [
     "remove-stdout",
     "remove-stderr"
    ]
   },
   "outputs": [],
   "source": [
    "import missionbio.mosaic as ms\n",
    "\n",
    "sample = ms.load_example_dataset('3 cell mix')\n",
    "filtered_variants = sample.dna.filter_variants()\n",
    "sample.dna.group_by_genotype(features=filtered_variants[0:5])"
   ]
  }
 ],
 "metadata": {
  "kernelspec": {
   "display_name": "Python 3 (ipykernel)",
   "language": "python",
   "name": "python3"
  },
  "language_info": {
   "codemirror_mode": {
    "name": "ipython",
    "version": 3
   },
   "file_extension": ".py",
   "mimetype": "text/x-python",
   "name": "python",
   "nbconvert_exporter": "python",
   "pygments_lexer": "ipython3",
   "version": "3.8.17"
  }
 },
 "nbformat": 4,
 "nbformat_minor": 5
}

{
 "cells": [
  {
   "cell_type": "markdown",
   "metadata": {},
   "source": [
    "# Basic usage of mosaic"
   ]
  },
  {
   "cell_type": "markdown",
   "metadata": {},
   "source": [
    "<b>Objective</b><br>\n",
    "To showcase the minimum number of steps<br>\n",
    "required to do tertiary analysis of DNA + Protein<br>\n",
    "and some of the different ways to look at the data<br>\n",
    "\n",
    "<b>Major questions answered:</b>\n",
    "1. Do we see DNA clones?<br>\n",
    "2. Do we see protein cell types<br>\n",
    "3. Is the differential expression significant?<br>\n",
    "4. Do the clones correlate with the cell types?<br>\n",
    "\n",
    "<b>Things not shown:</b>\n",
    "1. All available methods eg. Filtering of nearby variants, variant annotation, plots\n",
    "\n",
    "2. Discussing all methods and their options - Documented [here](https://missionbio.github.io/mosaic/)<br>\n",
    "\n",
    "3. Systemic variations seen in protein data"
   ]
  },
  {
   "cell_type": "markdown",
   "metadata": {
    "heading_collapsed": true
   },
   "source": [
    "### Setup"
   ]
  },
  {
   "cell_type": "markdown",
   "metadata": {
    "hidden": true
   },
   "source": [
    "H5 files are a replacement of loom files. These are part of the DNA and protein pipeline output.\n",
    "       \n",
    "<i>Note: This example h5 file trimmed specifically for this analysis</i>\n",
    "\n",
    "[Here](https://missionbio.github.io/mosaic/pages/functions/missionbio.mosaic.io.load.html#missionbio.mosaic.io.load) is the complete documentation on the load function"
   ]
  },
  {
   "cell_type": "code",
   "execution_count": null,
   "metadata": {
    "hidden": true
   },
   "outputs": [],
   "source": [
    "import missionbio.mosaic as ms\n",
    "\n",
    "sample = ms.load_example_dataset(\"3 cell mix\")  # Use ms.load(path_to_h5) for custom h5 files"
   ]
  },
  {
   "cell_type": "markdown",
   "metadata": {
    "heading_collapsed": true
   },
   "source": [
    "### Data Structure"
   ]
  },
  {
   "cell_type": "markdown",
   "metadata": {
    "hidden": true
   },
   "source": [
    "[Dna](https://missionbio.github.io/mosaic/pages/missionbio.mosaic.dna.Dna.html), [Cnv](https://missionbio.github.io/mosaic/pages/missionbio.mosaic.cnv.Cnv.html), and [Protein](https://missionbio.github.io/mosaic/pages/missionbio.mosaic.protein.Protein.html) are sub classes of the [_Assay](https://missionbio.github.io/mosaic/pages/missionbio.mosaic.assay._Assay.html) class<br>\n",
    "The information is stored in four ways, and the user<bR>\n",
    "can change each of those<br>\n",
    "\n",
    "    1. metadata (add_metadata / del_metadata):\n",
    "        dictionary containing metrics of the assay\n",
    "\n",
    "    2. row_attrs (add_row_attr / del_row_attr):\n",
    "        dictionary which contains 'barcode' as one of\n",
    "        the keys. All the values must be of the same\n",
    "        length i.e. match the number of barcodes\n",
    "        This is the attribute where 'label', 'pca',\n",
    "        and 'umap' values are added\n",
    "\n",
    "    3. col_attrs (add_col_attr / del_col_attr):\n",
    "        dictionary which contains 'ids' as one of\n",
    "        the keys. All the values must be of the same\n",
    "        length i.e. match the number ids\n",
    "        'ids' contains variants for DNA assays\n",
    "        and anitobides for Protein assays\n",
    "\n",
    "    4. layers (add_layer / del_layer):\n",
    "        dictionary containing 'read_counts' as one of \n",
    "        the metrics. All the values have the shape\n",
    "        (num barcodes) x (num ids). This is the attribute\n",
    "        where 'normalized_counts' will be added\n",
    "\n",
    "[Sample](https://missionbio.github.io/mosaic/pages/missionbio.mosaic.sample.Sample.html) holds the [Dna](https://missionbio.github.io/mosaic/pages/missionbio.mosaic.dna.Dna.html) and [Protein](https://missionbio.github.io/mosaic/pages/missionbio.mosaic.protein.Protein.html) information\n",
    "    \n",
    "\n"
   ]
  },
  {
   "cell_type": "code",
   "execution_count": null,
   "metadata": {
    "hidden": true
   },
   "outputs": [],
   "source": [
    "sample.protein"
   ]
  },
  {
   "cell_type": "code",
   "execution_count": null,
   "metadata": {
    "hidden": true
   },
   "outputs": [],
   "source": [
    "sample.protein.metadata"
   ]
  },
  {
   "cell_type": "code",
   "execution_count": null,
   "metadata": {
    "hidden": true
   },
   "outputs": [],
   "source": [
    "sample.protein.row_attrs"
   ]
  },
  {
   "cell_type": "code",
   "execution_count": null,
   "metadata": {
    "hidden": true
   },
   "outputs": [],
   "source": [
    "sample.protein.ids()"
   ]
  },
  {
   "cell_type": "code",
   "execution_count": null,
   "metadata": {
    "hidden": true,
    "scrolled": true
   },
   "outputs": [],
   "source": [
    "sample.dna.layers"
   ]
  },
  {
   "cell_type": "markdown",
   "metadata": {
    "hidden": true
   },
   "source": [
    "[Go to the top](#Data-Structure)"
   ]
  },
  {
   "cell_type": "markdown",
   "metadata": {
    "heading_collapsed": true
   },
   "source": [
    "### DNA Analysis"
   ]
  },
  {
   "cell_type": "markdown",
   "metadata": {
    "hidden": true
   },
   "source": [
    "<b>Topcis covered</b><br>\n",
    "1. Whitelist of variants\n",
    "2. Manually selecting variants"
   ]
  },
  {
   "cell_type": "markdown",
   "metadata": {
    "heading_collapsed": true,
    "hidden": true
   },
   "source": [
    "#### Basic filtering"
   ]
  },
  {
   "cell_type": "markdown",
   "metadata": {
    "hidden": true
   },
   "source": [
    "    Many filtering options are available\n",
    "    use the documentation shared earlier,\n",
    "    or the help() function to get the same\n",
    "    information here"
   ]
  },
  {
   "cell_type": "code",
   "execution_count": null,
   "metadata": {
    "hidden": true
   },
   "outputs": [],
   "source": [
    "help(sample.dna.filter_variants)"
   ]
  },
  {
   "cell_type": "code",
   "execution_count": null,
   "metadata": {
    "hidden": true
   },
   "outputs": [],
   "source": [
    "# Filter variants\n",
    "# This is the default insights filtering method\n",
    "\n",
    "dna_vars = sample.dna.filter_variants()\n",
    "dna_vars"
   ]
  },
  {
   "cell_type": "code",
   "execution_count": null,
   "metadata": {
    "hidden": true
   },
   "outputs": [],
   "source": [
    "# Check the number of filtered variants\n",
    "\n",
    "len(dna_vars)"
   ]
  },
  {
   "cell_type": "markdown",
   "metadata": {
    "heading_collapsed": true,
    "hidden": true
   },
   "source": [
    "#### Whitelist"
   ]
  },
  {
   "cell_type": "markdown",
   "metadata": {
    "hidden": true
   },
   "source": [
    "    Simply appnding the whitelist to the list of filtered\n",
    "    variants is sufficient to then select the variants\n",
    "    using the slice notation\n",
    "    \n",
    "    i.e. sample.dna[{list of barcodes}, {list of ids}]"
   ]
  },
  {
   "cell_type": "code",
   "execution_count": null,
   "metadata": {
    "hidden": true
   },
   "outputs": [],
   "source": [
    "whitelist = ['chr1:115256513:G/A', 'chr21:44514718:C/T']"
   ]
  },
  {
   "cell_type": "code",
   "execution_count": null,
   "metadata": {
    "hidden": true
   },
   "outputs": [],
   "source": [
    "final_vars = whitelist + list(dna_vars)"
   ]
  },
  {
   "cell_type": "code",
   "execution_count": null,
   "metadata": {
    "hidden": true
   },
   "outputs": [],
   "source": [
    "len(final_vars)"
   ]
  },
  {
   "cell_type": "code",
   "execution_count": null,
   "metadata": {
    "hidden": true
   },
   "outputs": [],
   "source": [
    "# Selecting all cells and final variants\n",
    "\n",
    "sample.dna = sample.dna[sample.dna.barcodes(), final_vars]"
   ]
  },
  {
   "cell_type": "code",
   "execution_count": null,
   "metadata": {
    "hidden": true
   },
   "outputs": [],
   "source": [
    "# Check the shape i.e. (Number of barcodes, number of ids)\n",
    "# of the final filtered dna object\n",
    "\n",
    "sample.dna.shape"
   ]
  },
  {
   "cell_type": "markdown",
   "metadata": {
    "heading_collapsed": true,
    "hidden": true
   },
   "source": [
    "#### Manual variant selection"
   ]
  },
  {
   "cell_type": "markdown",
   "metadata": {
    "hidden": true
   },
   "source": [
    "    Heatmaps are interactive. Clicking on it selects\n",
    "    the corresponding id whose value is stored in the\n",
    "    `selected_ids` attribute of the object\n",
    "    \n",
    "    eg. sample.dna.selected_ids"
   ]
  },
  {
   "cell_type": "code",
   "execution_count": null,
   "metadata": {
    "hidden": true
   },
   "outputs": [],
   "source": [
    "sample.dna.stripplot(attribute='AF', colorby='GQ')"
   ]
  },
  {
   "cell_type": "code",
   "execution_count": null,
   "metadata": {
    "hidden": true
   },
   "outputs": [],
   "source": [
    "sample.dna.heatmap(attribute='AF')"
   ]
  },
  {
   "cell_type": "code",
   "execution_count": null,
   "metadata": {
    "hidden": true
   },
   "outputs": [],
   "source": [
    "if len(sample.dna.selected_ids) > 0:\n",
    "    sample.dna = sample.dna.drop(sample.dna.selected_ids)"
   ]
  },
  {
   "cell_type": "markdown",
   "metadata": {
    "heading_collapsed": true,
    "hidden": true
   },
   "source": [
    "#### Clustering"
   ]
  },
  {
   "cell_type": "markdown",
   "metadata": {
    "hidden": true
   },
   "source": [
    "    DNA has a custom clustering method called `find_clones`\n",
    "    \n",
    "    It projects the data on a UMAP and then performs\n",
    "    dbscan to identify unique clusters, which are then\n",
    "    merged in case they were formed due to missing\n",
    "    information"
   ]
  },
  {
   "cell_type": "code",
   "execution_count": null,
   "metadata": {
    "hidden": true
   },
   "outputs": [],
   "source": [
    "sample.dna.find_clones()"
   ]
  },
  {
   "cell_type": "code",
   "execution_count": null,
   "metadata": {
    "hidden": true
   },
   "outputs": [],
   "source": [
    "sample.dna.row_attrs"
   ]
  },
  {
   "cell_type": "code",
   "execution_count": null,
   "metadata": {
    "hidden": true
   },
   "outputs": [],
   "source": [
    "sample.dna.scatterplot(attribute='umap', colorby='label')"
   ]
  },
  {
   "cell_type": "code",
   "execution_count": null,
   "metadata": {
    "hidden": true
   },
   "outputs": [],
   "source": [
    "# AF_MISSING is the same as the AF layer except that it stores the missing values as -50 instead of 0\n",
    "\n",
    "sample.dna.heatmap('AF_MISSING')"
   ]
  },
  {
   "cell_type": "markdown",
   "metadata": {
    "heading_collapsed": true,
    "hidden": true
   },
   "source": [
    "#### Conclusion"
   ]
  },
  {
   "cell_type": "markdown",
   "metadata": {
    "hidden": true
   },
   "source": [
    "    1. Basic filtering of barcodes ids demonstrated\n",
    "    2. Basic DNA filtering functionality showcased\n",
    "    \n",
    "[Go to the top](#DNA-Analysis)"
   ]
  },
  {
   "cell_type": "markdown",
   "metadata": {
    "heading_collapsed": true
   },
   "source": [
    "### CNV Analysis"
   ]
  },
  {
   "cell_type": "markdown",
   "metadata": {
    "hidden": true
   },
   "source": [
    "Preliminary heatmap of CNV shows that there could be two clusters\n",
    "\n",
    "<b>Topics covered</b>\n",
    "1. Dimension reduction options and their effects"
   ]
  },
  {
   "cell_type": "markdown",
   "metadata": {
    "heading_collapsed": true,
    "hidden": true
   },
   "source": [
    "#### Observation"
   ]
  },
  {
   "cell_type": "code",
   "execution_count": null,
   "metadata": {
    "hidden": true
   },
   "outputs": [],
   "source": [
    "sample.cnv.normalize_reads()\n",
    "sample.cnv.heatmap(attribute='normalized_counts')"
   ]
  },
  {
   "cell_type": "markdown",
   "metadata": {
    "heading_collapsed": true,
    "hidden": true
   },
   "source": [
    "#### PCA options"
   ]
  },
  {
   "cell_type": "markdown",
   "metadata": {
    "hidden": true
   },
   "source": [
    "    Here the UMAP options are kept constant\n",
    "    The only parameter in PCA is the number of components\n",
    "\n",
    "    Here we see how to determine this value, and the effect\n",
    "    when we deviate from this value"
   ]
  },
  {
   "cell_type": "code",
   "execution_count": null,
   "metadata": {
    "hidden": true
   },
   "outputs": [],
   "source": [
    "sample.cnv.run_pca(attribute='normalized_counts', components=6, show_plot=True)\n",
    "sample.cnv.run_umap(attribute='pca', min_dist=0, n_neighbors=100)"
   ]
  },
  {
   "cell_type": "raw",
   "metadata": {
    "hidden": true
   },
   "source": [
    "# Too many PCA components\n",
    "\n",
    "sample.cnv.run_pca(attribute='normalized_counts', components=15)\n",
    "sample.cnv.run_umap(attribute='pca', min_dist=0, n_neighbors=100)"
   ]
  },
  {
   "cell_type": "raw",
   "metadata": {
    "hidden": true
   },
   "source": [
    "# Too few PCA components\n",
    "\n",
    "sample.cnv.run_pca(attribute='normalized_counts', components=3)\n",
    "sample.cnv.run_umap(attribute='pca', min_dist=0, n_neighbors=100)"
   ]
  },
  {
   "cell_type": "markdown",
   "metadata": {
    "heading_collapsed": true,
    "hidden": true
   },
   "source": [
    "#### Visualization"
   ]
  },
  {
   "cell_type": "markdown",
   "metadata": {
    "hidden": true
   },
   "source": [
    "    The result of the dimension reduction analysis is\n",
    "    visualized using a scatterplot of the umap"
   ]
  },
  {
   "cell_type": "code",
   "execution_count": null,
   "metadata": {
    "hidden": true
   },
   "outputs": [],
   "source": [
    "sample.cnv.cluster(attribute='umap', method='dbscan', eps=0.55)"
   ]
  },
  {
   "cell_type": "code",
   "execution_count": null,
   "metadata": {
    "hidden": true
   },
   "outputs": [],
   "source": [
    "sample.cnv.scatterplot(attribute='umap', colorby='label')"
   ]
  },
  {
   "cell_type": "markdown",
   "metadata": {
    "heading_collapsed": true,
    "hidden": true
   },
   "source": [
    "#### CNV Conclusion"
   ]
  },
  {
   "cell_type": "markdown",
   "metadata": {
    "hidden": true
   },
   "source": [
    "    Given all other variables are kept constant\n",
    "\n",
    "    1. Too many PCA components may result in merging of clusters\n",
    "    2. Too few PCA component may result in splitting of clusters\n",
    "    3. The appropriate number of components can be determined using the elbow plot\n",
    "    \n",
    "[Go to the top](#CNV-Analysis)"
   ]
  },
  {
   "cell_type": "markdown",
   "metadata": {
    "heading_collapsed": true
   },
   "source": [
    "### Protein Analysis"
   ]
  },
  {
   "cell_type": "markdown",
   "metadata": {
    "hidden": true
   },
   "source": [
    "<b>Topics covered</b>\n",
    "1. Basic workflow\n",
    "2. Custom clustering eg. selection on biaxial plot\n",
    "3. Custom methods by adding layers"
   ]
  },
  {
   "cell_type": "markdown",
   "metadata": {
    "heading_collapsed": true,
    "hidden": true
   },
   "source": [
    "#### Basic workflow"
   ]
  },
  {
   "cell_type": "code",
   "execution_count": null,
   "metadata": {
    "hidden": true
   },
   "outputs": [],
   "source": [
    "# Downsampling and clustering similar to CNV\n",
    "\n",
    "sample.protein.normalize_reads('CLR')\n",
    "sample.protein.run_pca(attribute='normalized_counts', components=5)\n",
    "sample.protein.run_umap(attribute='pca')\n",
    "\n",
    "sample.protein.cluster(attribute='pca', method='graph-community', k=100)"
   ]
  },
  {
   "cell_type": "code",
   "execution_count": null,
   "metadata": {
    "hidden": true
   },
   "outputs": [],
   "source": [
    "sample.protein.heatmap(attribute='normalized_counts')"
   ]
  },
  {
   "cell_type": "code",
   "execution_count": null,
   "metadata": {
    "hidden": true
   },
   "outputs": [],
   "source": [
    "sample.protein.scatterplot(attribute='umap', colorby='label')"
   ]
  },
  {
   "cell_type": "code",
   "execution_count": null,
   "metadata": {
    "hidden": true
   },
   "outputs": [],
   "source": [
    "# Re cluster based on the observations from the UMAP\n",
    "\n",
    "sample.protein.cluster(attribute='umap', method='dbscan')"
   ]
  },
  {
   "cell_type": "code",
   "execution_count": null,
   "metadata": {},
   "outputs": [],
   "source": [
    "sample.protein.ids()[:1]"
   ]
  },
  {
   "cell_type": "code",
   "execution_count": null,
   "metadata": {
    "hidden": true
   },
   "outputs": [],
   "source": [
    "# Prefered way to look at protein expression profiles\n",
    "\n",
    "features = [\"CD110\"]\n",
    "\n",
    "sample.protein.ridgeplot(attribute='normalized_counts',\n",
    "                         splitby='label',\n",
    "                         features=features)"
   ]
  },
  {
   "cell_type": "code",
   "execution_count": null,
   "metadata": {
    "hidden": true
   },
   "outputs": [],
   "source": [
    "# UMAP with the expression for each of the selected protein overlayed\n",
    "# In case of error, make sure that ids have been selected on the heatmap and shown in sample.protein.selected_ids\n",
    "\n",
    "sample.protein.scatterplot(attribute='umap',\n",
    "                           colorby='normalized_counts',\n",
    "                           features=['CD34', 'CD44', 'HLA-DR'])"
   ]
  },
  {
   "cell_type": "markdown",
   "metadata": {
    "heading_collapsed": true,
    "hidden": true
   },
   "source": [
    "#### Custom clustering"
   ]
  },
  {
   "cell_type": "markdown",
   "metadata": {
    "hidden": true
   },
   "source": [
    "    When `colorby` is not provided for any scatterplot\n",
    "    the lasso tool can be used to cluster the cells\n",
    "    based on the selection made"
   ]
  },
  {
   "cell_type": "code",
   "execution_count": null,
   "metadata": {
    "hidden": true
   },
   "outputs": [],
   "source": [
    "# Selction on biaxial scatterplot\n",
    "# The same can be done for the UMAP when labels=False is passed\n",
    "\n",
    "sample.protein.feature_scatter(layer='normalized_counts',\n",
    "                               ids=['CD90', 'CD3'])"
   ]
  },
  {
   "cell_type": "raw",
   "metadata": {
    "hidden": true
   },
   "source": [
    "# Set the labels based on the selection in the above plot\n",
    "\n",
    "sample.protein.set_selected_labels()"
   ]
  },
  {
   "cell_type": "markdown",
   "metadata": {
    "heading_collapsed": true,
    "hidden": true
   },
   "source": [
    "#### Custom methods by adding layers"
   ]
  },
  {
   "cell_type": "markdown",
   "metadata": {
    "hidden": true
   },
   "source": [
    "    If someone is interested in trying their methods,\n",
    "    they can simply modify the appropriate layers, attributes\n",
    "    and metadata to plugin their step in this workflow"
   ]
  },
  {
   "cell_type": "code",
   "execution_count": null,
   "metadata": {
    "hidden": true
   },
   "outputs": [],
   "source": [
    "# Custom normalization by changing the `normalized_counts` layer\n",
    "\n",
    "import numpy as np\n",
    "\n",
    "log_reads = np.log10(10 + sample.protein.layers['read_counts'])\n",
    "norm = np.divide(log_reads, log_reads.mean(axis=1).reshape(-1, 1))\n",
    "\n",
    "\n",
    "sample.protein.add_layer('normalized_counts', norm)"
   ]
  },
  {
   "cell_type": "markdown",
   "metadata": {
    "hidden": true
   },
   "source": [
    "    Other examples include:\n",
    "    \n",
    "    custom labels -> 'label' row_attr\n",
    "    custom palette -> 'palette' metadata   "
   ]
  },
  {
   "cell_type": "markdown",
   "metadata": {
    "heading_collapsed": true,
    "hidden": true
   },
   "source": [
    "#### Protein Conclusion"
   ]
  },
  {
   "cell_type": "markdown",
   "metadata": {
    "hidden": true
   },
   "source": [
    "    1. Protein analysis workflow similar to CNV\n",
    "    2. Different clustering methods can result in\n",
    "       different types of clusters being identified\n",
    "    3. It is possible to have custom clustering for\n",
    "       any scatterplot by using the lasso tool\n",
    "    4. Custom analysis is possible by modifying appropriate\n",
    "       layers, attributes and metadata\n",
    "       \n",
    "[Go to the top](#Protein-Analysis)"
   ]
  },
  {
   "cell_type": "markdown",
   "metadata": {
    "heading_collapsed": true
   },
   "source": [
    "### Statistical Significance"
   ]
  },
  {
   "cell_type": "markdown",
   "metadata": {
    "hidden": true
   },
   "source": [
    "    The significane of differential expression\n",
    "    based on a t-test can be looked at using\n",
    "    the `feature_signature` method"
   ]
  },
  {
   "cell_type": "code",
   "execution_count": null,
   "metadata": {
    "scrolled": true
   },
   "outputs": [],
   "source": [
    "dir(sample.protein)"
   ]
  },
  {
   "cell_type": "code",
   "execution_count": null,
   "metadata": {
    "hidden": true
   },
   "outputs": [],
   "source": [
    "pval, tstat = sample.protein.test_signature(attribute='normalized_counts')"
   ]
  },
  {
   "cell_type": "code",
   "execution_count": null,
   "metadata": {
    "hidden": true
   },
   "outputs": [],
   "source": [
    "pval"
   ]
  },
  {
   "cell_type": "code",
   "execution_count": null,
   "metadata": {
    "hidden": true
   },
   "outputs": [],
   "source": [
    "pval = pval + 10 ** -50 + pval\n",
    "pvals = -np.log10(pval) * (tstat > 0)"
   ]
  },
  {
   "cell_type": "code",
   "execution_count": null,
   "metadata": {
    "hidden": true
   },
   "outputs": [],
   "source": [
    "import matplotlib.pyplot as plt\n",
    "import seaborn as sns\n",
    "\n",
    "plt.figure(figsize=(10, 10))\n",
    "sns.heatmap(pvals.T, vmax=50, vmin=2)"
   ]
  },
  {
   "cell_type": "markdown",
   "metadata": {
    "hidden": true
   },
   "source": [
    "Conclusion\n",
    "\n",
    "Statistical significance of the differential expression<br>\n",
    "can be ascertained. Median values can be explored for DNA<br>\n",
    "to determine the difference between clusters.\n",
    "       \n",
    "[Go to the top](#Statistical-Significance)"
   ]
  },
  {
   "cell_type": "markdown",
   "metadata": {
    "heading_collapsed": true
   },
   "source": [
    "### Combined Visualizations"
   ]
  },
  {
   "cell_type": "markdown",
   "metadata": {
    "hidden": true
   },
   "source": [
    "    Visualization for multiple assays at once"
   ]
  },
  {
   "cell_type": "markdown",
   "metadata": {
    "heading_collapsed": true,
    "hidden": true
   },
   "source": [
    "#### Clone vs Analyte"
   ]
  },
  {
   "cell_type": "markdown",
   "metadata": {
    "heading_collapsed": true,
    "hidden": true
   },
   "source": [
    "##### CNV"
   ]
  },
  {
   "cell_type": "code",
   "execution_count": null,
   "metadata": {
    "hidden": true
   },
   "outputs": [],
   "source": [
    "sample.clone_vs_analyte('cnv')"
   ]
  },
  {
   "cell_type": "markdown",
   "metadata": {
    "heading_collapsed": true,
    "hidden": true
   },
   "source": [
    "##### Protein"
   ]
  },
  {
   "cell_type": "code",
   "execution_count": null,
   "metadata": {
    "hidden": true,
    "scrolled": false
   },
   "outputs": [],
   "source": [
    "sample.clone_vs_analyte('protein')"
   ]
  },
  {
   "cell_type": "code",
   "execution_count": null,
   "metadata": {
    "hidden": true
   },
   "outputs": [],
   "source": [
    "# Filtering protein and cnv to improve the visualization\n",
    "\n",
    "sample.protein = sample.protein[:, ['CD3', 'CD90']]\n",
    "sample.cnv = sample.cnv[:, 58:85]\n",
    "sample.clone_vs_analyte('protein')"
   ]
  },
  {
   "cell_type": "code",
   "execution_count": null,
   "metadata": {
    "hidden": true
   },
   "outputs": [],
   "source": [
    "# Certain clones can also be dropped, but they must be dropped from all assays\n",
    "# Hence the sample object is sliced in this case\n",
    "# In this case it is better to store the new sample in a separate variable\n",
    "\n",
    "# This returns the dna barcodes with the given labels\n",
    "select_bars = sample.dna.barcodes(['2', '3', '4'])\n",
    "\n",
    "sample_subset = sample[select_bars]\n",
    "sample_subset.clone_vs_analyte('protein')"
   ]
  },
  {
   "cell_type": "code",
   "execution_count": null,
   "metadata": {
    "hidden": true
   },
   "outputs": [],
   "source": [
    "# The ids can also be reset to the entire set\n",
    "\n",
    "sample.reset('cnv')\n",
    "sample.reset('protein')\n",
    "sample.clone_vs_analyte('protein')"
   ]
  },
  {
   "cell_type": "markdown",
   "metadata": {
    "heading_collapsed": true,
    "hidden": true
   },
   "source": [
    "#### Multi assay heatmap"
   ]
  },
  {
   "cell_type": "code",
   "execution_count": null,
   "metadata": {
    "hidden": true
   },
   "outputs": [],
   "source": [
    "sample.heatmap(clusterby='dna', sortby='protein', drop='cnv', flatten=False)\n",
    "\n",
    "# Try the following\n",
    "# sample.heatmap(clusterby='dna', sortby='protein', drop='cnv', flatten=True)\n",
    "# sample.heatmap(clusterby='protein', sortby='dna', drop='cnv', flatten=False)\n",
    "# sample.heatmap(clusterby='dna', sortby='protein', flatten=False)"
   ]
  },
  {
   "cell_type": "markdown",
   "metadata": {
    "hidden": true
   },
   "source": [
    "[Go to the top](#Combined-Visualizations)"
   ]
  },
  {
   "cell_type": "markdown",
   "metadata": {
    "heading_collapsed": true
   },
   "source": [
    "### Saving"
   ]
  },
  {
   "cell_type": "markdown",
   "metadata": {
    "hidden": true
   },
   "source": [
    "    The analysis can be saved to an h5 file.\n",
    "    This final trimmed file will be much smaller than the original h5 file.\n",
    "    It can be opened in Insights, or back again in Mosaic"
   ]
  },
  {
   "cell_type": "code",
   "execution_count": null,
   "metadata": {
    "hidden": true
   },
   "outputs": [],
   "source": [
    "ms.save(sample, './basics.analyzed.h5')"
   ]
  },
  {
   "cell_type": "markdown",
   "metadata": {
    "hidden": true
   },
   "source": [
    "    Data from h5 files can be efficiently manipulated,\n",
    "    visualized, and inferred using Mosaic."
   ]
  }
 ],
 "metadata": {
  "kernelspec": {
   "display_name": "Python 3",
   "language": "python",
   "name": "python3"
  },
  "language_info": {
   "codemirror_mode": {
    "name": "ipython",
    "version": 3
   },
   "file_extension": ".py",
   "mimetype": "text/x-python",
   "name": "python",
   "nbconvert_exporter": "python",
   "pygments_lexer": "ipython3",
   "version": "3.8.5"
  },
  "toc": {
   "base_numbering": 1,
   "nav_menu": {},
   "number_sections": true,
   "sideBar": true,
   "skip_h1_title": false,
   "title_cell": "Table of Contents",
   "title_sidebar": "Contents",
   "toc_cell": false,
   "toc_position": {
    "height": "calc(100% - 180px)",
    "left": "10px",
    "top": "150px",
    "width": "286px"
   },
   "toc_section_display": true,
   "toc_window_display": false
  },
  "varInspector": {
   "cols": {
    "lenName": 16,
    "lenType": 16,
    "lenVar": 40
   },
   "kernels_config": {
    "python": {
     "delete_cmd_postfix": "",
     "delete_cmd_prefix": "del ",
     "library": "var_list.py",
     "varRefreshCmd": "print(var_dic_list())"
    },
    "r": {
     "delete_cmd_postfix": ") ",
     "delete_cmd_prefix": "rm(",
     "library": "var_list.r",
     "varRefreshCmd": "cat(var_dic_list()) "
    }
   },
   "types_to_exclude": [
    "module",
    "function",
    "builtin_function_or_method",
    "instance",
    "_Feature"
   ],
   "window_display": false
  }
 },
 "nbformat": 4,
 "nbformat_minor": 4
}

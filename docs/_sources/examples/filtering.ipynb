{
 "cells": [
  {
   "cell_type": "markdown",
   "metadata": {},
   "source": [
    "# Filtering barcodes and ids"
   ]
  },
  {
   "cell_type": "markdown",
   "metadata": {},
   "source": [
    "<b>Objective</b>\n",
    "\n",
    "This vignette describes how data can be filtered in Mosaic.<br>\n",
    "filtering barcodes and filtering ids both are covered.\n",
    "\n",
    "The h5 file used in this notebook can be found [here](https://github.com/MissionBio/mosaic-jupyter/tree/master/filtering)"
   ]
  },
  {
   "cell_type": "code",
   "execution_count": null,
   "metadata": {},
   "outputs": [],
   "source": [
    "# Import mosaic and load the data\n",
    "\n",
    "import missionbio.mosaic as ms\n",
    "\n",
    "sample = ms.load_example_dataset(\"3 cell mix\")"
   ]
  },
  {
   "cell_type": "markdown",
   "metadata": {},
   "source": [
    "This is an analyzed h5 file. Hence the clones and clusters<br>\n",
    "are already labeled. It contains three cell lines KG-1,<br>\n",
    "Tom-1, and Jurkat. It also contains doublets of each pair<br>\n",
    "as seen in the heatmap."
   ]
  },
  {
   "cell_type": "code",
   "execution_count": null,
   "metadata": {
    "scrolled": true
   },
   "outputs": [],
   "source": [
    "sample.dna.heatmap('NGT')"
   ]
  },
  {
   "cell_type": "markdown",
   "metadata": {
    "heading_collapsed": true
   },
   "source": [
    "### Filtering assays"
   ]
  },
  {
   "cell_type": "markdown",
   "metadata": {
    "hidden": true
   },
   "source": [
    "Each assay and sample in Mosaic can be filtered<br>\n",
    "using the slice notation in Python. There is also<br>\n",
    "the [`drop`](https://missionbio.github.io/mosaic/pages/methods/missionbio.mosaic.assay._Assay.drop.html#missionbio.mosaic.assay._Assay.drop) function in an Assay object which can<br>\n",
    "be used to drop certain barcodes or ids.\n",
    "\n",
    "In case any visualization is needed for a subset of<br>\n",
    "barcodes they can be dropped as follows."
   ]
  },
  {
   "cell_type": "markdown",
   "metadata": {
    "heading_collapsed": true,
    "hidden": true
   },
   "source": [
    "#### Dropping barcodes and IDs"
   ]
  },
  {
   "cell_type": "markdown",
   "metadata": {
    "hidden": true
   },
   "source": [
    "This method is useful if certain barcodes or ids are to be `dropped`"
   ]
  },
  {
   "cell_type": "code",
   "execution_count": null,
   "metadata": {
    "hidden": true
   },
   "outputs": [],
   "source": [
    "# This shows all the labels present in assay\n",
    "set(sample.dna.get_labels())"
   ]
  },
  {
   "cell_type": "code",
   "execution_count": null,
   "metadata": {
    "hidden": true
   },
   "outputs": [],
   "source": [
    "# Since this is an analyzed h5 file we can\n",
    "# retrive all the barcodes labeled as Mixed\n",
    "\n",
    "mixed_barcodes = sample.dna.barcodes('Mixed')\n",
    "dna = sample.dna.drop(mixed_barcodes)\n",
    "set(dna.get_labels())"
   ]
  },
  {
   "cell_type": "code",
   "execution_count": null,
   "metadata": {
    "hidden": true
   },
   "outputs": [],
   "source": [
    "# Ids can be dropped in a similar fashion\n",
    "# The id chosen was a poor quality variant in KG-1 as seen in the heatmap\n",
    "\n",
    "dna = dna.drop(['chr2:25470426:C/T'])"
   ]
  },
  {
   "cell_type": "code",
   "execution_count": null,
   "metadata": {
    "hidden": true,
    "scrolled": false
   },
   "outputs": [],
   "source": [
    "# Once the cells and variants are dropped, we can make the plots as usual\n",
    "# Here the mixed cells and that one id is dropped in the dna object.\n",
    "\n",
    "dna.heatmap('NGT')"
   ]
  },
  {
   "cell_type": "markdown",
   "metadata": {
    "heading_collapsed": true,
    "hidden": true
   },
   "source": [
    "#### Selecting barcodes and IDs"
   ]
  },
  {
   "cell_type": "markdown",
   "metadata": {
    "hidden": true
   },
   "source": [
    "This is useful when only certain barcodes or IDs are to be `selected`"
   ]
  },
  {
   "cell_type": "code",
   "execution_count": null,
   "metadata": {
    "hidden": true
   },
   "outputs": [],
   "source": [
    "# This is an analyzed h5 file, hence Jurkat barcodes can be retrieved here\n",
    "\n",
    "# In the slice notation, the `:` refers to all barcodes or all ids\n",
    "# The first value is the subset of `barcodes` to be chosen,\n",
    "# the second value is the subet of `ids` to be chosen.\n",
    "\n",
    "jurkat_barcodes = sample.dna.barcodes('Jurkat')\n",
    "dna = sample.dna[jurkat_barcodes, :]\n",
    "set(dna.get_labels())  # This dna object only has Jurkat cells"
   ]
  },
  {
   "cell_type": "code",
   "execution_count": null,
   "metadata": {
    "hidden": true
   },
   "outputs": [],
   "source": [
    "# Let's say only two ids of interest are required for a plot\n",
    "# We are reusing the dna object filtered earlier\n",
    "\n",
    "id_of_interest = ['chr2:25458546:C/T', 'chr2:25469502:C/T']\n",
    "dna = dna[:, id_of_interest]\n",
    "dna.ids()  # Has only the two ids selected"
   ]
  },
  {
   "cell_type": "code",
   "execution_count": null,
   "metadata": {
    "hidden": true,
    "scrolled": true
   },
   "outputs": [],
   "source": [
    "# Once the assay has been filtered, it can be plotted\n",
    "# We are now looking at the two selected variants for Jurkat cells only\n",
    "\n",
    "dna.heatmap('NGT')"
   ]
  },
  {
   "cell_type": "markdown",
   "metadata": {
    "heading_collapsed": true
   },
   "source": [
    "### Filtering the entire sample"
   ]
  },
  {
   "cell_type": "markdown",
   "metadata": {
    "hidden": true
   },
   "source": [
    "If some barcodes are to be removed from all assays (DNA, Protein, CNV)<br>\n",
    "then, the sample level slice notation can be used."
   ]
  },
  {
   "cell_type": "code",
   "execution_count": null,
   "metadata": {
    "hidden": true
   },
   "outputs": [],
   "source": [
    "# In this case, only a set of barcodes are required\n",
    "\n",
    "# Choosing only two cell lines\n",
    "cells = sample.dna.barcodes(['KG-1', 'TOM-1', 'Jurkat'])\n",
    "filtered_sample = sample[cells]"
   ]
  },
  {
   "cell_type": "code",
   "execution_count": null,
   "metadata": {
    "hidden": true
   },
   "outputs": [],
   "source": [
    "# This is showing all the variants, but only for the three cell lines\n",
    "\n",
    "filtered_sample.clone_vs_analyte(analyte='protein')"
   ]
  },
  {
   "cell_type": "code",
   "execution_count": null,
   "metadata": {
    "hidden": true
   },
   "outputs": [],
   "source": [
    "# To remove these variants the DNA object has to be filtered\n",
    "# To remove some anitbodies, the protein object has to be filtered\n",
    "\n",
    "variants = ['chr2:25458546:C/T', 'chr2:25469502:C/T']\n",
    "filtered_sample.dna = filtered_sample.dna[:, variants]  # Choosing all cells and two variants\n",
    "\n",
    "abx = ['CD34', 'CD24', 'CD19', 'CD45', 'CD90']\n",
    "filtered_sample.protein = filtered_sample.protein[:, abx]  # Choosing all cells and four antibodies"
   ]
  },
  {
   "cell_type": "code",
   "execution_count": null,
   "metadata": {
    "hidden": true
   },
   "outputs": [],
   "source": [
    "# Now the plot only contains the cells and ids of interest\n",
    "\n",
    "filtered_sample.clone_vs_analyte(analyte='protein')"
   ]
  },
  {
   "cell_type": "code",
   "execution_count": null,
   "metadata": {
    "hidden": true
   },
   "outputs": [],
   "source": [
    "# The filtered sample object can be used for other plots as well\n",
    "\n",
    "filtered_sample.heatmap(clusterby='dna', sortby='dna', drop='cnv', flatten=False)"
   ]
  }
 ],
 "metadata": {
  "kernelspec": {
   "display_name": "Python 3",
   "language": "python",
   "name": "python3"
  },
  "language_info": {
   "codemirror_mode": {
    "name": "ipython",
    "version": 3
   },
   "file_extension": ".py",
   "mimetype": "text/x-python",
   "name": "python",
   "nbconvert_exporter": "python",
   "pygments_lexer": "ipython3",
   "version": "3.8.5"
  },
  "toc": {
   "base_numbering": 1,
   "nav_menu": {},
   "number_sections": true,
   "sideBar": true,
   "skip_h1_title": false,
   "title_cell": "Table of Contents",
   "title_sidebar": "Contents",
   "toc_cell": false,
   "toc_position": {},
   "toc_section_display": true,
   "toc_window_display": true
  },
  "varInspector": {
   "cols": {
    "lenName": 16,
    "lenType": 16,
    "lenVar": 40
   },
   "kernels_config": {
    "python": {
     "delete_cmd_postfix": "",
     "delete_cmd_prefix": "del ",
     "library": "var_list.py",
     "varRefreshCmd": "print(var_dic_list())"
    },
    "r": {
     "delete_cmd_postfix": ") ",
     "delete_cmd_prefix": "rm(",
     "library": "var_list.r",
     "varRefreshCmd": "cat(var_dic_list()) "
    }
   },
   "types_to_exclude": [
    "module",
    "function",
    "builtin_function_or_method",
    "instance",
    "_Feature"
   ],
   "window_display": false
  }
 },
 "nbformat": 4,
 "nbformat_minor": 5
}

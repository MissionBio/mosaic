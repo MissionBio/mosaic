{
 "cells": [
  {
   "cell_type": "markdown",
   "metadata": {},
   "source": [
    "# Multisample analysis"
   ]
  },
  {
   "cell_type": "markdown",
   "metadata": {},
   "source": [
    "### Setup"
   ]
  },
  {
   "cell_type": "code",
   "execution_count": null,
   "metadata": {},
   "outputs": [],
   "source": [
    "import missionbio.mosaic as ms\n",
    "from IPython.core.display import display, HTML"
   ]
  },
  {
   "cell_type": "code",
   "execution_count": null,
   "metadata": {},
   "outputs": [],
   "source": [
    "# Load a multi-sample file\n",
    "# By default, a multi-sample h5 file loads as a SampleGroup object\n",
    "\n",
    "group = ms.load_example_dataset(\"Multisample PBMC\")"
   ]
  },
  {
   "cell_type": "code",
   "execution_count": null,
   "metadata": {},
   "outputs": [],
   "source": [
    "# To analyze one sample at a time access, them using the samples attribute\n",
    "sample = group.samples[1]\n",
    "\n",
    "# These are the samples in the h5 file\n",
    "[s.name for s in group.samples]"
   ]
  },
  {
   "cell_type": "markdown",
   "metadata": {},
   "source": [
    "### Applying functions"
   ]
  },
  {
   "cell_type": "code",
   "execution_count": null,
   "metadata": {
    "scrolled": true
   },
   "outputs": [],
   "source": [
    "# To apply a function across all samples use the `apply` method on the SampleGroup\n",
    "# It returns a list of returned objects for each sample\n",
    "\n",
    "def filt(sample):\n",
    "    filt_vars = sample.dna.filter_variants()\n",
    "    return filt_vars\n",
    "\n",
    "filtered_variants = group.apply(filt)\n",
    "filtered_variants"
   ]
  },
  {
   "cell_type": "code",
   "execution_count": null,
   "metadata": {},
   "outputs": [],
   "source": [
    "# Subset the same variants in all dna assays\n",
    "# It is important to maintain the same variants across all dna assays\n",
    "\n",
    "og_num_vars = [s.dna.shape[1] for s in group.samples]\n",
    "\n",
    "var_union = list(set().union(*filtered_variants))\n",
    "for sample in group:\n",
    "    sample.dna = sample.dna[:, var_union]  # Subsets all samples with the same variants\n",
    "\n",
    "new_num_vars = [s.dna.shape[1] for s in group.samples]\n",
    "\n",
    "print(og_num_vars, new_num_vars)  # Thee old and new number of variants for each sample in the group"
   ]
  },
  {
   "cell_type": "code",
   "execution_count": null,
   "metadata": {
    "scrolled": true
   },
   "outputs": [],
   "source": [
    "# The functions applied on each sample can be more complex - like this assignment and relabeling method\n",
    "# Note the original labels can be uncoordinated across samples in the group\n",
    "# The labels are changed to ensure that each label is for the same clone\n",
    "\n",
    "variants_of_interest = ['chr7:148508833:A/G', 'chr17:29559932:C/A', 'chr4:55599436:T/C']\n",
    "def cluster(sample):\n",
    "    clone_table = sample.dna.group_by_genotype(variants_of_interest)\n",
    "\n",
    "    # Rename labels so that each sample has the same labels\n",
    "    # Here the signature of each variant is used to rename the labels\n",
    "    df = sample.dna.signature(\"NGT\").loc[:, variants_of_interest]\n",
    "    names = df.apply(lambda vs: \"-\".join([str(int(v)) for v in vs]), axis=1)\n",
    "    label_map = {i: n for i, n in names.items()}\n",
    "    del label_map[\"missing\"]\n",
    "    del label_map[\"small\"]\n",
    "\n",
    "    sample.dna.rename_labels(label_map)\n",
    "    clone_table = clone_table.rename(index=label_map)\n",
    "\n",
    "    return clone_table  # Return the clone table\n",
    "\n",
    "tables = group.apply(cluster)\n",
    "\n",
    "[display(HTML(t.to_html())) for t in tables]  # The clone tables for each sample"
   ]
  },
  {
   "cell_type": "markdown",
   "metadata": {},
   "source": [
    "### Drawing figures"
   ]
  },
  {
   "cell_type": "code",
   "execution_count": null,
   "metadata": {
    "scrolled": true
   },
   "outputs": [],
   "source": [
    "# Displaying the same plot across all the samples\n",
    "\n",
    "var_order = group.samples[0].dna.clustered_ids(\"AF_MISSING\")\n",
    "for sample in group:\n",
    "    sample.dna.heatmap(\"AF_MISSING\", features=var_order).show()"
   ]
  },
  {
   "cell_type": "code",
   "execution_count": null,
   "metadata": {
    "scrolled": false
   },
   "outputs": [],
   "source": [
    "# Normalize CNV and look for patterns\n",
    "\n",
    "for sample in group:\n",
    "    sample.protein.normalize_reads()\n",
    "    sample.heatmap(clusterby=\"dna\", sortby=\"protein\", drop=\"cnv\", flatten=False).show()"
   ]
  },
  {
   "cell_type": "code",
   "execution_count": null,
   "metadata": {
    "scrolled": true
   },
   "outputs": [],
   "source": [
    "variants_of_interest = ['chr17:29559932:C/A', 'chr4:55599436:T/C', 'chr7:148508833:A/G']\n",
    "proteins_of_interest = ['CD19', \"CD34\", \"CD30\"]\n",
    "clones_of_interest = [\"0-1-1\", \"1-1-2\"]\n",
    "\n",
    "for sample in group:\n",
    "    s = sample[sample.dna.barcodes(clones_of_interest)]\n",
    "    s.dna = s.dna[:, variants_of_interest]\n",
    "    s.protein = s.protein[:, proteins_of_interest]\n",
    "    s.clone_vs_analyte(\"protein\")"
   ]
  },
  {
   "cell_type": "markdown",
   "metadata": {},
   "source": [
    "### Multisample plots"
   ]
  },
  {
   "cell_type": "code",
   "execution_count": null,
   "metadata": {},
   "outputs": [],
   "source": [
    "# Draw a fishplot for the dna labels\n",
    "# From the proportions in the heatmaps - The two clones of interest are 0-1-1 and 2-20\n",
    "\n",
    "group.fishplot(\n",
    "    \"dna\",\n",
    "    sample_order=[\"Sample 1\", \"Sample 2\"],\n",
    "    labels=[\"0-1-1\", \"1-1-2\"],\n",
    "    parents=[None, None]\n",
    ")"
   ]
  },
  {
   "cell_type": "code",
   "execution_count": null,
   "metadata": {},
   "outputs": [],
   "source": [
    "# Draw a barplot for the dna labels\n",
    "\n",
    "group.barplot(\n",
    "    \"dna\",\n",
    "    sample_order=[\"Sample 1\", \"Sample 2\"],\n",
    "    label_order=[\"0-1-1\", \"1-1-2\"],\n",
    "    percentage=True\n",
    ")"
   ]
  }
 ],
 "metadata": {
  "kernelspec": {
   "display_name": "Python 3",
   "language": "python",
   "name": "python3"
  },
  "language_info": {
   "codemirror_mode": {
    "name": "ipython",
    "version": 3
   },
   "file_extension": ".py",
   "mimetype": "text/x-python",
   "name": "python",
   "nbconvert_exporter": "python",
   "pygments_lexer": "ipython3",
   "version": "3.8.5"
  },
  "toc": {
   "base_numbering": 1,
   "nav_menu": {},
   "number_sections": true,
   "sideBar": true,
   "skip_h1_title": false,
   "title_cell": "Table of Contents",
   "title_sidebar": "Contents",
   "toc_cell": false,
   "toc_position": {},
   "toc_section_display": true,
   "toc_window_display": true
  },
  "varInspector": {
   "cols": {
    "lenName": 16,
    "lenType": 16,
    "lenVar": 40
   },
   "kernels_config": {
    "python": {
     "delete_cmd_postfix": "",
     "delete_cmd_prefix": "del ",
     "library": "var_list.py",
     "varRefreshCmd": "print(var_dic_list())"
    },
    "r": {
     "delete_cmd_postfix": ") ",
     "delete_cmd_prefix": "rm(",
     "library": "var_list.r",
     "varRefreshCmd": "cat(var_dic_list()) "
    }
   },
   "types_to_exclude": [
    "module",
    "function",
    "builtin_function_or_method",
    "instance",
    "_Feature"
   ],
   "window_display": false
  }
 },
 "nbformat": 4,
 "nbformat_minor": 5
}

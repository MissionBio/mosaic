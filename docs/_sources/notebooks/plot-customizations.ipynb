{
 "cells": [
  {
   "cell_type": "markdown",
   "id": "d69ffb3b",
   "metadata": {},
   "source": [
    "# Plot customizations"
   ]
  },
  {
   "cell_type": "markdown",
   "id": "ec12a3f1",
   "metadata": {},
   "source": [
    "<b>Objective</b>\n",
    "\n",
    "This vignette contains various snippets of code<br>\n",
    "that show how plots and data can be customized<br>\n",
    "to ones requirements.\n",
    "\n",
    "The h5 file used in this notebook can be found [here](https://github.com/MissionBio/mosaic-jupyter/tree/master/customizations)"
   ]
  },
  {
   "cell_type": "code",
   "execution_count": null,
   "id": "da6c683b",
   "metadata": {
    "ExecuteTime": {
     "end_time": "2023-06-13T18:45:45.451178Z",
     "start_time": "2023-06-13T18:45:39.575281Z"
    }
   },
   "outputs": [],
   "source": [
    "import missionbio.mosaic as ms\n",
    "\n",
    "sample = ms.load_example_dataset('3 cell mix')"
   ]
  },
  {
   "cell_type": "markdown",
   "id": "1ef0f34c",
   "metadata": {},
   "source": [
    "All the interactive plotting functions return a [plotly figure](https://plotly.com/python/figure-structure/). In case the layout or the color<br>\n",
    "scheme is not suitable for your data type, they can be changed before creating the final figure.<br>\n",
    "\n",
    "1. The color for the plots are store either in the individual traces or the layout\n",
    "   attributes of the plotly figure.\n",
    "2. Mosaic also contains a list of colors that can be used to customize the plots.\n",
    "3. Most importantly the mosaic configuration can be modified for certain layers\n",
    "   of the assays, and that will affect the color scale in all plots for those layers"
   ]
  },
  {
   "cell_type": "code",
   "execution_count": null,
   "id": "5e2405ab",
   "metadata": {
    "ExecuteTime": {
     "end_time": "2023-06-13T18:27:32.347326Z",
     "start_time": "2023-06-13T18:27:32.279507Z"
    }
   },
   "outputs": [],
   "source": [
    "# Plot the first few colors\n",
    "import seaborn as sns\n",
    "sns.palplot(ms.COLORS[:21])"
   ]
  },
  {
   "cell_type": "markdown",
   "id": "df84f908",
   "metadata": {},
   "source": [
    "### Configuration options"
   ]
  },
  {
   "cell_type": "code",
   "execution_count": null,
   "id": "989c9f35",
   "metadata": {
    "ExecuteTime": {
     "end_time": "2023-06-13T18:27:32.374466Z",
     "start_time": "2023-06-13T18:27:32.348738Z"
    }
   },
   "outputs": [],
   "source": [
    "# The configuration of the colorscales is stored in ms.Config.Colorscale\n",
    "\n",
    "ms.Config.Colorscale"
   ]
  },
  {
   "cell_type": "code",
   "execution_count": null,
   "id": "50c786b7",
   "metadata": {
    "ExecuteTime": {
     "end_time": "2023-06-13T18:27:32.399995Z",
     "start_time": "2023-06-13T18:27:32.376493Z"
    }
   },
   "outputs": [],
   "source": [
    "# The default values for each assay are stored in the respective options\n",
    "\n",
    "ms.Config.Colorscale.Dna.NGT  # This is the default colorscale for the DNA NGT layer in all plots"
   ]
  },
  {
   "cell_type": "markdown",
   "id": "ef1a3806",
   "metadata": {
    "heading_collapsed": true
   },
   "source": [
    "### Updating the colors for plots"
   ]
  },
  {
   "cell_type": "markdown",
   "id": "358df92d",
   "metadata": {
    "heading_collapsed": true,
    "hidden": true
   },
   "source": [
    "#### Colors of the values"
   ]
  },
  {
   "cell_type": "code",
   "execution_count": null,
   "id": "879210b2",
   "metadata": {
    "ExecuteTime": {
     "end_time": "2023-06-13T18:27:32.829767Z",
     "start_time": "2023-06-13T18:27:32.401237Z"
    },
    "hidden": true
   },
   "outputs": [],
   "source": [
    "# The default color scale for NGT is a monochromatic blue color scheme.\n",
    "\n",
    "sample.dna.heatmap('NGT')"
   ]
  },
  {
   "cell_type": "code",
   "execution_count": null,
   "id": "03451dc9",
   "metadata": {
    "ExecuteTime": {
     "end_time": "2023-06-13T18:27:32.881028Z",
     "start_time": "2023-06-13T18:27:32.830805Z"
    },
    "hidden": true
   },
   "outputs": [],
   "source": [
    "# Assuming these are new desired colors\n",
    "# NGT=0 (WT) - grey\n",
    "# NGT=1 (HET) - brown\n",
    "# NGT=2 (HOM) - purple\n",
    "# NGT=3 (missing) - black\n",
    "\n",
    "wt_col = ms.COLORS[9]\n",
    "het_col = ms.COLORS[5]\n",
    "hom_col = ms.COLORS[4]\n",
    "miss_col = ms.COLORS[-1]\n",
    "\n",
    "sns.palplot([wt_col, het_col, hom_col, miss_col])"
   ]
  },
  {
   "cell_type": "code",
   "execution_count": null,
   "id": "632d619a",
   "metadata": {
    "ExecuteTime": {
     "end_time": "2023-06-13T18:27:32.912994Z",
     "start_time": "2023-06-13T18:27:32.882239Z"
    },
    "hidden": true
   },
   "outputs": [],
   "source": [
    "# Update the coloraxis to make a plot with the new colors\n",
    "\n",
    "ms.Config.Colorscale.Dna.NGT = [\n",
    "    (0 / 4, wt_col), (1 / 4, wt_col),\n",
    "    (1 / 4, het_col), (2 / 4, het_col),\n",
    "    (2 / 4, hom_col), (3 / 4, hom_col),\n",
    "    (3 / 4, miss_col), (4 / 4, miss_col)\n",
    "]"
   ]
  },
  {
   "cell_type": "code",
   "execution_count": null,
   "id": "ce6f40c4",
   "metadata": {
    "ExecuteTime": {
     "end_time": "2023-06-13T18:27:33.071505Z",
     "start_time": "2023-06-13T18:27:32.915027Z"
    }
   },
   "outputs": [],
   "source": [
    "# All subsequent plots using NGT will use the above colorscale\n",
    "\n",
    "sample.dna.heatmap(\"NGT\")"
   ]
  },
  {
   "cell_type": "code",
   "execution_count": null,
   "id": "3b319578",
   "metadata": {
    "ExecuteTime": {
     "end_time": "2023-06-13T18:27:33.486652Z",
     "start_time": "2023-06-13T18:27:33.072847Z"
    },
    "hidden": true
   },
   "outputs": [],
   "source": [
    "# The same method can be used to update scatterplot which are colored by NGT\n",
    "\n",
    "sample.dna.scatterplot('umap', colorby='NGT', features=sample.dna.ids()[:4])"
   ]
  },
  {
   "cell_type": "markdown",
   "id": "5e01d72b",
   "metadata": {
    "hidden": true
   },
   "source": [
    "#### Colors of the labels"
   ]
  },
  {
   "cell_type": "markdown",
   "id": "517ada10",
   "metadata": {
    "hidden": true
   },
   "source": [
    "Now the colors in the heatmap conflict with the colors in the labels. To customize those, the palette can be changed"
   ]
  },
  {
   "cell_type": "code",
   "execution_count": null,
   "id": "b8c145f5",
   "metadata": {
    "ExecuteTime": {
     "end_time": "2023-06-13T18:27:33.529241Z",
     "start_time": "2023-06-13T18:27:33.490072Z"
    },
    "hidden": true
   },
   "outputs": [],
   "source": [
    "# This is the current palette\n",
    "\n",
    "sample.dna.get_palette()"
   ]
  },
  {
   "cell_type": "code",
   "execution_count": null,
   "id": "b202d77c",
   "metadata": {
    "ExecuteTime": {
     "end_time": "2023-06-13T18:27:33.561353Z",
     "start_time": "2023-06-13T18:27:33.530394Z"
    },
    "hidden": true
   },
   "outputs": [],
   "source": [
    "# Update this palette. It is not required to use the built in colors\n",
    "# Any hexadecimal colors can be passed.\n",
    "\n",
    "new_palette = {\n",
    "    'Jurkat': ms.COLORS[3],\n",
    "    'KG-1': ms.COLORS[4],\n",
    "    'Mixed': '#c7c7c7',  # Use hexadecimal colors\n",
    "    'TOM-1': ms.COLORS[5]\n",
    "}\n",
    "\n",
    "\n",
    "sample.dna.set_palette(new_palette)"
   ]
  },
  {
   "cell_type": "code",
   "execution_count": null,
   "id": "e37bf148",
   "metadata": {
    "ExecuteTime": {
     "end_time": "2023-06-13T18:27:33.807770Z",
     "start_time": "2023-06-13T18:27:33.562632Z"
    },
    "hidden": true
   },
   "outputs": [],
   "source": [
    "# Make the heatmap with the new colors\n",
    "\n",
    "sample.dna.heatmap('NGT')"
   ]
  },
  {
   "cell_type": "markdown",
   "id": "7ac95d8f",
   "metadata": {
    "heading_collapsed": true
   },
   "source": [
    "### Scaling the plots"
   ]
  },
  {
   "cell_type": "markdown",
   "id": "b9e3b917",
   "metadata": {
    "hidden": true
   },
   "source": [
    "Often the cnv heatmaps contain too many genes or amplicons to fit in the default layout.<br>\n",
    "This is usually not an issue when they are interactive, but when exporting as static images<br>\n",
    "it hinder the ability to interpret them.\n",
    "\n",
    "Plotly provides an option to convert interactive figures to static images"
   ]
  },
  {
   "cell_type": "code",
   "execution_count": null,
   "id": "16a91d20",
   "metadata": {
    "ExecuteTime": {
     "end_time": "2023-06-13T18:27:38.882228Z",
     "start_time": "2023-06-13T18:27:33.810975Z"
    },
    "hidden": true
   },
   "outputs": [],
   "source": [
    "# Scale the figure width and plot as a static image.\n",
    "# Double click on the plot to zoom-in and improve the resolution\n",
    "\n",
    "import missionbio.mosaic.utils as mutils\n",
    "\n",
    "fig = sample.cnv.heatmap('ploidy', features='genes')\n",
    "fig.layout.width = 1600\n",
    "fig.show(\"jpg\")"
   ]
  },
  {
   "cell_type": "markdown",
   "id": "722da486",
   "metadata": {
    "heading_collapsed": true,
    "hidden": true
   },
   "source": [
    "### Smoothening the values"
   ]
  },
  {
   "cell_type": "markdown",
   "id": "fb236b11",
   "metadata": {
    "hidden": true
   },
   "source": [
    "In case the color scale get skewed to high poidy, a max value can be imposed to generate a more interpretable heatmap\n",
    "\n",
    "The colorscale can also be changed as desired. A list of color scales can be found in the [plotly documentation](https://plotly.com/python/builtin-colorscales/)"
   ]
  },
  {
   "cell_type": "code",
   "execution_count": null,
   "id": "702bc71f",
   "metadata": {
    "ExecuteTime": {
     "end_time": "2023-06-13T18:27:39.463781Z",
     "start_time": "2023-06-13T18:27:38.884231Z"
    },
    "hidden": true
   },
   "outputs": [],
   "source": [
    "# The plots can also be smoothed using a moving average with the convolve parameter\n",
    "\n",
    "sample.cnv.heatmap('ploidy', features='genes', convolve=5)"
   ]
  },
  {
   "cell_type": "markdown",
   "id": "6ab5d5a5",
   "metadata": {
    "heading_collapsed": true
   },
   "source": [
    "### Filtering the data"
   ]
  },
  {
   "cell_type": "markdown",
   "id": "ae05716b",
   "metadata": {
    "hidden": true
   },
   "source": [
    "Often the number of amplicons in CNV might take over the sample level heatmap making the plot uninterpretable. Moreover there might be certain non-differentiating variants and protein in the panel. These can be dropped before making the final heatmap."
   ]
  },
  {
   "cell_type": "code",
   "execution_count": null,
   "id": "2d6443c0",
   "metadata": {
    "ExecuteTime": {
     "end_time": "2023-06-13T18:27:39.498038Z",
     "start_time": "2023-06-13T18:27:39.464878Z"
    },
    "hidden": true
   },
   "outputs": [],
   "source": [
    "# The genes to plot on the sample heatmap\n",
    "\n",
    "genes = ['EZH2', 'TET2']"
   ]
  },
  {
   "cell_type": "code",
   "execution_count": null,
   "id": "5ffa3f5a",
   "metadata": {
    "ExecuteTime": {
     "end_time": "2023-06-13T18:27:42.096385Z",
     "start_time": "2023-06-13T18:27:39.499184Z"
    },
    "hidden": true
   },
   "outputs": [],
   "source": [
    "# When `features` is None, all the ids are clustered and plotted\n",
    "fig = sample.heatmap(\n",
    "    (\"dna\", \"protein\", \"cnv\"),\n",
    "    attributes=(\"NGT\", \"normalized_counts\", \"ploidy\"),\n",
    "    features=(None, None, genes)\n",
    ")\n",
    "\n",
    "# Update the width of the plot [See the section on CNV heatmaps]\n",
    "fig.layout.width = 1600\n",
    "\n",
    "# Show a static plot\n",
    "fig.show(\"jpg\")"
   ]
  },
  {
   "cell_type": "markdown",
   "id": "174b18f1",
   "metadata": {},
   "source": [
    "### Resetting the configuration"
   ]
  },
  {
   "cell_type": "markdown",
   "id": "075332ff",
   "metadata": {},
   "source": [
    "<b>Notice that the DNA colorscale is still the same as the one set in the configuration</b>\n",
    "\n",
    "All configuration values can be reset using the `reset` method."
   ]
  },
  {
   "cell_type": "code",
   "execution_count": null,
   "id": "57a46a17",
   "metadata": {
    "ExecuteTime": {
     "end_time": "2023-06-13T18:27:42.128038Z",
     "start_time": "2023-06-13T18:27:42.097755Z"
    }
   },
   "outputs": [],
   "source": [
    "ms.Config.Colorscale.Dna.reset(\"NGT\")  # This will reset the NGT colorscale\n",
    "\n",
    "# To recursively reset all colorscales of the Dna assay\n",
    "# run the `reset` function of the `Colorscale` option.\n",
    "ms.Config.Colorscale.reset(\"Dna\")\n",
    "\n",
    "ms.Config.Colorscale.reset()  # By skipping the parameter, all values will be reset i.e. Dna, Cnv, and Protein"
   ]
  },
  {
   "cell_type": "code",
   "execution_count": null,
   "id": "ef982544",
   "metadata": {
    "ExecuteTime": {
     "end_time": "2023-06-13T18:27:44.516363Z",
     "start_time": "2023-06-13T18:27:42.131452Z"
    }
   },
   "outputs": [],
   "source": [
    "# Creating the same plot again will \n",
    "fig = sample.heatmap(\n",
    "    (\"dna\", \"protein\", \"cnv\"),\n",
    "    attributes=(\"NGT\", \"normalized_counts\", \"ploidy\"),\n",
    "    features=(None, None, genes)\n",
    ")\n",
    "\n",
    "# Update the width of the plot [See the section on CNV heatmaps]\n",
    "fig.layout.width = 1600\n",
    "\n",
    "# Show a static plot\n",
    "fig.show(\"jpg\")"
   ]
  },
  {
   "cell_type": "markdown",
   "id": "8290e135",
   "metadata": {},
   "source": [
    "### Saving the plots"
   ]
  },
  {
   "cell_type": "markdown",
   "id": "371f3174",
   "metadata": {},
   "source": [
    "All plotly figures can be saved as .jpg, .png, .svg, and .webp formats"
   ]
  },
  {
   "cell_type": "code",
   "execution_count": null,
   "id": "4e4e79ec",
   "metadata": {
    "ExecuteTime": {
     "end_time": "2023-06-13T18:48:22.580545Z",
     "start_time": "2023-06-13T18:48:16.738739Z"
    }
   },
   "outputs": [],
   "source": [
    "fig = sample.dna.heatmap(\"NGT\")\n",
    "\n",
    "fig.write_image(\"./saved_image.pdf\")  # Save as a vector .pdf file\n",
    "fig.write_image(\"./saved_image.svg\")  # Save as a vector .svg file\n",
    "fig.write_image(\"./saved_image.jpg\")  # Save as a .jpeg\n",
    "fig.write_image(\"./saved_image.png\")  # Save as a .png\n",
    "fig.write_image(\"./saved_image.webp\")  # Save as a .webp"
   ]
  }
 ],
 "metadata": {
  "kernelspec": {
   "display_name": "Python 3 (ipykernel)",
   "language": "python",
   "name": "python3"
  },
  "language_info": {
   "codemirror_mode": {
    "name": "ipython",
    "version": 3
   },
   "file_extension": ".py",
   "mimetype": "text/x-python",
   "name": "python",
   "nbconvert_exporter": "python",
   "pygments_lexer": "ipython3",
   "version": "3.8.16"
  },
  "toc": {
   "base_numbering": 1,
   "nav_menu": {},
   "number_sections": true,
   "sideBar": true,
   "skip_h1_title": false,
   "title_cell": "Table of Contents",
   "title_sidebar": "Contents",
   "toc_cell": false,
   "toc_position": {
    "height": "calc(100% - 180px)",
    "left": "10px",
    "top": "150px",
    "width": "384px"
   },
   "toc_section_display": true,
   "toc_window_display": true
  },
  "varInspector": {
   "cols": {
    "lenName": 16,
    "lenType": 16,
    "lenVar": 40
   },
   "kernels_config": {
    "python": {
     "delete_cmd_postfix": "",
     "delete_cmd_prefix": "del ",
     "library": "var_list.py",
     "varRefreshCmd": "print(var_dic_list())"
    },
    "r": {
     "delete_cmd_postfix": ") ",
     "delete_cmd_prefix": "rm(",
     "library": "var_list.r",
     "varRefreshCmd": "cat(var_dic_list()) "
    }
   },
   "types_to_exclude": [
    "module",
    "function",
    "builtin_function_or_method",
    "instance",
    "_Feature"
   ],
   "window_display": false
  }
 },
 "nbformat": 4,
 "nbformat_minor": 5
}

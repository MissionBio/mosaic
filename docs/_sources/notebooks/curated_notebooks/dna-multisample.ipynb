{
 "cells": [
  {
   "cell_type": "markdown",
   "id": "879de7ac-5079-4604-8a60-044f6597edaf",
   "metadata": {},
   "source": [
    "## Multisample DNA-only"
   ]
  },
  {
   "cell_type": "markdown",
   "id": "f03ceac7",
   "metadata": {},
   "source": [
    "<b>This notebook is set up to work with merged h5 files, containing more than one sample, generated with v2 or v3 chemistry. This notebook will only work with Mosaic versions 3.7 and higher.</b>\n",
    "\n",
    "\n",
    "<b>Objective</b>: To showcase the minimum number of steps required for tertiary analysis of DNA (single-cell genotyping and CNV) and explore different ways of visualizing the data.<br>\n",
    "\n",
    "<b>Major questions answered:</b>\n",
    "1. Can we identify DNA clones based on genotypes (SNVs/Indels)?<br>\n",
    "2. How is the clonal structure different between samples?<br>\n",
    "3. Do we detect CNV events (e.g., copy number amplification, copy number loss)?<br>\n",
    "\n",
    "<b>Sections:</b>\n",
    "1. Setup\n",
    "2. Data Structure\n",
    "3. DNA Analysis\n",
    "4. CNV Analysis\n",
    "5. Combined Visualizations\n",
    "6. Export and Save Data\n",
    "7. Appendix\n",
    "\n",
    "<b>Not shown:</b>\n",
    "All available methods and options - documented [here](https://missionbio.github.io/mosaic/index.html)<br>\n",
    "\n"
   ]
  },
  {
   "cell_type": "markdown",
   "id": "e4267a5c",
   "metadata": {},
   "source": [
    "## Setup \n",
    "\n",
    "<b>Topics covered</b><br>\n",
    "1. Loading required packages.\n",
    "2. Loading in data.\n",
    "\n",
    "\n",
    "<b>Load data</b><br>\n",
    "<b>Note:</b> importing dependencies can sometimes take a couple of minutes."
   ]
  },
  {
   "cell_type": "code",
   "execution_count": null,
   "id": "0482fac8",
   "metadata": {},
   "outputs": [],
   "source": [
    "# Import mosaic libraries\n",
    "import missionbio.mosaic as ms\n",
    "\n",
    "# Import these to display entire dataframes\n",
    "from IPython.display import display, HTML\n",
    "\n",
    "# Import graph_objects from the plotly package to display figures when saving the notebook as an HTML\n",
    "import plotly as px\n",
    "import plotly.graph_objects as go\n",
    "\n",
    "# Import additional packages for specific visuals\n",
    "import matplotlib.pyplot as plt\n",
    "import plotly.offline as pyo\n",
    "pyo.init_notebook_mode()\n",
    "import numpy as np\n",
    "import seaborn as sns\n",
    "from missionbio.plotting.multimap import MultiMap\n",
    "from missionbio.plotting.heatmap import Heatmap\n",
    "\n",
    "# Import COMPASS for imputation\n",
    "from missionbio.mosaic.algorithms.compass import COMPASS\n",
    "import pandas as pd\n",
    "\n",
    "# Note: when exporting the notebook as an HTML, plots that use the \"go.Figure(fig)\" command are saved"
   ]
  },
  {
   "cell_type": "code",
   "execution_count": null,
   "id": "8b31552a",
   "metadata": {},
   "outputs": [],
   "source": [
    "# This code is optional, but will make the notebook cells/figures display across the entire width of the browser\n",
    "from IPython.display import display, HTML\n",
    "display(HTML(\"<style>.container { width:100% !important; }</style>\"))"
   ]
  },
  {
   "cell_type": "code",
   "execution_count": null,
   "id": "c12fad9f",
   "metadata": {},
   "outputs": [],
   "source": [
    "# Check version; this notebook is designed for Mosaic v3.7 or higher\n",
    "print(ms.__version__)"
   ]
  },
  {
   "cell_type": "code",
   "execution_count": null,
   "id": "32f60a4b",
   "metadata": {},
   "outputs": [],
   "source": [
    "# Any function's parameters and default values can be looked up via the 'help' function\n",
    "# Here, the function is 'ms.load'\n",
    "help(ms.load)"
   ]
  },
  {
   "cell_type": "markdown",
   "id": "8ece4fe0-af7e-48f1-addc-a2ba81d0f8cd",
   "metadata": {},
   "source": [
    "### <b> Loading the data </b>\n",
    "\n",
    "In the ms.load statement, there are several arguments:\n",
    "- <b> raw </b>: always set raw=False; if raw=True, ALL barcodes will be loaded (rather than cell-associated barcodes)\n",
    "- <b> filter_variants </b>: always set filter_variants=True unless an expected (target) variant cannot be found. Additional filtering options are included in the DNA section below. <b> NOTE </b>: if loading using filter_variants=False, the whitelist may need to set to None or removed from the command, otherwise it may not load variants in\n",
    "- <b> single </b>: always set single=False for multisample/merged h5 files\n",
    "- <b> whitelist </b>: The whitelist option loads any variant that is in the vcf.gz file (e.g. \"chr1:179520511:C/G\"). The whitelist argument takes many variant formats, they are detailed [here](https://missionbio.github.io/mosaic/pages/functions/missionbio.mosaic.io.load.html).\n",
    "- <b> filter_cells </b>: Always set filter_cells=False; if filter_cells=True, only cells called by the completelyness algorithm are loaded "
   ]
  },
  {
   "cell_type": "code",
   "execution_count": null,
   "id": "daa8fb41",
   "metadata": {},
   "outputs": [],
   "source": [
    "# Specify the h5 file to be used in this analysis: h5path = '/path/to/h5/file/test.h5'\n",
    "# If working with Windows, an 'r' may need to be added before the path: h5path = r'/path/to/h5/file/test.h5'\n",
    "h5path = '/Users/botero/Desktop/Sample Data/pbmc.multisample.h5'\n",
    "\n",
    "# Load the data\n",
    "group = ms.load(h5path, raw=False, filter_variants=True, filter_cells=False, whitelist = [])\n",
    "# Print the list of samples in the group object\n",
    "[s.name for s in group.samples]"
   ]
  },
  {
   "cell_type": "markdown",
   "id": "fe5217d1",
   "metadata": {},
   "source": [
    "### <b>Data Structure</b>\n",
    "    \n",
    "DNA, CNV, and Protein are sub-classes of the Assay class. The information is stored in four categories, and the user can modify each of those:\n",
    "\n",
    "<b>1. metadata (add_metadata / del_metadata):</b>\n",
    " - dictionary containing assay parameters and basic performance metrics\n",
    "\n",
    "<b>2. layers (add_layer / del_layer):</b>\n",
    " - dictionary containing matrices of assay metrics\n",
    " - all the matrices have the shape (num barcodes) x (num ids) \n",
    " - for DNA assays, this includes AF, GQ, DP, etc. \n",
    "   (per cell, per variant)\n",
    " - for Protein assays, this includes read counts \n",
    "   (per cell, per antibody)\n",
    " - for CNV assays, this includes read counts\n",
    "   (per cell, per amplicon)\n",
    " \n",
    "<b>3. row_attrs (add_row_attr / del_row_attr):</b>\n",
    " - dictionary containing 'barcode' as one of the keys \n",
    "   (where the value is a list of all barcodes)\n",
    " - for all other keys, the values must be of the same \n",
    "   length, i.e. match the number of barcodes\n",
    " - this is the attribute where 'label', 'pca', \n",
    "   and 'umap' values are added\n",
    "   \n",
    "<b>4. col_attrs (add_col_attr / del_col_attr):</b>\n",
    " - dictionary containing 'id' as one of the keys \n",
    "   (where the value is a list of all ids)\n",
    " - for DNA assays, 'ids' are variants; for Protein assays, \n",
    "   'ids' are antibodies; for CNV assays, 'ids' are amplicons\n",
    " - for all other keys, the values must be of the same\n",
    "   length, i.e. match the number ids\n",
    "\n",
    " "
   ]
  },
  {
   "cell_type": "code",
   "execution_count": null,
   "id": "5acb56f8",
   "metadata": {},
   "outputs": [],
   "source": [
    "# Summary of DNA assay, per sample\n",
    "for sample in group:\n",
    "    print(sample.name)\n",
    "    print(\"\\'sample.dna\\':\", sample.dna, '\\n')\n",
    "    print(\"\\'row_attrs\\':\", \"\\n\\t\", list(sample.dna.row_attrs.keys()), '\\n')\n",
    "    print(\"\\'col_attrs\\':\", \"\\n\\t\", list(sample.dna.col_attrs.keys()), '\\n')\n",
    "    print(\"\\'layers\\':\", \"\\n\\t\", list(sample.dna.layers.keys()), '\\n')\n",
    "    print(\"\\'metadata\\':\", \"\\n\")\n",
    "    for i in list(sample.dna.metadata.keys()):\n",
    "        print(\"\\t\", i, \": \", sample.dna.metadata[i], sep=\"\")\n",
    "    print(\"\\n\")"
   ]
  },
  {
   "cell_type": "code",
   "execution_count": null,
   "id": "3c0a9ae3",
   "metadata": {},
   "outputs": [],
   "source": [
    "# For DNA, ids are variants\n",
    "# sample.dna.ids() is a shortcut for sample.dna.col_attrs['id']\n",
    "for sample in group:\n",
    "    print(sample.name, \"\\n\", sample.dna.ids(), \"\\n\")"
   ]
  },
  {
   "cell_type": "code",
   "execution_count": null,
   "id": "8d074c37-b370-46dc-8c5e-71b91168dd7c",
   "metadata": {},
   "outputs": [],
   "source": [
    "# Summary of CNV assay, per sample\n",
    "for sample in group:\n",
    "    print(\"\\'sample.cnv\\':\", sample.cnv, '\\n')\n",
    "    print(\"\\'row_attrs\\':\", \"\\n\\t\", list(sample.cnv.row_attrs.keys()), '\\n')\n",
    "    print(\"\\'col_attrs\\':\", \"\\n\\t\", list(sample.cnv.col_attrs.keys()), '\\n')\n",
    "    print(\"\\'layers\\':\", \"\\n\\t\", list(sample.cnv.layers.keys()), '\\n')\n",
    "    print(\"\\'metadata\\':\", \"\\n\")\n",
    "    for i in list(sample.cnv.metadata.keys()):\n",
    "        print(\"\\t\", i, \": \", sample.cnv.metadata[i], sep=\"\")\n",
    "    print(\"\\n\")"
   ]
  },
  {
   "cell_type": "code",
   "execution_count": null,
   "id": "9b891149-bc4f-45d3-b607-c1e587b28233",
   "metadata": {},
   "outputs": [],
   "source": [
    "# For CNV, ids are amplicons\n",
    "# sample.cnv.ids() is a shortcut for sample.cnv.col_attrs['id']\n",
    "for sample in group:\n",
    "    print(sample.name, \"\\n\", sample.cnv.ids(), \"\\n\")"
   ]
  },
  {
   "cell_type": "markdown",
   "id": "128602f7",
   "metadata": {},
   "source": [
    "## DNA Analysis\n",
    "<b>Topics covered</b><br>\n",
    "1. Standard filtering of DNA variants.\n",
    "2. Subsetting dataset for variants of interest, including whitelisted variants.\n",
    "3. Addition of annotations to the variants.\n",
    "4. Manual variant selection and clone identification\n",
    "5. Visualizations and customization options\n",
    "\n",
    "### Basic filtering\n",
    "There are many options for filtering DNA variants. \n",
    "Use the `help()` function to understand the approach listed below.\n"
   ]
  },
  {
   "cell_type": "code",
   "execution_count": null,
   "id": "a86afb03",
   "metadata": {},
   "outputs": [],
   "source": [
    "help(sample.dna.filter_variants)"
   ]
  },
  {
   "cell_type": "code",
   "execution_count": null,
   "id": "ecd2fd81",
   "metadata": {},
   "outputs": [],
   "source": [
    "# Adjust filters if needed by overwriting dna_vars\n",
    "def custom_filt(sample):\n",
    "    filt_vars = sample.dna.filter_variants(\n",
    "        min_dp=10,\n",
    "        min_gq=30,\n",
    "        vaf_ref=5,\n",
    "        vaf_hom=95,\n",
    "        vaf_het=30,\n",
    "        min_prct_cells=50,\n",
    "        min_mut_prct_cells=1,\n",
    "        iterations=10\n",
    ")\n",
    "    return filt_vars\n",
    "    \n",
    "dna_vars = group.apply(custom_filt)\n",
    "\n",
    "# List all filtered variants\n",
    "# Check the number of filtered variants\n",
    "for i in range(len(group.samples)):\n",
    "    sample = group.samples[i]\n",
    "    print(sample.name)\n",
    "    print(\"Number of variants:\", len(dna_vars[i]))\n",
    "    print(dna_vars[i], \"\\n\")"
   ]
  },
  {
   "cell_type": "markdown",
   "id": "4abb7681-644e-4d4f-865b-b5db59eb2e3e",
   "metadata": {},
   "source": [
    "<b>Note:</b> Variants that are whitelisted during sample loading may be removed at this step, but can be added back in below. Whitelisted variants can be added to the list of final variants, or used exclusively in the code below."
   ]
  },
  {
   "cell_type": "code",
   "execution_count": null,
   "id": "3de4dcd5-3a09-4c38-809b-f8a7bf063409",
   "metadata": {},
   "outputs": [],
   "source": [
    "# Ensure correct nomenclature, ie whitelist = [\"chr13:28589657:T/G\",\"chrX:39921424:G/A\"]\n",
    "# While the load statement accepts many variant formats, this whitelist does not\n",
    "# If there are no whitelist variants, this can be left blank\n",
    "white_list = []"
   ]
  },
  {
   "cell_type": "code",
   "execution_count": null,
   "id": "b54498e4-0d90-45ff-9773-78c346107035",
   "metadata": {},
   "outputs": [],
   "source": [
    "# Check that whitelist variants are included in current data\n",
    "# Should return true before moving on\n",
    "for sample in group:\n",
    "    print(set(white_list).issubset(set(sample.dna.ids())))"
   ]
  },
  {
   "cell_type": "code",
   "execution_count": null,
   "id": "7d07bf96",
   "metadata": {},
   "outputs": [],
   "source": [
    "# Subset the same variants in all dna assays\n",
    "# It is important to maintain the same variants across all dna assays\n",
    "\n",
    "# Establish the number of variants for each sample\n",
    "og_num_vars = [s.dna.shape[1] for s in group.samples]\n",
    "\n",
    "#Subset all samples to look at the union of all variants, and whitelist variants\n",
    "var_union = list(set().union(*dna_vars,white_list))\n",
    "\n",
    "for sample in group:\n",
    "    sample.dna = sample.dna[:, var_union]  # Subsets all samples with the same variants\n",
    "\n",
    "# Establish the new number of varaints for each sample\n",
    "new_num_vars = [s.dna.shape[1] for s in group.samples]\n",
    "\n",
    "print(og_num_vars, new_num_vars)  # The old and new number of variants for each sample in the group"
   ]
  },
  {
   "cell_type": "code",
   "execution_count": null,
   "id": "b25771ab",
   "metadata": {},
   "outputs": [],
   "source": [
    "# Merge the samples into one data frame, instead of having them as two separate ones\n",
    "combined = group.merge()"
   ]
  },
  {
   "cell_type": "code",
   "execution_count": null,
   "id": "c0809569-dc3a-435f-9d1f-9c74b715eb1c",
   "metadata": {},
   "outputs": [],
   "source": [
    "# List all filtered variants in combined\n",
    "combined.dna.ids()"
   ]
  },
  {
   "cell_type": "code",
   "execution_count": null,
   "id": "58cc072d",
   "metadata": {},
   "outputs": [],
   "source": [
    "# Dimensionality of the original sample.dna dataframe\n",
    "# First number = number of cells (rows); second number = number of variants (columns)\n",
    "combined.dna.shape"
   ]
  },
  {
   "cell_type": "markdown",
   "id": "943601b9",
   "metadata": {},
   "source": [
    "### Annotation Addition\n"
   ]
  },
  {
   "cell_type": "code",
   "execution_count": null,
   "id": "09bf3440",
   "metadata": {},
   "outputs": [],
   "source": [
    "help(sample.dna.get_annotations)"
   ]
  },
  {
   "cell_type": "code",
   "execution_count": null,
   "id": "7cf70f63",
   "metadata": {},
   "outputs": [],
   "source": [
    "# Fetch annotations using varsome\n",
    "# Note: run this on a filtered DNA sample - too many variants (e.g., 100+) are not handled correctly by the method\n",
    "ann = combined.dna.get_annotations()  "
   ]
  },
  {
   "cell_type": "markdown",
   "id": "a50751b9",
   "metadata": {},
   "source": [
    "### Variant selection and Subclone identification\n",
    "\n",
    "In this section of the notebook, all variants remaining in the dataset will populate in a variant table. This table is interactive, variants can be selected, and rows can be sorted by ascending/descending values. The variant name can be clicked on and will navigate to the variant's varsome page in the default browser.\n",
    "1. Variants selected in this table will populate in a subclone table below. \n",
    "2. The variants in the subclone table can be highlighted and assessed for Read Depth, Genotype Quality and Variant Allele Frequency. \n",
    "3. Subclones can be renamed by clicking on the pencil icon. \n",
    "4. <b>ADO score:</b> The ADO score threshold can be adjusted, but by default is set to 1. Any clones with an ADO score higher this will be moved into the \"ADO subclones\" column. We recommend moving any clones with a score of .8 or higher into this column. The algorithm used to generate the score is detailed [here](https://missionbio.github.io/mosaic/pages/methods/missionbio.mosaic.dna.Dna.group_by_genotype.html#missionbio.mosaic.dna.Dna.group_by_genotype).\n",
    "5. <b> Min clone size: </b> The Min Clone Size can also be adjusted, but by default is set to 1. Any clones that represent less than 1% of the sample will be moved into the \"Small Subclones\" column. \n",
    "6. Cells with missing genotype information across any of the selected variants will be moved into the \"Missing GT\" column. "
   ]
  },
  {
   "cell_type": "code",
   "execution_count": null,
   "id": "5cfad026",
   "metadata": {},
   "outputs": [],
   "source": [
    "# Run the variant table workflow to select variants and begin clone identification\n",
    "wfv = ms.workflows.VariantSubcloneTable(combined)\n",
    "wfv.run()\n",
    "# The width can be adjusted if needed for long variant names\n",
    "# wfv.run(width=3000)"
   ]
  },
  {
   "cell_type": "markdown",
   "id": "25c88cc2-8e4e-4fdf-97b0-c820496b9d4c",
   "metadata": {},
   "source": [
    "<b>NOTE:</b> When continuing onto the next piece of the notebook, the workflow will stop working."
   ]
  },
  {
   "cell_type": "code",
   "execution_count": null,
   "id": "10193a54",
   "metadata": {},
   "outputs": [],
   "source": [
    "# Subsample the variants to only the variants selected from the workflow\n",
    "variants = wfv.selected_variants\n",
    "combined.dna = combined.dna[:,variants]\n",
    "\n",
    "# Save the full set of cells to a new variable that can be called on later\n",
    "# Do this before renaming the variants\n",
    "full_combined = combined[:]"
   ]
  },
  {
   "cell_type": "code",
   "execution_count": null,
   "id": "3cf6c9fa",
   "metadata": {},
   "outputs": [],
   "source": [
    "# Rename the variants\n",
    "# Any of these column values can be added to the id names\n",
    "combined.dna.col_attrs.keys()"
   ]
  },
  {
   "cell_type": "code",
   "execution_count": null,
   "id": "9276adbc",
   "metadata": {},
   "outputs": [],
   "source": [
    "# Add annotation to the id names\n",
    "combined.dna.set_ids_from_cols(['annotated Gene', 'id'])\n",
    "\n",
    "# Another example:\n",
    "# sample.dna.set_ids_from_cols(['annotated Gene', 'CHROM', 'POS', 'REF', 'ALT'])\n",
    "\n",
    "# Annotations are now added to the variants\n",
    "combined.dna.ids()\n",
    "\n",
    "# Use sample.dna.reset_ids() to get the original ids"
   ]
  },
  {
   "cell_type": "code",
   "execution_count": null,
   "id": "c155e0b8",
   "metadata": {},
   "outputs": [],
   "source": [
    "# Plot heatmap using NGT_FILTERED\n",
    "fig = combined.dna.heatmap(attribute='NGT_FILTERED')\n",
    "go.Figure(fig)"
   ]
  },
  {
   "cell_type": "code",
   "execution_count": null,
   "id": "0f33655a",
   "metadata": {},
   "outputs": [],
   "source": [
    "# Clone removal\n",
    "# Remove barcodes from the missing GT, small subclones, ADO subclones or FP labels\n",
    "clones = ['missing', 'small', 'ADO', 'FP']\n",
    "for c in clones:\n",
    "    cells = combined.dna.barcodes({c})\n",
    "    if len(cells) > 0:\n",
    "        combined.dna = combined.dna.drop(cells)\n",
    "set(combined.dna.get_labels())"
   ]
  },
  {
   "cell_type": "code",
   "execution_count": null,
   "id": "5a7b1cea-1762-4254-acff-5f3b41ee1596",
   "metadata": {},
   "outputs": [],
   "source": [
    "# If subclones need to be renamed outside of the workflow\n",
    "# The following code can be used:\n",
    "# NOTE: all clones need to be listed for this function to work\n",
    "combined.dna.rename_labels(\n",
    "  {\n",
    "    'current_subclone_name': 'new_subclone_name', \n",
    "    'WT': 'Wild Type',\n",
    "    '3': 'three',\n",
    "    '4': 'four',      \n",
    "  }\n",
    ")"
   ]
  },
  {
   "cell_type": "code",
   "execution_count": null,
   "id": "ef39df79",
   "metadata": {},
   "outputs": [],
   "source": [
    "# Redraw heatmap\n",
    "fig = combined.dna.heatmap(attribute='NGT_FILTERED')\n",
    "go.Figure(fig)"
   ]
  },
  {
   "cell_type": "code",
   "execution_count": null,
   "id": "90958b94",
   "metadata": {},
   "outputs": [],
   "source": [
    "# Redraw heatmap, split by sample\n",
    "fig = combined.dna.heatmap(attribute='NGT_FILTERED', splitby='sample_name')\n",
    "go.Figure(fig)"
   ]
  },
  {
   "cell_type": "code",
   "execution_count": null,
   "id": "1efa0dc4-02af-491a-ba02-f79f696bd720",
   "metadata": {},
   "outputs": [],
   "source": [
    "# Create a DNA heatmap to see both the sample names and the subclone labels\n",
    "# Parameters\n",
    "attribute = 'NGT_FILTERED'\n",
    "assay = combined.dna\n",
    "lab_row1 = \"label\"\n",
    "lab_row2 = \"sample_name\"\n",
    "lab2_title = \"Sample\"\n",
    "\n",
    "# Graphing\n",
    "data = assay.get_attribute(attribute, constraint=\"row+col\")\n",
    "ids = assay.clustered_ids(attribute)\n",
    "labels = pd.concat([assay.get_attribute(lab_row1), assay.get_attribute(lab_row2).rename(columns={\"1\": \"2\"})], axis=1)\n",
    "bars = assay.clustered_barcodes(attribute, splitby=labels)\n",
    "\n",
    "data = data.loc[bars, ids]\n",
    "labs1 = assay.get_attribute(lab_row1, constraint=\"row\").loc[bars, :].values.flatten()\n",
    "labs2 = assay.get_attribute(lab_row2, constraint=\"row\").loc[bars, :].values.flatten()\n",
    "\n",
    "fig = MultiMap([data], labs1, names=[attribute], extra_column_titles=[lab2_title], widths=[1 / 24, 1]).draw()\n",
    "fig.add_trace(Heatmap(data, labs2).label_trace(), row=1, col=2)\n",
    "fig.layout.xaxis2.tickvals = []\n",
    "\n",
    "fig"
   ]
  },
  {
   "cell_type": "code",
   "execution_count": null,
   "id": "2e38d011",
   "metadata": {},
   "outputs": [],
   "source": [
    "# Evaluate new total number of cells after the above filtering\n",
    "combined.dna.shape"
   ]
  },
  {
   "cell_type": "code",
   "execution_count": null,
   "id": "87397da2",
   "metadata": {},
   "outputs": [],
   "source": [
    "# Subset the barcodes to match across all assays\n",
    "# This will return the barcodes common to all assays in the sample.\n",
    "combined.common_barcodes()\n",
    "\n",
    "# Use that to filter the sample so that only the common barcodes are present in all assays\n",
    "combined = combined[combined.common_barcodes()]"
   ]
  },
  {
   "cell_type": "code",
   "execution_count": null,
   "id": "d107f38f",
   "metadata": {},
   "outputs": [],
   "source": [
    "# Split merged object, separate the data into two data frames again\n",
    "# Need to first split the samples: they will go back from combined to group\n",
    "group = ms.SampleGroup(combined.split(\"sample_name\"))"
   ]
  },
  {
   "cell_type": "code",
   "execution_count": null,
   "id": "5f170287",
   "metadata": {},
   "outputs": [],
   "source": [
    "# Multisample DNA barplot\n",
    "fig = group.barplot(\"dna\", percentage=True)\n",
    "\n",
    "#To change the color of certain clones, try something like the following:\n",
    "#fig.data[0].marker.color = \"red\"\n",
    "#fig.data[5].marker.color = \"orange\"\n",
    "fig.update_layout(title = 'Clone size as a percentage of total population')\n",
    "fig.show()"
   ]
  },
  {
   "cell_type": "code",
   "execution_count": null,
   "id": "795a7592",
   "metadata": {},
   "outputs": [],
   "source": [
    "# Fishplot\n",
    "# Multisample DNA fishplot\n",
    "# Order samples in sample_order and fill in the list with their specific name\n",
    "fig = group.fishplot(\"dna\", sample_order=['Sample 1', 'Sample 2'])\n",
    "fig.layout.height = 750\n",
    "fig.show()\n",
    "# Further specify labels and parents to reorganize the fishplot\n",
    "# Want to hide the phylogeny tree? draw_graph=False\n",
    "# Documentation here: https://missionbio.github.io/mosaic/autosummary_pages/methods/missionbio.mosaic.samplegroup.SampleGroup.fishplot.html#missionbio.mosaic.samplegroup.SampleGroup.fishplot"
   ]
  },
  {
   "cell_type": "code",
   "execution_count": null,
   "id": "5c393ae6",
   "metadata": {},
   "outputs": [],
   "source": [
    "# Heatmap per sample\n",
    "for sample in group:\n",
    "    fig = sample.dna.heatmap(attribute='NGT_FILTERED',splitby=\"label\")\n",
    "    fig.update_layout(title = sample.name)\n",
    "    go.Figure(fig)\n",
    "    fig.show()"
   ]
  },
  {
   "cell_type": "code",
   "execution_count": null,
   "id": "82d633d5",
   "metadata": {},
   "outputs": [],
   "source": [
    "# Shape of each sample\n",
    "for sample in group:\n",
    "    print(sample.name, sample.dna.shape)"
   ]
  },
  {
   "cell_type": "markdown",
   "id": "9e9a4dfb",
   "metadata": {},
   "source": [
    "### Adjusting subclone colors or heatmap colors\n",
    "\n",
    "To change the color palette used for the subclones, use `set_palette`. For this provide a list of ALL subclone names, pointing to the hexcode/color to change that subclone to. Note: this function also works with the protein and CNV assays. See below for an example of this.\n",
    "\n",
    "To change the color palette used for any of the assays/layers, use `ms.Config.Colorscale`. Then list the assay and layer, and assign the plotly colorscale to use for those graphics. Visualize all available colorscales by using `plotly.colors.sequential.swatches_continuous().show()`. To reset all color palettes back to their defaults, use `ms.Config.Colorscle.reset()`."
   ]
  },
  {
   "cell_type": "code",
   "execution_count": null,
   "id": "c6adff13",
   "metadata": {},
   "outputs": [],
   "source": [
    "# Example of changing the colors assigned to each clone\n",
    "sample_one = group.samples[0]\n",
    "sample_two = group.samples[1]\n",
    "sample_one.dna.set_palette({\"Clone 1\": \"#800080\", \"Clone 2\": \"#FF69B4\"})\n",
    "sample_two.dna.set_palette({\"Clone 1\": \"#800080\", \"Clone 2\": \"#FF69B4\"})"
   ]
  },
  {
   "cell_type": "code",
   "execution_count": null,
   "id": "89b9dd72",
   "metadata": {},
   "outputs": [],
   "source": [
    "# Change the color of a subclone for the entire group object\n",
    "# These changes will be applied to the barplots and fishplots\n",
    "# Example\n",
    "pal = group.apply(lambda s: s.dna.get_palette())\n",
    "pal = {k: v for d in pal for k, v in d.items()}\n",
    "\n",
    "pal[\"Clone 1\"] = 'LightCyan'\n",
    "pal[\"Clone 2\"] = 'Lavender'\n",
    "pal[\"Clone 3\"] = 'PaleGreen'\n",
    "\n",
    "group.apply(lambda s: s.dna.set_palette(pal))\n",
    "\n",
    "# Built in color options can be found here: https://www.w3schools.com/cssref/css_colors.php"
   ]
  },
  {
   "cell_type": "code",
   "execution_count": null,
   "id": "d55d45e2",
   "metadata": {},
   "outputs": [],
   "source": [
    "# Change colorScale to change the heatmap colors\n",
    "# This will change the color of the dna.ngt layer to be viridis\n",
    "for sample in group:\n",
    "    ms.Config.Colorscale.Dna.NGT = 'viridis'\n",
    "    fig = sample.dna.heatmap('NGT')\n",
    "    fig.update_layout(title = sample.name)\n",
    "    fig.show()\n",
    "\n",
    "# To reset this, run the following to reset just that one modification\n",
    "#ms.Config.Colorscale.Dna.reset(\"NGT\")\n",
    "# Or run this to reset any/all modifications:\n",
    "#ms.Config.Colorscale.reset()\n",
    "# Colorscale cane be changed for DNA, CNV and Protein assays"
   ]
  },
  {
   "cell_type": "markdown",
   "id": "00ba7941",
   "metadata": {},
   "source": [
    "To return back to the original population of cells, reset the data using: `sample.reset(\"dna\")` This command 'sample.reset' works on all assays, including CNV and protein."
   ]
  },
  {
   "cell_type": "markdown",
   "id": "c68c8761",
   "metadata": {},
   "source": [
    "## CNV Analysis\n",
    "\n",
    "<b>Topics covered</b>\n",
    "1. Amplicon and cell filtering and ploidy estimation.\n",
    "2. Visualization of ploidy across subclones present."
   ]
  },
  {
   "cell_type": "code",
   "execution_count": null,
   "id": "bf4f3504",
   "metadata": {},
   "outputs": [],
   "source": [
    "# Get gene names for amplicons\n",
    "for sample in group:\n",
    "    sample.cnv.get_gene_names()"
   ]
  },
  {
   "cell_type": "code",
   "execution_count": null,
   "id": "13686dfd",
   "metadata": {},
   "outputs": [],
   "source": [
    "# Define the samples\n",
    "# Go through the CNV workflow once per sample\n",
    "sample_one = group.samples[0]\n",
    "sample_two = group.samples[1]\n",
    "\n",
    "#Additional lines will be needed if there are more than two samples\n",
    "#sample_three = group.samples[2]"
   ]
  },
  {
   "cell_type": "code",
   "execution_count": null,
   "id": "68edc7bb-83c4-4cac-b502-bd6d0d2d0e44",
   "metadata": {},
   "outputs": [],
   "source": [
    "# Establish the order of the samples in the group object\n",
    "# Note: timepoint one will not automatically be the first sample\n",
    "for sample in group:\n",
    "    print(sample.name)"
   ]
  },
  {
   "cell_type": "markdown",
   "id": "15e03c10",
   "metadata": {},
   "source": [
    "### CNV workflow\n",
    "\n",
    "This workflow will normalize all reads and filter amplicons/cells based on the settings set at the beginning of the workflow: <br>\n",
    "1. <b> Amplicon completeness: </b> refers to the minimum percentage of cells that must have reads greater than or equal to the minimum read depth set. By default this is set to 50. <br>\n",
    "2. <b> Amplicon read depth: </b> refers to the minimum read depth for each amplicon-barcode combination to not be considered missing. By default this is set to 10. <br>\n",
    "3. <b>Mean cell read depth: </b> refers the minimum mean read depth for a cell to be included in the analysis, otherwise the cell will be removed. By default this is set to 40.<br>\n",
    "4. <b>Diploid clone in DNA: </b> refers to which subclone is used as the true diploid population. All ploidy estimates will be calculated in relation to this diploid population. We recommend setting this to the 'WT' population or earliest clone present. <br>\n",
    "    \n",
    "<b> Note: </b> If large copy number events are expected, Amplicon Completeness and Amplicon Read Depth may need to be reduced.\n",
    "\n",
    "Once the above filters are set, the visualizations can be changed. <br>\n",
    "1. <b> Plot:</b> Can be changed from Heatmap positions, to Heatmap genes, Line-plot positions, Line-plot genes <br>\n",
    "2. <b> Clone for line plot:</b> If one of the line-plot visualizations is selected, only one clone can be shown at a time. This determines which one is plotted. <br>\n",
    "3. <b> X-axis features: </b> To plot a subset of the data (chromosomes or genes), select which chromosomes/genes should be plotted with this function. Chromosomes can be selected for 'positions' type plots, and Genes can be selected for 'genes' type plots."
   ]
  },
  {
   "cell_type": "code",
   "execution_count": null,
   "id": "3425c6f4",
   "metadata": {},
   "outputs": [],
   "source": [
    "# CNV workflow to filter, normalize and estimate ploidy\n",
    "wfc = ms.workflows.CopyNumber(sample_one)\n",
    "wfc.run()"
   ]
  },
  {
   "cell_type": "markdown",
   "id": "ab5babb7-e113-4ca2-9a3c-f45372190200",
   "metadata": {},
   "source": [
    "<b>NOTE:</b> When continuing onto the next piece of the notebook, the workflow will stop working."
   ]
  },
  {
   "cell_type": "code",
   "execution_count": null,
   "id": "9fbfaa34",
   "metadata": {},
   "outputs": [],
   "source": [
    "# Heatmap with the features ordered by the default amplicon order\n",
    "# To plot just a subset of chromosomes, put them in list format in the features argument\n",
    "fig = sample_one.cnv.heatmap('ploidy', features='positions') #features=['7', '17', '20']\n",
    "\n",
    "# Optionally, restrict the range of ploidy values based on observed/expected CNV events (commented out)\n",
    "#fig.layout.coloraxis.cmax = 4\n",
    "#fig.layout.coloraxis.cmin = 0\n",
    "\n",
    "# Optionally, change the size of the figure:\n",
    "#fig.layout.width = 1600\n",
    "#fig.layout.height = 1500\n",
    "fig.update_layout(title = sample_one.name)\n",
    "go.Figure(fig)"
   ]
  },
  {
   "cell_type": "code",
   "execution_count": null,
   "id": "7ce86aa8",
   "metadata": {},
   "outputs": [],
   "source": [
    "# Heatmap with the features grouped by the genes\n",
    "# To plot just a subset of genes, put them in list format in the features argument\n",
    "fig = sample_one.cnv.heatmap('ploidy', features='genes', convolve=1) #features=[\"ASXL1\", \"EZH2\",'TP53']\n",
    "\n",
    "# Optionally, update the separating lines to be black\n",
    "#for shape in fig.layout.shapes:\n",
    "#    shape.line.color = '#000000'\n",
    "fig.update_layout(title = sample_one.name)\n",
    "go.Figure(fig)"
   ]
  },
  {
   "cell_type": "code",
   "execution_count": null,
   "id": "72924647",
   "metadata": {},
   "outputs": [],
   "source": [
    "# Show heatmap with convolve and subclustering turned off\n",
    "bars = sample_one.cnv.clustered_barcodes('ploidy', subcluster=False)\n",
    "\n",
    "# This is useful to create \"convolved\" heatmaps which are easier to interpret\n",
    "# With the subclustering off and convolve=20, the noise will be reduced and real signals will be easier to visualize\n",
    "fig = sample_one.cnv.heatmap('ploidy', bars_order=bars, convolve=20)\n",
    "fig.layout.width = 900\n",
    "fig.update_layout(title = sample_one.name)\n",
    "fig.show()"
   ]
  },
  {
   "cell_type": "markdown",
   "id": "3a45d44c",
   "metadata": {},
   "source": [
    "<b> Note: The following is a partial duplication to run through the CNV workflow with the second/subsequent sample. </b>"
   ]
  },
  {
   "cell_type": "code",
   "execution_count": null,
   "id": "6bf7c32a",
   "metadata": {},
   "outputs": [],
   "source": [
    "# Go through the workflow for any additional samples\n",
    "# CNV workflow to filter, normalize and estimate ploidy\n",
    "wfc = ms.workflows.CopyNumber(sample_two)\n",
    "wfc.run()"
   ]
  },
  {
   "cell_type": "markdown",
   "id": "e4d8113f-c84f-4413-b638-055e6dd0786f",
   "metadata": {},
   "source": [
    "<b>NOTE:</b> When continuing onto the next piece of the notebook, the workflow will stop working."
   ]
  },
  {
   "cell_type": "code",
   "execution_count": null,
   "id": "383f6ab9",
   "metadata": {},
   "outputs": [],
   "source": [
    "# Heatmap with the features ordered by the default amplicon order\n",
    "# To plot just a subset of chromosomes, put them in list format in the features argument\n",
    "fig = sample_two.cnv.heatmap('ploidy', features='positions') #features=['7', '17', '20']\n",
    "\n",
    "# Optionally, restrict the range of ploidy values based on observed/expected CNV events (commented out)\n",
    "#fig.layout.coloraxis.cmax = 4\n",
    "#fig.layout.coloraxis.cmin = 0\n",
    "\n",
    "# Optionally, change the size of the figure:\n",
    "#fig.layout.width = 1600\n",
    "#fig.layout.height = 1500\n",
    "fig.update_layout(title = sample_two.name)\n",
    "go.Figure(fig)"
   ]
  },
  {
   "cell_type": "code",
   "execution_count": null,
   "id": "3121c81a",
   "metadata": {},
   "outputs": [],
   "source": [
    "# Heatmap with the features grouped by the genes\n",
    "# To plot just a subset of genes, put them in list format in the features argument\n",
    "fig = sample_two.cnv.heatmap('ploidy', features='genes', convolve=1) #features=[\"ASXL1\", \"EZH2\",'TP53']\n",
    "\n",
    "# Optionally, update the separating lines to be black\n",
    "#for shape in fig.layout.shapes:\n",
    "#    shape.line.color = '#000000'\n",
    "fig.update_layout(title = sample_two.name)\n",
    "go.Figure(fig)"
   ]
  },
  {
   "cell_type": "code",
   "execution_count": null,
   "id": "96e3216b",
   "metadata": {},
   "outputs": [],
   "source": [
    "# Show heatmap with convolve and subclustering turned off\n",
    "bars = sample_two.cnv.clustered_barcodes('ploidy', subcluster=False)\n",
    "\n",
    "# This is useful to create \"convolved\" heatmaps which are easier to interpret\n",
    "# With the subclustering off and convolve=20, the noise will be reduced and real signals will be easier to visualize\n",
    "fig = sample_two.cnv.heatmap('ploidy', bars_order=bars, convolve=20)\n",
    "fig.layout.width = 900\n",
    "fig.update_layout(title = sample_two.name)\n",
    "fig.show()"
   ]
  },
  {
   "cell_type": "markdown",
   "id": "717ef7c0",
   "metadata": {},
   "source": [
    "<b> Note: </b> The next few cells are highly optional, and only need to be run to plot cells from all samples together in one heatmap."
   ]
  },
  {
   "cell_type": "code",
   "execution_count": null,
   "id": "a7e9d0ca",
   "metadata": {},
   "outputs": [],
   "source": [
    "# Plot heatmaps of all samples together\n",
    "combined = group.merge()\n",
    "combined.cnv.heatmap('ploidy', splitby='sample_name')"
   ]
  },
  {
   "cell_type": "code",
   "execution_count": null,
   "id": "6a2e0aaa",
   "metadata": {},
   "outputs": [],
   "source": [
    "# Subset the barcodes to match across all assays\n",
    "# This will return the barcodes common to all assays in the sample\n",
    "combined.common_barcodes()\n",
    "\n",
    "# Use that to filter the sample so that only the common barcodes are present in all assays\n",
    "combined = combined[combined.common_barcodes()]"
   ]
  },
  {
   "cell_type": "code",
   "execution_count": null,
   "id": "78d18cbe",
   "metadata": {},
   "outputs": [],
   "source": [
    "# Split merged object\n",
    "# Need to split the samples: they will go back from combined to group\n",
    "group = ms.SampleGroup(combined.split(\"sample_name\"))"
   ]
  },
  {
   "cell_type": "markdown",
   "id": "96a14ceb",
   "metadata": {},
   "source": [
    "## Combined Visualizations\n",
    "\n",
    "In this section the dateset will be subset to only retain barcodes with remaining DNA and CNV data. Then this data can be plotted together using `sample.heatmap()`, `sample.signaturemap()`.\n",
    "\n",
    "The first few kernels of code will generate one plot per sample for the combined visualizations, the last portion of this section will combine the samples into one dataframe and plot them all together."
   ]
  },
  {
   "cell_type": "code",
   "execution_count": null,
   "id": "996484d2",
   "metadata": {},
   "outputs": [],
   "source": [
    "# This will return the barcodes common to all assays in the sample, for each sample.\n",
    "for sample in group:\n",
    "    sample.common_barcodes()\n",
    "    # Use that to filter the sample so that only the common barcodes are present in all assays\n",
    "    sample = sample[sample.common_barcodes()]"
   ]
  },
  {
   "cell_type": "code",
   "execution_count": null,
   "id": "33b8ac33",
   "metadata": {},
   "outputs": [],
   "source": [
    "# Check dimensionality for each assay; the number of cells (first number) should be the same in each data set\n",
    "# For each sample\n",
    "for sample in group:\n",
    "    print(sample.name, sample.dna.shape, sample.cnv.shape)"
   ]
  },
  {
   "cell_type": "code",
   "execution_count": null,
   "id": "ca0aa2bd",
   "metadata": {},
   "outputs": [],
   "source": [
    "# DNA + CNV heatmap\n",
    "# One per sample\n",
    "for sample in group:\n",
    "    fig = sample.heatmap(\n",
    "        clusterby=('dna', 'cnv'),  # The first assay is used for the labels\n",
    "        attributes=['AF', 'ploidy'],\n",
    "        features=[None, 'genes'],  # If None, then clustered_ids is used\n",
    "        bars_order=None,  # The order of the barcodes\n",
    "        widths=None,\n",
    "        order=('dna', 'cnv')  # The order in which the heatmaps should be drawn\n",
    "    )\n",
    "    fig.update_layout(title = sample.name)\n",
    "    fig.show()"
   ]
  },
  {
   "cell_type": "code",
   "execution_count": null,
   "id": "e6a35f16",
   "metadata": {},
   "outputs": [],
   "source": [
    "help(sample.signaturemap)"
   ]
  },
  {
   "cell_type": "code",
   "execution_count": null,
   "id": "b9e1fa69",
   "metadata": {},
   "outputs": [],
   "source": [
    "# Plot a combined signature heatmap, showing DNA and CNV signatures for all subclones\n",
    "# One per sample\n",
    "for sample in group:\n",
    "    fig = sample.signaturemap(\n",
    "        clusterby=('dna', 'cnv'),\n",
    "        attributes=('NGT', 'ploidy'),\n",
    "        features=[None, 'genes'],\n",
    "        signature_kind=['median', 'median'],\n",
    "        widths=None,\n",
    "        order=('dna', 'cnv')  # The order in which the heatmaps should be drawn\n",
    "    )\n",
    "    fig.update_layout(title = sample.name)\n",
    "    fig.show()"
   ]
  },
  {
   "cell_type": "code",
   "execution_count": null,
   "id": "70e0d5a7",
   "metadata": {},
   "outputs": [],
   "source": [
    "# Merge the samples into one data set\n",
    "combined = group.merge()"
   ]
  },
  {
   "cell_type": "code",
   "execution_count": null,
   "id": "426b28c5",
   "metadata": {},
   "outputs": [],
   "source": [
    "# DNA + CNV heatmap\n",
    "# For all samples together\n",
    "fig = combined.heatmap(\n",
    "        clusterby=('dna', 'cnv'),  # The first assay is used for the labels\n",
    "        attributes=['AF', 'ploidy'],\n",
    "        features=[None, 'genes'],  # If None, then clustered_ids is used\n",
    "        bars_order=None,  # The order of the barcodes\n",
    "        widths=None,\n",
    "        order=('dna', 'cnv')  # The order in which the heatmaps should be drawn\n",
    "    )\n",
    "fig.show()"
   ]
  },
  {
   "cell_type": "code",
   "execution_count": null,
   "id": "b09acb0d",
   "metadata": {},
   "outputs": [],
   "source": [
    "# Plot a combined signature heatmap, showing DNA and CNV signatures for all subclones\n",
    "# For all samples together\n",
    "fig = combined.signaturemap(\n",
    "        clusterby=('dna', 'cnv'),\n",
    "        attributes=('NGT', 'ploidy'),\n",
    "        features=[None, 'genes'],\n",
    "        signature_kind=['median', 'median'],\n",
    "        widths=None,\n",
    "        order=('dna', 'cnv')  # The order in which the heatmaps should be drawn\n",
    "    )\n",
    "fig.show()"
   ]
  },
  {
   "cell_type": "code",
   "execution_count": null,
   "id": "85978928",
   "metadata": {},
   "outputs": [],
   "source": [
    "# Clone vs analyte\n",
    "# Visualize the CNV data stratified by clone\n",
    "# For all samples together\n",
    "fig = combined.clone_vs_analyte('cnv')\n",
    "plt.gcf().axes[1].texts[-1].set_text(\"\")"
   ]
  },
  {
   "cell_type": "markdown",
   "id": "98d6bc19",
   "metadata": {},
   "source": [
    "## Export and Save Data\n",
    "\n",
    "In this section the data can export a filtered .h5 file, which will contain all new labels/layers, and contain only the filtered barcodes/cells remaining. All data can be exported (row attributes, column attributes and layers) for every assay (DNA and CNV) into easily parsable .csv tables."
   ]
  },
  {
   "cell_type": "code",
   "execution_count": null,
   "id": "056fc4d5",
   "metadata": {},
   "outputs": [],
   "source": [
    "# Save new h5 file that includes only the final, cleaned dataset\n",
    "ms.save(combined, 'FilteredData.h5')"
   ]
  },
  {
   "cell_type": "code",
   "execution_count": null,
   "id": "f71ce464",
   "metadata": {},
   "outputs": [],
   "source": [
    "# Export data into csv formats\n",
    "ms.to_zip(combined, 'filename')"
   ]
  },
  {
   "cell_type": "markdown",
   "id": "9cd16bb8",
   "metadata": {},
   "source": [
    "## Appendix"
   ]
  },
  {
   "cell_type": "markdown",
   "id": "ce57d2fe",
   "metadata": {},
   "source": [
    "### Compass imputation\n",
    "\n",
    "<b> This section of the notebook is OPTIONAL<b>\n",
    "    \n",
    "Compass can be used to impute the genotypes of cells with some missing data. It can also be used to infer the phylogeny of all subclones present in the sample. If a cell cannot be unambiguously classified, Compass will label these cells as Mixed or Ambiguous.<b> Compass can take ~1-10 minutes to run depending on the size of the data.\n",
    "    \n",
    "The Compass publication can be found [here](https://www.nature.com/articles/s41467-023-40378-8)<br>\n",
    "    \n",
    "<b>Note:</b> Compass can give different subclone composition than the variant subclone workflow. "
   ]
  },
  {
   "cell_type": "code",
   "execution_count": null,
   "id": "d4170f94",
   "metadata": {},
   "outputs": [],
   "source": [
    "# Use compass to assume the subclone architecture and phylogeny\n",
    "# Depending on the size and complexity of the data, this step can take ~1-10 minutes\n",
    "# Use the full_combined object to utilize all cells and unannotated variants\n",
    "compass = COMPASS(full_combined, somatic_variants=variants)\n",
    "compass.run()"
   ]
  },
  {
   "cell_type": "code",
   "execution_count": null,
   "id": "7116c7df",
   "metadata": {},
   "outputs": [],
   "source": [
    "# The phylogentic tree prediction by COMPASS\n",
    "fig = compass.plot_tree()\n",
    "fig.show()"
   ]
  },
  {
   "cell_type": "code",
   "execution_count": null,
   "id": "3a3df96d",
   "metadata": {},
   "outputs": [],
   "source": [
    "# Make the compass_labels the node descriptions\n",
    "# These are the new subclone labels\n",
    "labs = compass.labels_  # Stores the labels\n",
    "desc = compass.node_descriptions()  # Stores the dict mapping the label to the description\n",
    "compass_labels = np.array([desc.get(lab, lab) for lab in labs])"
   ]
  },
  {
   "cell_type": "code",
   "execution_count": null,
   "id": "b3e3b9c0",
   "metadata": {},
   "outputs": [],
   "source": [
    "# Store the compass label as a row_attr\n",
    "full_combined.dna.add_row_attr('compass_labels', compass_labels)"
   ]
  },
  {
   "cell_type": "code",
   "execution_count": null,
   "id": "956d00df",
   "metadata": {},
   "outputs": [],
   "source": [
    "# Store the index positions of the COMPASS ids for the heatmap\n",
    "idx = np.isin(full_combined.dna.ids(), compass.somatic_variants)\n",
    "# Visualize the assignment using the variants passed to COMPASS\n",
    "fig = full_combined.dna.heatmap('NGT', features=full_combined.dna.ids()[idx], splitby='compass_labels')\n",
    "fig.show()"
   ]
  },
  {
   "cell_type": "code",
   "execution_count": null,
   "id": "f0e6a03a-7618-47cf-b94d-f419e100fc8d",
   "metadata": {},
   "outputs": [],
   "source": [
    "# Create a DNA heatmap to see both the variant workflow subclone labels and the compass assigned labels\n",
    "# Parameters\n",
    "attribute = 'NGT'\n",
    "assay = full_combined.dna\n",
    "lab_row1 = \"label\"\n",
    "lab_row2 = \"compass_labels\"\n",
    "lab2_title = \"Compass\"\n",
    "\n",
    "# Graphing\n",
    "data = assay.get_attribute(attribute, constraint=\"row+col\")\n",
    "ids = assay.clustered_ids(attribute)\n",
    "labels = pd.concat([assay.get_attribute(lab_row1), assay.get_attribute(lab_row2).rename(columns={\"1\": \"2\"})], axis=1)\n",
    "bars = assay.clustered_barcodes(attribute, splitby=labels)\n",
    "\n",
    "data = data.loc[bars, ids]\n",
    "labs1 = assay.get_attribute(lab_row1, constraint=\"row\").loc[bars, :].values.flatten()\n",
    "labs2 = assay.get_attribute(lab_row2, constraint=\"row\").loc[bars, :].values.flatten()\n",
    "\n",
    "fig = MultiMap([data], labs1, names=[attribute], extra_column_titles=[lab2_title], widths=[1 / 24, 1]).draw()\n",
    "fig.add_trace(Heatmap(data, labs2).label_trace(), row=1, col=2)\n",
    "fig.layout.xaxis2.tickvals = []\n",
    "\n",
    "fig"
   ]
  },
  {
   "cell_type": "code",
   "execution_count": null,
   "id": "d66adc3c",
   "metadata": {},
   "outputs": [],
   "source": [
    "# This will return a dataframe \n",
    "# Showing the overlap of variant workflow clones and compass identified clones\n",
    "full_combined.dna.crosstab(compass_labels, normalize='columns')"
   ]
  },
  {
   "cell_type": "code",
   "execution_count": null,
   "id": "3210c26a",
   "metadata": {},
   "outputs": [],
   "source": [
    "# This will plot a heatmap of the crosstab dataframe\n",
    "full_combined.dna.crosstabmap(compass_labels, normalize='columns').show()"
   ]
  },
  {
   "cell_type": "markdown",
   "id": "93b2cab8-2e42-432c-978e-d2d7900034e8",
   "metadata": {},
   "source": [
    "<b> Export data to use in COMPASS </b>"
   ]
  },
  {
   "cell_type": "code",
   "execution_count": null,
   "id": "4a6bb981-f119-492d-95f1-14ee5eaa3f89",
   "metadata": {},
   "outputs": [],
   "source": [
    "# Export compass data into 2 output files\n",
    "# compass_input_regions.csv and compass_input_variants.csv\n",
    "# These can be used with COMPASS outside of Mosaic\n",
    "compass = COMPASS(sample, sample.dna.filter_somatic_variants())\n",
    "compass.prepare_input(prefix=\"./compass_input\")"
   ]
  },
  {
   "cell_type": "markdown",
   "id": "2237930b-91bf-4aae-b4d5-fb4d8eee0c70",
   "metadata": {},
   "source": [
    "### DNA clustering\n",
    "\n",
    "<b> This section of the notebook is optional </b>\n",
    "\n",
    "Below is an alternative way to cluster cells based on DNA data. These feature is useful in understanding the diversity within the cell population and may reduce the amount of cells lost from missing data."
   ]
  },
  {
   "cell_type": "code",
   "execution_count": null,
   "id": "2eff40d2-7e42-4084-8953-a3fe8a7e3265",
   "metadata": {},
   "outputs": [],
   "source": [
    "# First: run PCA on filtered data frame (all cells, chosen variants) using the AF_MISSING layer, for instance\n",
    "# Note: AF_MISSING includes -50 values for all 0 values for which the data was filtered and is missing\n",
    "# The number of components should equal the number of pre-filtered variants\n",
    "combined.dna.run_pca(components=100, attribute='AF_MISSING',show_plot=True) "
   ]
  },
  {
   "cell_type": "code",
   "execution_count": null,
   "id": "3b64d0a9-e6fc-4282-a560-902b3f85b21c",
   "metadata": {},
   "outputs": [],
   "source": [
    "# Rerun PCA with optimal number of components based on elbow plot analysis\n",
    "combined.dna.run_pca(components=6, attribute='AF_MISSING')"
   ]
  },
  {
   "cell_type": "code",
   "execution_count": null,
   "id": "5d18accb-2717-43bb-92e9-69c52becdc4d",
   "metadata": {},
   "outputs": [],
   "source": [
    "# Run UMAP on top of the newly created PC dataframe\n",
    "# See https://jlmelville.github.io/uwot/abparams.html for appropriate spread and min_dist values\n",
    "combined.dna.run_umap(attribute='pca', random_state=42) #, min_dist=0.2, spread=1.5)"
   ]
  },
  {
   "cell_type": "code",
   "execution_count": null,
   "id": "c569e60f-55f8-440c-81a2-2e4c53a3ab2d",
   "metadata": {},
   "outputs": [],
   "source": [
    "# Review other clustering methods\n",
    "help(combined.dna.cluster)"
   ]
  },
  {
   "cell_type": "code",
   "execution_count": null,
   "id": "724b656c-01d5-495d-9a59-b843022a0904",
   "metadata": {},
   "outputs": [],
   "source": [
    "# Visualize data and cluster it using different methods\n",
    "combined.dna.cluster(attribute='umap', method='graph-community', k=400)"
   ]
  },
  {
   "cell_type": "code",
   "execution_count": null,
   "id": "b46ea9e0-4bc1-4b0e-8f82-3d3c0866d213",
   "metadata": {},
   "outputs": [],
   "source": [
    "# Re-plot UMAP projection w/ alternative clustering results\n",
    "fig = combined.dna.scatterplot(attribute='umap', colorby='label')\n",
    "go.Figure(fig)"
   ]
  },
  {
   "cell_type": "code",
   "execution_count": null,
   "id": "7480aa3e-6718-4b9d-8adb-154733117c82",
   "metadata": {},
   "outputs": [],
   "source": [
    "# Plot heatmap using NGT\n",
    "fig = combined.dna.heatmap(attribute='NGT_FILTERED')\n",
    "go.Figure(fig)"
   ]
  }
 ],
 "metadata": {
  "kernelspec": {
   "display_name": "Python 3 (ipykernel)",
   "language": "python",
   "name": "python3"
  },
  "language_info": {
   "codemirror_mode": {
    "name": "ipython",
    "version": 3
   },
   "file_extension": ".py",
   "mimetype": "text/x-python",
   "name": "python",
   "nbconvert_exporter": "python",
   "pygments_lexer": "ipython3",
   "version": "3.10.14"
  }
 },
 "nbformat": 4,
 "nbformat_minor": 5
}

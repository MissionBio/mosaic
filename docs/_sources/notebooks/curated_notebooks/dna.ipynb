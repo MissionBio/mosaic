{
 "cells": [
  {
   "cell_type": "markdown",
   "id": "c0d2d5b6-bcdc-416a-90cd-33777f7ffc47",
   "metadata": {},
   "source": [
    "## Single Sample DNA-only"
   ]
  },
  {
   "cell_type": "markdown",
   "id": "f03ceac7",
   "metadata": {},
   "source": [
    "<b>This notebook is set up to work with single-sample h5 files, generated with v2 or v3 chemistry. This notebook will only work with Mosaic versions 3.7 and higher.</b>\n",
    "\n",
    "\n",
    "<b>Objective</b>: To showcase the minimum number of steps required for tertiary analysis of DNA (single-cell genotyping and CNV) and explore different ways of visualizing the data.<br>\n",
    "\n",
    "<b>Major questions answered:</b>\n",
    "1. Can we identify DNA clones based on genotypes (SNVs/Indels)?<br>\n",
    "2. Do we detect CNV events (e.g., copy number amplification, copy number loss)?<br>\n",
    "\n",
    "<b>Sections:</b>\n",
    "1. Setup\n",
    "2. Data Structure\n",
    "3. DNA Analysis\n",
    "4. CNV Analysis\n",
    "5. Combined Visualizations\n",
    "6. Export and Save Data\n",
    "7. Appendix\n",
    "\n",
    "<b>Not shown:</b>\n",
    "All available methods and options - documented [here](https://missionbio.github.io/mosaic/index.html)<br>\n",
    "\n"
   ]
  },
  {
   "cell_type": "markdown",
   "id": "e4267a5c",
   "metadata": {},
   "source": [
    "## Setup \n",
    "\n",
    "<b>Topics covered</b><br>\n",
    "1. Loading required packages.\n",
    "2. Loading in data.\n",
    "\n",
    "\n",
    "<b>Load data</b><br>\n",
    "<b>Note:</b> importing dependencies can sometimes take a couple of minutes."
   ]
  },
  {
   "cell_type": "code",
   "execution_count": null,
   "id": "0482fac8",
   "metadata": {},
   "outputs": [],
   "source": [
    "# Import mosaic libraries\n",
    "import missionbio.mosaic as ms\n",
    "\n",
    "# Import these to display entire dataframes\n",
    "from IPython.display import display, HTML\n",
    "\n",
    "# Import graph_objects from the plotly package to display figures when saving the notebook as an HTML\n",
    "import plotly as px\n",
    "import plotly.graph_objects as go\n",
    "\n",
    "# Import additional packages for specific visuals\n",
    "import matplotlib.pyplot as plt\n",
    "import plotly.offline as pyo\n",
    "pyo.init_notebook_mode()\n",
    "import numpy as np\n",
    "import seaborn as sns\n",
    "from missionbio.plotting.multimap import MultiMap\n",
    "from missionbio.plotting.heatmap import Heatmap\n",
    "\n",
    "# Import COMPASS for imputation\n",
    "from missionbio.mosaic.algorithms.compass import COMPASS\n",
    "import pandas as pd\n",
    "\n",
    "# Note: when exporting the notebook as an HTML, plots that use the \"go.Figure(fig)\" command are saved"
   ]
  },
  {
   "cell_type": "code",
   "execution_count": null,
   "id": "8b31552a",
   "metadata": {},
   "outputs": [],
   "source": [
    "# This code is optional, but will make the notebook cells/figures display across the entire width of the browser\n",
    "from IPython.display import display, HTML\n",
    "display(HTML(\"<style>.container { width:100% !important; }</style>\"))"
   ]
  },
  {
   "cell_type": "code",
   "execution_count": null,
   "id": "c12fad9f",
   "metadata": {},
   "outputs": [],
   "source": [
    "# Check version; this notebook is designed for Mosaic v3.12.1 or higher\n",
    "print(ms.__version__)"
   ]
  },
  {
   "cell_type": "code",
   "execution_count": null,
   "id": "32f60a4b",
   "metadata": {},
   "outputs": [],
   "source": [
    "# Any function's parameters and default values can be looked up via the 'help' function\n",
    "# Here, the function is 'ms.load'\n",
    "help(ms.load)"
   ]
  },
  {
   "cell_type": "markdown",
   "id": "4ebc5b61-5847-4a3c-8f51-f7c9a7350dcf",
   "metadata": {},
   "source": [
    "### <b> Loading the data </b>\n",
    "\n",
    "In the ms.load statement, there are several arguments:\n",
    "- <b> raw </b>: always set raw=False; if raw=True, ALL barcodes will be loaded (rather than cell-associated barcodes)\n",
    "- <b> filter_variants </b>: always set filter_variants=True unless an expected (target) variant cannot be found. Additional filtering options are included in the DNA section below. <b> NOTE </b>: if loading using filter_variants=False, the whitelist may need to set to None or removed from the command, otherwise it may not load variants in\n",
    "- <b> single </b>: always set single=False for multisample/merged h5 files\n",
    "- <b> whitelist </b>: The whitelist option loads any variant that is in the vcf.gz file (e.g. \"chr1:179520511:C/G\"). The whitelist argument takes many variant formats, they are detailed [here](https://missionbio.github.io/mosaic/pages/functions/missionbio.mosaic.io.load.html).\n",
    "- <b> filter_cells </b>: Always set filter_cells=False; if filter_cells=True, only cells called by the completelyness algorithm are loaded "
   ]
  },
  {
   "cell_type": "code",
   "execution_count": null,
   "id": "daa8fb41",
   "metadata": {},
   "outputs": [],
   "source": [
    "# Specify the h5 file to be used in this analysis: h5path = '/path/to/h5/file/test.h5'\n",
    "# If working with Windows, an 'r' may need to be added before the path: h5path = r'/path/to/h5/file/test.h5'\n",
    "h5path = '/Users/casp/Documents/analysis/2pbmcmix.h5'\n",
    "\n",
    "# Load the data\n",
    "sample = ms.load(h5path, raw=False, filter_variants=True, single=True, whitelist = [], filter_cells=False) "
   ]
  },
  {
   "cell_type": "markdown",
   "id": "fe5217d1",
   "metadata": {},
   "source": [
    "### <b>Data Structure</b>\n",
    "    \n",
    "DNA, CNV, and Protein are sub-classes of the Assay class. The information is stored in four categories, and the user can modify each of those:\n",
    "\n",
    "<b>1. metadata (add_metadata / del_metadata):</b>\n",
    " - dictionary containing assay parameters and basic performance metrics\n",
    "\n",
    "<b>2. layers (add_layer / del_layer):</b>\n",
    " - dictionary containing matrices of assay metrics\n",
    " - all the matrices have the shape (num barcodes) x (num ids) \n",
    " - for DNA assays, this includes AF, GQ, DP, etc. \n",
    "   (per cell, per variant)\n",
    " - for Protein assays, this includes read counts \n",
    "   (per cell, per antibody)\n",
    " - for CNV assays, this includes read counts\n",
    "   (per cell, per amplicon)\n",
    " \n",
    "<b>3. row_attrs (add_row_attr / del_row_attr):</b>\n",
    " - dictionary containing 'barcode' as one of the keys \n",
    "   (where the value is a list of all barcodes)\n",
    " - for all other keys, the values must be of the same \n",
    "   length, i.e. match the number of barcodes\n",
    " - this is the attribute where 'label', 'pca', \n",
    "   and 'umap' values are added\n",
    "   \n",
    "<b>4. col_attrs (add_col_attr / del_col_attr):</b>\n",
    " - dictionary containing 'id' as one of the keys \n",
    "   (where the value is a list of all ids)\n",
    " - for DNA assays, 'ids' are variants; for Protein assays, \n",
    "   'ids' are antibodies; for CNV assays, 'ids' are amplicons\n",
    " - for all other keys, the values must be of the same\n",
    "   length, i.e. match the number ids\n",
    "\n",
    " "
   ]
  },
  {
   "cell_type": "code",
   "execution_count": null,
   "id": "5acb56f8",
   "metadata": {},
   "outputs": [],
   "source": [
    "# Summary of DNA assay \n",
    "print(\"\\'sample.dna\\':\", sample.dna, '\\n')\n",
    "print(\"\\'row_attrs\\':\", \"\\n\\t\", list(sample.dna.row_attrs.keys()), '\\n')\n",
    "print(\"\\'col_attrs\\':\", \"\\n\\t\", list(sample.dna.col_attrs.keys()), '\\n')\n",
    "print(\"\\'layers\\':\", \"\\n\\t\", list(sample.dna.layers.keys()), '\\n')\n",
    "print(\"\\'metadata\\':\", \"\\n\")\n",
    "for i in list(sample.dna.metadata.keys()):\n",
    "    print(\"\\t\", i, \": \", sample.dna.metadata[i], sep=\"\")"
   ]
  },
  {
   "cell_type": "code",
   "execution_count": null,
   "id": "3c0a9ae3",
   "metadata": {},
   "outputs": [],
   "source": [
    "# For DNA, ids are variants\n",
    "# sample.dna.ids() is a shortcut for sample.dna.col_attrs['id']\n",
    "sample.dna.ids()"
   ]
  },
  {
   "cell_type": "code",
   "execution_count": null,
   "id": "4882b867-3da8-4d6a-8d70-2bda7a8e58f4",
   "metadata": {},
   "outputs": [],
   "source": [
    "# Summary of CNV assay\n",
    "print(\"\\'sample.cnv\\':\", sample.cnv, '\\n')\n",
    "print(\"\\'row_attrs\\':\", \"\\n\\t\", list(sample.cnv.row_attrs.keys()), '\\n')\n",
    "print(\"\\'col_attrs\\':\", \"\\n\\t\", list(sample.cnv.col_attrs.keys()), '\\n')\n",
    "print(\"\\'layers\\':\", \"\\n\\t\", list(sample.cnv.layers.keys()), '\\n')\n",
    "print(\"\\'metadata\\':\", \"\\n\")\n",
    "for i in list(sample.cnv.metadata.keys()):\n",
    "    print(\"\\t\", i, \": \", sample.cnv.metadata[i], sep=\"\")"
   ]
  },
  {
   "cell_type": "code",
   "execution_count": null,
   "id": "6bd90dfa-f24b-440f-a624-c0c4f716b1de",
   "metadata": {},
   "outputs": [],
   "source": [
    "# For CNV, ids are amplicons\n",
    "# sample.cnv.ids() is a shortcut for sample.cnv.col_attrs['id']\n",
    "sample.cnv.ids()"
   ]
  },
  {
   "cell_type": "markdown",
   "id": "128602f7",
   "metadata": {},
   "source": [
    "## DNA Analysis\n",
    "<b>Topics covered</b><br>\n",
    "1. Standard filtering of DNA variants.\n",
    "2. Subsetting dataset for variants of interest, including whitelisted variants.\n",
    "3. Addition of annotations to the variants.\n",
    "4. Manual variant selection and clone identification\n",
    "5. Visualizations and customization options\n",
    "\n",
    "### Basic filtering\n",
    "There are many options for filtering DNA variants. \n",
    "Use the `help()` function to understand the approach listed below.\n"
   ]
  },
  {
   "cell_type": "code",
   "execution_count": null,
   "id": "2f8e5c26",
   "metadata": {},
   "outputs": [],
   "source": [
    "help(sample.dna.filter_variants)"
   ]
  },
  {
   "cell_type": "code",
   "execution_count": null,
   "id": "612a01da",
   "metadata": {},
   "outputs": [],
   "source": [
    "# Adjust filters if needed by overwriting dna_vars\n",
    "dna_vars = sample.dna.filter_variants(\n",
    "    min_dp=10,\n",
    "    min_gq=30,\n",
    "    vaf_ref=5,\n",
    "    vaf_hom=95,\n",
    "    vaf_het=30,\n",
    "    min_prct_cells=50,\n",
    "    min_mut_prct_cells=1,\n",
    "    iterations=10,\n",
    ")\n",
    "\n",
    "# Check the number of filtered variants. When using the default filters, the number of \n",
    "# variants is likely smaller compared to the originally loaded variants due to the more \n",
    "# stringent filtering criteria (e.g., vaf_ref=5, vaf_hom=95, vaf_het=30).\n",
    "print('Number of variants:', len(dna_vars))\n",
    "print(dna_vars)"
   ]
  },
  {
   "cell_type": "markdown",
   "id": "0bafb49a-0c12-4c0e-9216-0507d8e60e0d",
   "metadata": {},
   "source": [
    "<b>Note</b>: Variants that are whitelisted during sample loading may be removed at this step, but can be added back in below. Whitelisted variants can be added to the list of final variants, or used exclusively in the code below."
   ]
  },
  {
   "cell_type": "code",
   "execution_count": null,
   "id": "259af3ee",
   "metadata": {},
   "outputs": [],
   "source": [
    "# Ensure correct nomenclature, ie whitelist = [\"chr13:28589657:T/G\",\"chrX:39921424:G/A\"]\n",
    "# While the load statement accepts many variant formats, this whitelist does not\n",
    "# If there are no whitelist variants, this can be left blank\n",
    "\n",
    "white_list = []\n",
    "\n",
    "# Combine whitelisted and filtered variants\n",
    "final_vars = list(set(list(dna_vars) + white_list))\n",
    "\n",
    "# To use only white_list variants:\n",
    "# final_vars = white_list"
   ]
  },
  {
   "cell_type": "code",
   "execution_count": null,
   "id": "3e0a082a-0c53-4c00-96c6-8fb9d8c7b3b7",
   "metadata": {},
   "outputs": [],
   "source": [
    "# Check the length of the final list of variants\n",
    "len(final_vars)"
   ]
  },
  {
   "cell_type": "code",
   "execution_count": null,
   "id": "bfeb9364-c055-499d-a5d7-c8cff5d31434",
   "metadata": {},
   "outputs": [],
   "source": [
    "# Dimensionality of the original sample.dna dataframe\n",
    "# First number = number of cells (rows); second number = number of variants (columns)\n",
    "sample.dna.shape"
   ]
  },
  {
   "cell_type": "code",
   "execution_count": null,
   "id": "617ecfd7-7d7d-43bf-8c0e-271d7ed3773e",
   "metadata": {},
   "outputs": [],
   "source": [
    "# Before subsetting, verify that all the chosen variants are in the current sample.dna ids (should return True)\n",
    "print(set(final_vars).issubset(set(sample.dna.ids())))"
   ]
  },
  {
   "cell_type": "code",
   "execution_count": null,
   "id": "7eff2681-5fff-48b6-b943-0db43bd72e06",
   "metadata": {},
   "outputs": [],
   "source": [
    "# Subsetting sample.dna (columns) based on reduced variant list.\n",
    "sample.dna = sample.dna[:, final_vars]"
   ]
  },
  {
   "cell_type": "code",
   "execution_count": null,
   "id": "07199006-377a-425e-8f2b-8cbcf0e2c273",
   "metadata": {},
   "outputs": [],
   "source": [
    "# Check the shape of the final filtered DNA object, i.e. (number of barcodes/cells, number of ids/variants)\n",
    "sample.dna.shape"
   ]
  },
  {
   "cell_type": "markdown",
   "id": "943601b9",
   "metadata": {},
   "source": [
    "### Annotation Addition\n"
   ]
  },
  {
   "cell_type": "code",
   "execution_count": null,
   "id": "09bf3440",
   "metadata": {},
   "outputs": [],
   "source": [
    "help(sample.dna.get_annotations)"
   ]
  },
  {
   "cell_type": "code",
   "execution_count": null,
   "id": "7cf70f63",
   "metadata": {},
   "outputs": [],
   "source": [
    "# Fetch annotations using varsome\n",
    "# Note: run this on a filtered DNA sample - too many variants (e.g., 100+) are not handled correctly by the method\n",
    "ann = sample.dna.get_annotations()"
   ]
  },
  {
   "cell_type": "markdown",
   "id": "a50751b9",
   "metadata": {},
   "source": [
    "### Variant selection and Subclone identification\n",
    "\n",
    "In this section of the notebook, all variants remaining in the dataset will populate in a variant table. This table is interactive, variants can be selected, and rows can be sorted by ascending/descending values. The variant name can be clicked on and will navigate to the variant's varsome page in the default browser.\n",
    "1. Variants selected in this table will populate in a subclone table below. \n",
    "2. The variants in the subclone table can be highlighted and assessed for Read Depth, Genotype Quality and Variant Allele Frequency. \n",
    "3. Subclones can be renamed by clicking on the pencil icon. \n",
    "4. <b>ADO score:</b> The ADO score threshold can be adjusted, but by default is set to 1. Any clones with an ADO score higher this will be moved into the \"ADO subclones\" column. We recommend moving any clones with a score of .8 or higher into this column. The algorithm used to generate the score is detailed [here](https://missionbio.github.io/mosaic/pages/methods/missionbio.mosaic.dna.Dna.group_by_genotype.html#missionbio.mosaic.dna.Dna.group_by_genotype).\n",
    "5. <b> Min clone size: </b> The Min Clone Size can also be adjusted, but by default is set to 1. Any clones that represent less than 1% of the sample will be moved into the \"Small Subclones\" column. \n",
    "6. Cells with missing genotype information across any of the selected variants will be moved into the \"Missing GT\" column. "
   ]
  },
  {
   "cell_type": "code",
   "execution_count": null,
   "id": "5cfad026",
   "metadata": {},
   "outputs": [],
   "source": [
    "# Run the variant table workflow to select variants and begin clone identification\n",
    "wfv = ms.workflows.VariantSubcloneTable(sample)\n",
    "wfv.run()\n",
    "# The width can be adjusted if needed for long variant names\n",
    "# wfv.run(width=3000)"
   ]
  },
  {
   "cell_type": "markdown",
   "id": "e242f65a-b061-4125-ab43-af90e4d6b35c",
   "metadata": {},
   "source": [
    "<b>NOTE:</b> When continuing onto the next piece of the notebook, the workflow will stop working."
   ]
  },
  {
   "cell_type": "code",
   "execution_count": null,
   "id": "10193a54",
   "metadata": {},
   "outputs": [],
   "source": [
    "# Subsample the variants to only the variants selected from the workflow\n",
    "variants = wfv.selected_variants\n",
    "sample.dna = sample.dna[:,variants]\n",
    "\n",
    "# Save the full set of cells to a new variable that can be called on later\n",
    "# Do this before renaming the variants\n",
    "full_sample = sample[:]"
   ]
  },
  {
   "cell_type": "code",
   "execution_count": null,
   "id": "3cf6c9fa",
   "metadata": {},
   "outputs": [],
   "source": [
    "# Rename the variants\n",
    "# Any of these column values can be added to the id names\n",
    "sample.dna.col_attrs.keys()"
   ]
  },
  {
   "cell_type": "code",
   "execution_count": null,
   "id": "9276adbc",
   "metadata": {},
   "outputs": [],
   "source": [
    "# Add annotation to the id names\n",
    "sample.dna.set_annotated_ids(add_clinvar=True)\n",
    "\n",
    "# Annotations are now added to the variants\n",
    "sample.dna.ids()\n",
    "\n",
    "# Use sample.dna.reset_ids() to get the original ids"
   ]
  },
  {
   "cell_type": "code",
   "execution_count": null,
   "id": "c155e0b8",
   "metadata": {},
   "outputs": [],
   "source": [
    "# Plot heatmap using NGT_FILTERED\n",
    "fig = sample.dna.heatmap(attribute='NGT_FILTERED')\n",
    "go.Figure(fig)"
   ]
  },
  {
   "cell_type": "code",
   "execution_count": null,
   "id": "0f33655a",
   "metadata": {},
   "outputs": [],
   "source": [
    "# Clone removal\n",
    "# Remove barcodes from the missing GT, small subclones, ADO subclones or FP labels\n",
    "clones = ['missing', 'small', 'ADO', 'FP']\n",
    "for c in clones:\n",
    "    cells = sample.dna.barcodes({c})\n",
    "    if len(cells) > 0:\n",
    "        sample.dna = sample.dna.drop(cells)\n",
    "set(sample.dna.get_labels())"
   ]
  },
  {
   "cell_type": "code",
   "execution_count": null,
   "id": "3a037572-6f58-4ed2-8e23-248cffab2ced",
   "metadata": {},
   "outputs": [],
   "source": [
    "# If subclones need to be renamed outside of the workflow\n",
    "# The following code can be used:\n",
    "# NOTE: all clones need to be listed for this function to work\n",
    "sample.dna.rename_labels(\n",
    "  {\n",
    "    'current_subclone_name': 'new_subclone_name', \n",
    "    'WT': 'Wild Type',\n",
    "    '3': 'three',\n",
    "    '4': 'four',      \n",
    "  }\n",
    ")"
   ]
  },
  {
   "cell_type": "code",
   "execution_count": null,
   "id": "ef39df79",
   "metadata": {},
   "outputs": [],
   "source": [
    "# Redraw heatmap\n",
    "fig = sample.dna.heatmap(attribute='NGT_FILTERED')\n",
    "go.Figure(fig)"
   ]
  },
  {
   "cell_type": "code",
   "execution_count": null,
   "id": "bbe60156-be95-42a4-a534-a36e83f05b1c",
   "metadata": {},
   "outputs": [],
   "source": [
    "# Manually generate a phylogeny tree of the subclones in your sample\n",
    "from missionbio.plotting.phylotree import PhyloTree\n",
    "\n",
    "labels = [\"1\", \"2\", \"3\", \"4\"]\n",
    "parents = [None, \"1\", \"1\", \"2\"]\n",
    "descriptions = [\"WT\", \"KIT HET\", \"KIT HET<br>TP53 HET\", \"KIT LOH\"]\n",
    "graph = PhyloTree(labels, parents, descriptions)\n",
    "graph.draw(palette={\"1\": \"#000000\", \"2\": \"crimson\", \"3\": \"skyblue\", \"4\": \"red\"})"
   ]
  },
  {
   "cell_type": "code",
   "execution_count": null,
   "id": "2e38d011",
   "metadata": {},
   "outputs": [],
   "source": [
    "# Evaluate new total number of cells after the above filtering\n",
    "sample.dna.shape"
   ]
  },
  {
   "cell_type": "markdown",
   "id": "9e9a4dfb",
   "metadata": {},
   "source": [
    "### Adjusting subclone colors or heatmap colors\n",
    "\n",
    "To change the color palette used for the subclones, use `set_palette`. For this provide a list of ALL subclone names, pointing to the hexcode/color to change that subclone to. Note: this function also works with the protein and CNV assays. See below for an example of this.\n",
    "\n",
    "To change the color palette used for any of the assays/layers, use `ms.Config.Colorscale`. Then list the assay and layer, and assign the plotly colorscale to use for those graphics. Visualize all available colorscales by using `plotly.colors.sequential.swatches_continuous().show()`. To reset all color palettes back to their defaults, use `ms.Config.Colorscle.reset()`."
   ]
  },
  {
   "cell_type": "code",
   "execution_count": null,
   "id": "c6adff13",
   "metadata": {},
   "outputs": [],
   "source": [
    "# Example of changing the colors assigned to each clone\n",
    "sample.dna.set_palette({'Clone 1': '#800080', 'Clone 2': '#FF69B4'})"
   ]
  },
  {
   "cell_type": "code",
   "execution_count": null,
   "id": "d55d45e2",
   "metadata": {},
   "outputs": [],
   "source": [
    "# Change colorScale to change the heatmap colors\n",
    "# This will change the color of the dna.ngt layer to be viridis\n",
    "ms.Config.Colorscale.Dna.NGT = 'viridis'\n",
    "fig = sample.dna.heatmap('NGT')\n",
    "fig.show()\n",
    "\n",
    "# Run the following to reset the colorscale\n",
    "#ms.Config.Colorscale.Dna.reset(\"NGT\")\n",
    "# Or run this to reset any/all modifications:\n",
    "#ms.Config.Colorscale.reset()\n",
    "# Colorscale can be changed for DNA, CNV and Protein assays"
   ]
  },
  {
   "cell_type": "markdown",
   "id": "00ba7941",
   "metadata": {},
   "source": [
    "To return back to the original population of cells, reset the data using: `sample.reset(\"dna\")` This command 'sample.reset' works on all assays, including CNV and protein."
   ]
  },
  {
   "cell_type": "markdown",
   "id": "c68c8761",
   "metadata": {},
   "source": [
    "## CNV Analysis\n",
    "\n",
    "<b>Topics covered</b>\n",
    "1. Amplicon and cell filtering and ploidy estimation.\n",
    "2. Visualization of ploidy across subclones present."
   ]
  },
  {
   "cell_type": "code",
   "execution_count": null,
   "id": "bf4f3504",
   "metadata": {},
   "outputs": [],
   "source": [
    "# Get gene names for amplicons\n",
    "sample.cnv.get_gene_names()"
   ]
  },
  {
   "cell_type": "markdown",
   "id": "15e03c10",
   "metadata": {},
   "source": [
    "### CNV workflow\n",
    "\n",
    "This workflow will normalize all reads and filter amplicons/cells based on the settings set at the beginning of the workflow: <br>\n",
    "1. <b> Amplicon completeness: </b> refers to the minimum percentage of cells that must have reads greater than or equal to the minimum read depth set. By default this is set to 50. <br>\n",
    "2. <b> Amplicon read depth: </b> refers to the minimum read depth for each amplicon-barcode combination to not be considered missing. By default this is set to 10. <br>\n",
    "3. <b>Mean cell read depth: </b> refers the minimum mean read depth for a cell to be included in the analysis, otherwise the cell will be removed. By default this is set to 40.<br>\n",
    "4. <b>Diploid clone in DNA: </b> refers to which subclone is used as the true diploid population. All ploidy estimates will be calculated in relation to this diploid population. We recommend setting this to the 'WT' population or earliest clone present. <br>\n",
    "    \n",
    "<b> Note: </b> If large copy number events are expected, Amplicon Completeness and Amplicon Read Depth may need to be reduced.\n",
    "\n",
    "Once the above filters are set, the visualizations can be changed. <br>\n",
    "1. <b> Plot:</b> Can be changed from Heatmap positions, to Heatmap genes, Line-plot positions, Line-plot genes <br>\n",
    "2. <b> Clone for line plot:</b> If one of the line-plot visualizations is selected, only one clone can be shown at a time. This determines which one is plotted. <br>\n",
    "3. <b> X-axis features: </b> To plot a subset of the data (chromosomes or genes), select which chromosomes/genes should be plotted with this function. Chromosomes can be selected for 'positions' type plots, and Genes can be selected for 'genes' type plots."
   ]
  },
  {
   "cell_type": "code",
   "execution_count": null,
   "id": "3425c6f4",
   "metadata": {},
   "outputs": [],
   "source": [
    "# CNV workflow to filter, normalize and estimate ploidy\n",
    "wfc = ms.workflows.CopyNumber(sample)\n",
    "wfc.run()"
   ]
  },
  {
   "cell_type": "markdown",
   "id": "4d354fcc-1849-480e-b8c9-14b5fc667577",
   "metadata": {},
   "source": [
    "<b>NOTE:</b> When continuing onto the next piece of the notebook, the workflow will stop working."
   ]
  },
  {
   "cell_type": "code",
   "execution_count": null,
   "id": "9fbfaa34",
   "metadata": {},
   "outputs": [],
   "source": [
    "# Heatmap with the features ordered by the default amplicon order\n",
    "# To plot a subset of chromosome, the chromosomes can be put in list format in the features argument\n",
    "fig = sample.cnv.heatmap('ploidy', features='positions') #features=['7', '17', '20']\n",
    "\n",
    "# Optionally, restrict the range of ploidy values based on observed/expected CNV events (commented out)\n",
    "#fig.layout.coloraxis.cmax = 4\n",
    "#fig.layout.coloraxis.cmin = 0\n",
    "\n",
    "# Optionally, change the size of the figure:\n",
    "#fig.layout.width = 1600\n",
    "#fig.layout.height = 1500\n",
    "\n",
    "go.Figure(fig)"
   ]
  },
  {
   "cell_type": "code",
   "execution_count": null,
   "id": "7ce86aa8",
   "metadata": {},
   "outputs": [],
   "source": [
    "# Heatmap with the features grouped by the genes\n",
    "# To plot just a subset of genes, put them in list format for features\n",
    "fig = sample.cnv.heatmap('ploidy', features='genes', convolve=1) #features=[\"ASXL1\", \"EZH2\",'TP53']\n",
    "\n",
    "# Optionally, update the separating lines to be black\n",
    "#for shape in fig.layout.shapes:\n",
    "#    shape.line.color = '#000000'\n",
    "\n",
    "go.Figure(fig)"
   ]
  },
  {
   "cell_type": "code",
   "execution_count": null,
   "id": "72924647",
   "metadata": {},
   "outputs": [],
   "source": [
    "# Show heatmap with convolve and subclustering turned off\n",
    "bars = sample.cnv.clustered_barcodes('ploidy', subcluster=False)\n",
    "\n",
    "# This is useful to create \"convolved\" heatmaps which are easier to interpret\n",
    "# With the subclustering off and convolve=20, the noise will be reduced and real signals will be easier to visualize\n",
    "fig = sample.cnv.heatmap('ploidy', bars_order=bars, convolve=20)\n",
    "fig.layout.width = 900\n",
    "fig.show()"
   ]
  },
  {
   "cell_type": "markdown",
   "id": "96a14ceb",
   "metadata": {},
   "source": [
    "## Combined Visualizations\n",
    "\n",
    "In this section the dateset will be subset to only retain barcodes with remaining DNA and CNV data. Then this data can be plotted together using `sample.heatmap()`, `sample.signaturemap()`."
   ]
  },
  {
   "cell_type": "code",
   "execution_count": null,
   "id": "996484d2",
   "metadata": {},
   "outputs": [],
   "source": [
    "# This will return the barcodes common to all assays in the sample.\n",
    "sample.common_barcodes()\n",
    "\n",
    "# Use that to filter the sample so that only the common barcodes are present in all assays\n",
    "sample = sample[sample.common_barcodes()]"
   ]
  },
  {
   "cell_type": "code",
   "execution_count": null,
   "id": "715fad2f",
   "metadata": {},
   "outputs": [],
   "source": [
    "# Check dimensionality for each assay; the number of cells (first number) should be the same in each data set\n",
    "print(sample.dna.shape, sample.cnv.shape)"
   ]
  },
  {
   "cell_type": "code",
   "execution_count": null,
   "id": "ca0aa2bd",
   "metadata": {},
   "outputs": [],
   "source": [
    "# DNA + CNV heatmap\n",
    "fig = sample.heatmap(\n",
    "    clusterby=('dna', 'cnv'),  # The first assay is used for the labels\n",
    "    attributes=['AF', 'ploidy'],\n",
    "    features=[None, 'genes'],  # If None, then clustered_ids is used\n",
    "    bars_order=None,  # The order of the barcodes\n",
    "    widths=None,\n",
    "    order=('dna', 'cnv')  # The order in which the heatmaps should be drawn\n",
    ")\n",
    "fig.show()"
   ]
  },
  {
   "cell_type": "code",
   "execution_count": null,
   "id": "e6a35f16",
   "metadata": {},
   "outputs": [],
   "source": [
    "help(sample.signaturemap)"
   ]
  },
  {
   "cell_type": "code",
   "execution_count": null,
   "id": "b9e1fa69",
   "metadata": {},
   "outputs": [],
   "source": [
    "# Plot a combined signature heatmap, showing DNA and CNV signatures for all subclones\n",
    "fig = sample.signaturemap(\n",
    "    clusterby=('dna', 'cnv'),\n",
    "    attributes=('NGT', 'ploidy'),\n",
    "    features=[None, 'genes'],\n",
    "    signature_kind=['median', 'median'],\n",
    "    widths=None,\n",
    "    order=('dna', 'cnv')  # The order in which the heatmaps should be drawn\n",
    ")\n",
    "fig.show()"
   ]
  },
  {
   "cell_type": "code",
   "execution_count": null,
   "id": "684eddc0",
   "metadata": {},
   "outputs": [],
   "source": [
    "help(sample.clone_vs_analyte)"
   ]
  },
  {
   "cell_type": "code",
   "execution_count": null,
   "id": "0ee07cb2",
   "metadata": {},
   "outputs": [],
   "source": [
    "# Clone vs analyte\n",
    "# Visualize the CNV data stratified by clone\n",
    "fig = sample.clone_vs_analyte('cnv')\n",
    "plt.gcf().axes[1].texts[-1].set_text('')\n",
    "fig\n",
    "#fig.savefig('genotype_cnv.png')"
   ]
  },
  {
   "cell_type": "markdown",
   "id": "98d6bc19",
   "metadata": {},
   "source": [
    "## Export and Save Data\n",
    "\n",
    "In this section the data can export a filtered .h5 file, which will contain all new labels/layers, and contain only the filtered barcodes/cells remaining. All data can be exported (row attributes, column attributes and layers) for every assay (DNA and CNV) into easily parsable .csv tables."
   ]
  },
  {
   "cell_type": "code",
   "execution_count": null,
   "id": "056fc4d5",
   "metadata": {},
   "outputs": [],
   "source": [
    "# Save new h5 file that includes only the final, cleaned dataset\n",
    "ms.save(sample, 'FilteredData.h5', mode=\"w\")"
   ]
  },
  {
   "cell_type": "code",
   "execution_count": null,
   "id": "f71ce464",
   "metadata": {},
   "outputs": [],
   "source": [
    "# Export data into csv formats\n",
    "ms.to_zip(sample, 'filename')"
   ]
  },
  {
   "cell_type": "markdown",
   "id": "4805e564",
   "metadata": {},
   "source": [
    "## Appendix"
   ]
  },
  {
   "cell_type": "markdown",
   "id": "ce57d2fe",
   "metadata": {},
   "source": [
    "### Compass imputation\n",
    "\n",
    "<b> This section of the notebook is OPTIONAL<b>\n",
    "    \n",
    "Compass can be used to impute the genotypes of cells with some missing data. It can also be used to infer the phylogeny of all subclones present in the sample. If a cell cannot be unambiguously classified, Compass will label these cells as Mixed or Ambiguous.<b> Compass can take ~1-10 minutes to run depending on the size of the data.\n",
    "    \n",
    "The Compass publication can be found [here](https://www.nature.com/articles/s41467-023-40378-8)<br>\n",
    "    \n",
    "<b>Note:</b> Compass can give different subclone composition than the variant subclone workflow. "
   ]
  },
  {
   "cell_type": "code",
   "execution_count": null,
   "id": "d4170f94",
   "metadata": {},
   "outputs": [],
   "source": [
    "# Use compass to assume the subclone architecture and phylogeny\n",
    "# Depending on the size and complexity of the data, this step can take ~1-10 minutes\n",
    "# Use full_sample instead of sample to include all previously removed cells and use the unannotated variant names\n",
    "compass = COMPASS(full_sample, somatic_variants=variants)\n",
    "compass.run()"
   ]
  },
  {
   "cell_type": "code",
   "execution_count": null,
   "id": "7116c7df",
   "metadata": {},
   "outputs": [],
   "source": [
    "# The phylogentic tree prediction by COMPASS\n",
    "fig = compass.plot_tree()\n",
    "fig.show()"
   ]
  },
  {
   "cell_type": "code",
   "execution_count": null,
   "id": "3a3df96d",
   "metadata": {},
   "outputs": [],
   "source": [
    "# Make the compass_labels the node descriptions\n",
    "# These are the new subclone labels\n",
    "labs = compass.labels_  # Stores the labels\n",
    "desc = compass.node_descriptions()  # Stores the dict mapping the label to the description\n",
    "compass_labels = np.array([desc.get(lab, lab) for lab in labs])"
   ]
  },
  {
   "cell_type": "code",
   "execution_count": null,
   "id": "b3e3b9c0",
   "metadata": {},
   "outputs": [],
   "source": [
    "# Store the compass labels as a row_attr\n",
    "full_sample.dna.add_row_attr('compass_labels', compass_labels)"
   ]
  },
  {
   "cell_type": "code",
   "execution_count": null,
   "id": "956d00df",
   "metadata": {},
   "outputs": [],
   "source": [
    "# Store the index positions of the COMPASS ids for the heatmap\n",
    "idx = np.isin(full_sample.dna.ids(), compass.somatic_variants)\n",
    "\n",
    "# Visualize the assignment using the variants passed to COMPASS\n",
    "fig = full_sample.dna.heatmap('NGT', features=full_sample.dna.ids()[idx], splitby='compass_labels')\n",
    "fig.show()"
   ]
  },
  {
   "cell_type": "code",
   "execution_count": null,
   "id": "b59bc984-558d-4f86-bcb1-a511eb27b980",
   "metadata": {},
   "outputs": [],
   "source": [
    "# Create a DNA heatmap to see both the variant workflow subclone labels and the compass assigned labels\n",
    "# Parameters\n",
    "attribute = 'NGT'\n",
    "assay = full_sample.dna\n",
    "lab_row1 = \"label\"\n",
    "lab_row2 = \"compass_labels\"\n",
    "lab2_title = \"Compass\"\n",
    "\n",
    "# Graphing\n",
    "data = assay.get_attribute(attribute, constraint=\"row+col\")\n",
    "ids = assay.clustered_ids(attribute)\n",
    "labels = pd.concat([assay.get_attribute(lab_row1), assay.get_attribute(lab_row2).rename(columns={\"1\": \"2\"})], axis=1)\n",
    "bars = assay.clustered_barcodes(attribute, splitby=labels)\n",
    "\n",
    "data = data.loc[bars, ids]\n",
    "labs1 = assay.get_attribute(lab_row1, constraint=\"row\").loc[bars, :].values.flatten()\n",
    "labs2 = assay.get_attribute(lab_row2, constraint=\"row\").loc[bars, :].values.flatten()\n",
    "\n",
    "fig = MultiMap([data], labs1, names=[attribute], extra_column_titles=[lab2_title], widths=[1 / 24, 1]).draw()\n",
    "fig.add_trace(Heatmap(data, labs2).label_trace(), row=1, col=2)\n",
    "fig.layout.xaxis2.tickvals = []\n",
    "\n",
    "fig"
   ]
  },
  {
   "cell_type": "code",
   "execution_count": null,
   "id": "08ce3e17",
   "metadata": {},
   "outputs": [],
   "source": [
    "# This will return a dataframe \n",
    "# Showing the overlap of variant workflow clones and compass identified clones\n",
    "full_sample.dna.crosstab(compass_labels, normalize='columns')"
   ]
  },
  {
   "cell_type": "code",
   "execution_count": null,
   "id": "b4b6de59",
   "metadata": {},
   "outputs": [],
   "source": [
    "# This will plot a heatmap of the crosstab dataframe\n",
    "full_sample.dna.crosstabmap(compass_labels, normalize='columns').show()"
   ]
  },
  {
   "cell_type": "markdown",
   "id": "752a9f18-b020-4e38-ab35-a30e84561142",
   "metadata": {},
   "source": [
    "<b> Export data to use in COMPASS </b>"
   ]
  },
  {
   "cell_type": "code",
   "execution_count": null,
   "id": "0610760c-cf7e-4540-8732-a4f73bc48542",
   "metadata": {},
   "outputs": [],
   "source": [
    "# Export compass data into 2 output files\n",
    "# compass_input_regions.csv and compass_input_variants.csv\n",
    "# These can be used with COMPASS outside of Mosaic\n",
    "\n",
    "compass.prepare_input(prefix=\"./compass_input\")"
   ]
  },
  {
   "cell_type": "markdown",
   "id": "9c4c1ad0-911a-4169-96dc-a8d5083f9694",
   "metadata": {},
   "source": [
    "### DNA clustering\n",
    "\n",
    "<b> This section of the notebook is optional </b>\n",
    "\n",
    "Below is an alternative way to cluster cells based on DNA data. These feature is useful in understanding the diversity within the cell population and may reduce the amount of cells lost from missing data.\n"
   ]
  },
  {
   "cell_type": "code",
   "execution_count": null,
   "id": "a7ce1970-1a88-4ce3-bfce-66a5955f9e5e",
   "metadata": {},
   "outputs": [],
   "source": [
    "# First: run PCA on filtered data frame (all cells, chosen variants) using the AF_MISSING layer, for instance\n",
    "# Note: AF_MISSING includes -50 values for all 0 values for which the data was filtered and is missing\n",
    "# The number of components should equal the number of pre-filtered variants\n",
    "sample.dna.run_pca(components=100, attribute='AF_MISSING',show_plot=True) "
   ]
  },
  {
   "cell_type": "code",
   "execution_count": null,
   "id": "e5718144-d73e-4101-9f0b-f61d54747325",
   "metadata": {},
   "outputs": [],
   "source": [
    "# Rerun PCA with optimal number of components based on elbow plot analysis\n",
    "sample.dna.run_pca(components=6, attribute='AF_MISSING')"
   ]
  },
  {
   "cell_type": "code",
   "execution_count": null,
   "id": "343c6448-0683-4368-904f-a143c2b9096f",
   "metadata": {},
   "outputs": [],
   "source": [
    "# Run UMAP on top of the newly created PC dataframe\n",
    "# See https://jlmelville.github.io/uwot/abparams.html for appropriate spread and min_dist values\n",
    "sample.dna.run_umap(attribute='pca', random_state=42) #, min_dist=0.2, spread=1.5)"
   ]
  },
  {
   "cell_type": "code",
   "execution_count": null,
   "id": "53f050b8-2679-4548-bb11-32898de7118d",
   "metadata": {},
   "outputs": [],
   "source": [
    "# Review other clustering methods\n",
    "help(sample.dna.cluster)"
   ]
  },
  {
   "cell_type": "code",
   "execution_count": null,
   "id": "e360819c-0ac6-4fe8-b45a-b50d483eb9f3",
   "metadata": {},
   "outputs": [],
   "source": [
    "# Visualize data and cluster it using different methods\n",
    "sample.dna.cluster(attribute='umap', method='graph-community', k=400)"
   ]
  },
  {
   "cell_type": "code",
   "execution_count": null,
   "id": "c255c077-9a49-48ea-a078-cc8d98944616",
   "metadata": {},
   "outputs": [],
   "source": [
    "# Re-plot UMAP projection w/ alternative clustering results\n",
    "fig = sample.dna.scatterplot(attribute='umap', colorby='label')\n",
    "go.Figure(fig)"
   ]
  },
  {
   "cell_type": "code",
   "execution_count": null,
   "id": "55fdac83-8287-4658-ad69-60431a47712d",
   "metadata": {},
   "outputs": [],
   "source": [
    "# Plot heatmap using NGT\n",
    "fig = sample.dna.heatmap(attribute='NGT_FILTERED')\n",
    "go.Figure(fig)"
   ]
  }
 ],
 "metadata": {
  "kernelspec": {
   "display_name": "missionbio.mosaic",
   "language": "python",
   "name": "python3"
  },
  "language_info": {
   "codemirror_mode": {
    "name": "ipython",
    "version": 3
   },
   "file_extension": ".py",
   "mimetype": "text/x-python",
   "name": "python",
   "nbconvert_exporter": "python",
   "pygments_lexer": "ipython3",
   "version": "3.10.17"
  }
 },
 "nbformat": 4,
 "nbformat_minor": 5
}

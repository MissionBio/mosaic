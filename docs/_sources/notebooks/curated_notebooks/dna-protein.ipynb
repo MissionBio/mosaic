{
 "cells": [
  {
   "cell_type": "markdown",
   "id": "d9ff9d6b-a29e-4c32-aeb0-b4fd8efaee22",
   "metadata": {},
   "source": [
    "## Single Sample DNA + Protein"
   ]
  },
  {
   "cell_type": "markdown",
   "id": "f03ceac7",
   "metadata": {},
   "source": [
    "<b>This notebook is set up to work with single-sample h5 files, generated with v2 or v3 chemistry. This notebook will only work with Mosaic versions 3.7 and higher.</b>\n",
    "\n",
    "\n",
    "<b>Objective</b>: To showcase the minimum number of steps required for tertiary analysis of DNA (single-cell genotyping and CNV) and Protein analytes and explore different ways of visualizing the data.<br>\n",
    "\n",
    "<b>Major questions answered:</b>\n",
    "1. Can we identify DNA clones based on genotypes (SNVs/Indels)?<br>\n",
    "2. Do we detect CNV events (e.g., copy number amplification, copy number loss)?<br>\n",
    "3. Can we delineate different cell types from cell surface protein expression data?<br>\n",
    "4. Do DNA clones (genotypes) correlate with specific protein-defined cell types and/or CNV profiles?<br>\n",
    "\n",
    "<b>Sections:</b>\n",
    "1. Setup\n",
    "2. Data Structure\n",
    "3. DNA Analysis\n",
    "4. CNV Analysis\n",
    "5. Protein Analysis\n",
    "6. Combined Visualizations\n",
    "7. Export and Save Data\n",
    "8. Appendix\n",
    "\n",
    "<b>Not shown:</b>\n",
    "All available methods and options - documented [here](https://missionbio.github.io/mosaic/index.html)<br>\n",
    "\n"
   ]
  },
  {
   "cell_type": "markdown",
   "id": "e4267a5c",
   "metadata": {},
   "source": [
    "## Setup \n",
    "\n",
    "<b>Topics covered</b><br>\n",
    "1. Loading required packages.\n",
    "2. Loading in data.\n",
    "\n",
    "\n",
    "<b>Load data</b><br>\n",
    "<b>Note:</b> importing dependencies can sometimes take a couple of minutes."
   ]
  },
  {
   "cell_type": "code",
   "execution_count": null,
   "id": "0482fac8",
   "metadata": {},
   "outputs": [],
   "source": [
    "# Import mosaic libraries\n",
    "import missionbio.mosaic as ms\n",
    "\n",
    "# Import these to display entire dataframes\n",
    "from IPython.display import display, HTML\n",
    "\n",
    "# Import graph_objects from the plotly package to display figures when saving the notebook as an HTML\n",
    "import plotly as px\n",
    "import plotly.graph_objects as go\n",
    "\n",
    "# Import additional packages for specific visuals\n",
    "import matplotlib.pyplot as plt\n",
    "import plotly.offline as pyo\n",
    "pyo.init_notebook_mode()\n",
    "import numpy as np\n",
    "import seaborn as sns\n",
    "from missionbio.plotting.multimap import MultiMap\n",
    "from missionbio.plotting.heatmap import Heatmap\n",
    "\n",
    "# Import COMPASS for imputation\n",
    "from missionbio.mosaic.algorithms.compass import COMPASS\n",
    "import pandas as pd\n",
    "\n",
    "# Import for protein assignment\n",
    "from missionbio.demultiplex.protein.truth import Truth\n",
    "\n",
    "# Note: when exporting the notebook as an HTML, plots that use the \"go.Figure(fig)\" command are saved"
   ]
  },
  {
   "cell_type": "code",
   "execution_count": null,
   "id": "8b31552a",
   "metadata": {},
   "outputs": [],
   "source": [
    "# This code is optional, but will make the notebook cells/figures display across the entire width of the browser\n",
    "from IPython.display import display, HTML\n",
    "display(HTML(\"<style>.container { width:100% !important; }</style>\"))"
   ]
  },
  {
   "cell_type": "code",
   "execution_count": null,
   "id": "c12fad9f",
   "metadata": {},
   "outputs": [],
   "source": [
    "# Check version; this notebook is designed for Mosaic v3.7 or higher\n",
    "print(ms.__version__)"
   ]
  },
  {
   "cell_type": "code",
   "execution_count": null,
   "id": "32f60a4b",
   "metadata": {},
   "outputs": [],
   "source": [
    "# Any function's parameters and default values can be looked up via the 'help' function\n",
    "# Here, the function is 'ms.load'\n",
    "help(ms.load)"
   ]
  },
  {
   "cell_type": "markdown",
   "id": "6e19bdee-b838-4c9a-a974-01285d540067",
   "metadata": {},
   "source": [
    "### <b> Loading the data </b>\n",
    "\n",
    "In the ms.load statement, there are several arguments:\n",
    "- <b> raw </b>: always set raw=False; if raw=True, ALL barcodes will be loaded (rather than cell-associated barcodes)\n",
    "- <b> filter_variants </b>: always set filter_variants=True unless an expected (target) variant cannot be found. Additional filtering options are included in the DNA section below. <b> NOTE </b>: if loading using filter_variants=False, the whitelist may need to set to None or removed from the command, otherwise it may not load variants in\n",
    "- <b> single </b>: always set single=False for multisample/merged h5 files\n",
    "- <b> whitelist </b>: The whitelist option loads any variant that is in the vcf.gz file (e.g. \"chr1:179520511:C/G\"). The whitelist argument takes many variant formats, they are detailed [here](https://missionbio.github.io/mosaic/pages/functions/missionbio.mosaic.io.load.html).\n",
    "- <b> filter_cells </b>: Always set filter_cells=False; if filter_cells=True, only cells called by the completelyness algorithm are loaded "
   ]
  },
  {
   "cell_type": "code",
   "execution_count": null,
   "id": "daa8fb41",
   "metadata": {},
   "outputs": [],
   "source": [
    "# Specify the h5 file to be used in this analysis: h5path = '/path/to/h5/file/test.h5'\n",
    "# If working with Windows, an 'r' may need to be added before the path: h5path = r'/path/to/h5/file/test.h5'\n",
    "h5path = '/Users/botero/Desktop/Sample data/4-cell-lines-AML-multiomics/4-cell-lines-AML-multiomics.dna+protein.h5'\n",
    "\n",
    "# Load the data\n",
    "sample = ms.load(h5path, raw=False, filter_variants=True, single=True, whitelist = [], filter_cells=False) "
   ]
  },
  {
   "cell_type": "markdown",
   "id": "fe5217d1",
   "metadata": {},
   "source": [
    "### <b>Data Structure</b>\n",
    "    \n",
    "DNA, CNV, and Protein are sub-classes of the Assay class. The information is stored in four categories, and the user can modify each of those:\n",
    "\n",
    "<b>1. metadata (add_metadata / del_metadata):</b>\n",
    " - dictionary containing assay parameters and basic performance metrics\n",
    "\n",
    "<b>2. layers (add_layer / del_layer):</b>\n",
    " - dictionary containing matrices of assay metrics\n",
    " - all the matrices have the shape (num barcodes) x (num ids) \n",
    " - for DNA assays, this includes AF, GQ, DP, etc. \n",
    "   (per cell, per variant)\n",
    " - for Protein assays, this includes read counts \n",
    "   (per cell, per antibody)\n",
    " - for CNV assays, this includes read counts\n",
    "   (per cell, per amplicon)\n",
    " \n",
    "<b>3. row_attrs (add_row_attr / del_row_attr):</b>\n",
    " - dictionary containing 'barcode' as one of the keys \n",
    "   (where the value is a list of all barcodes)\n",
    " - for all other keys, the values must be of the same \n",
    "   length, i.e. match the number of barcodes\n",
    " - this is the attribute where 'label', 'pca', \n",
    "   and 'umap' values are added\n",
    "   \n",
    "<b>4. col_attrs (add_col_attr / del_col_attr):</b>\n",
    " - dictionary containing 'id' as one of the keys \n",
    "   (where the value is a list of all ids)\n",
    " - for DNA assays, 'ids' are variants; for Protein assays, \n",
    "   'ids' are antibodies; for CNV assays, 'ids' are amplicons\n",
    " - for all other keys, the values must be of the same\n",
    "   length, i.e. match the number ids\n",
    "\n",
    " "
   ]
  },
  {
   "cell_type": "code",
   "execution_count": null,
   "id": "5acb56f8",
   "metadata": {},
   "outputs": [],
   "source": [
    "# Summary of DNA assay \n",
    "print(\"\\'sample.dna\\':\", sample.dna, '\\n')\n",
    "print(\"\\'row_attrs\\':\", \"\\n\\t\", list(sample.dna.row_attrs.keys()), '\\n')\n",
    "print(\"\\'col_attrs\\':\", \"\\n\\t\", list(sample.dna.col_attrs.keys()), '\\n')\n",
    "print(\"\\'layers\\':\", \"\\n\\t\", list(sample.dna.layers.keys()), '\\n')\n",
    "print(\"\\'metadata\\':\", \"\\n\")\n",
    "for i in list(sample.dna.metadata.keys()):\n",
    "    print(\"\\t\", i, \": \", sample.cnv.metadata[i], sep=\"\")"
   ]
  },
  {
   "cell_type": "code",
   "execution_count": null,
   "id": "3c0a9ae3",
   "metadata": {},
   "outputs": [],
   "source": [
    "# For DNA, ids are variants\n",
    "# sample.dna.ids() is a shortcut for sample.dna.col_attrs['id']\n",
    "sample.dna.ids()"
   ]
  },
  {
   "cell_type": "code",
   "execution_count": null,
   "id": "4882b867-3da8-4d6a-8d70-2bda7a8e58f4",
   "metadata": {},
   "outputs": [],
   "source": [
    "# Summary of CNV assay\n",
    "print(\"\\'sample.cnv\\':\", sample.cnv, '\\n')\n",
    "print(\"\\'row_attrs\\':\", \"\\n\\t\", list(sample.cnv.row_attrs.keys()), '\\n')\n",
    "print(\"\\'col_attrs\\':\", \"\\n\\t\", list(sample.cnv.col_attrs.keys()), '\\n')\n",
    "print(\"\\'layers\\':\", \"\\n\\t\", list(sample.cnv.layers.keys()), '\\n')\n",
    "print(\"\\'metadata\\':\", \"\\n\")\n",
    "for i in list(sample.cnv.metadata.keys()):\n",
    "    print(\"\\t\", i, \": \", sample.cnv.metadata[i], sep=\"\")"
   ]
  },
  {
   "cell_type": "code",
   "execution_count": null,
   "id": "6bd90dfa-f24b-440f-a624-c0c4f716b1de",
   "metadata": {},
   "outputs": [],
   "source": [
    "# For CNV, ids are amplicons\n",
    "# sample.cnv.ids() is a shortcut for sample.cnv.col_attrs['id']\n",
    "sample.cnv.ids()"
   ]
  },
  {
   "cell_type": "code",
   "execution_count": null,
   "id": "9ab34a68",
   "metadata": {},
   "outputs": [],
   "source": [
    "# Summary of Protein assay \n",
    "print(\"\\'sample.protein\\':\", sample.protein, '\\n')\n",
    "print(\"\\'row_attrs\\':\", \"\\n\\t\", list(sample.protein.row_attrs.keys()), '\\n')\n",
    "print(\"\\'col_attrs\\':\", \"\\n\\t\", list(sample.protein.col_attrs.keys()), '\\n')\n",
    "print(\"\\'layers\\':\", \"\\n\\t\", list(sample.protein.layers.keys()), '\\n')\n",
    "print(\"\\'metadata\\':\", \"\\n\")\n",
    "for i in list(sample.protein.metadata.keys()):\n",
    "    print(\"\\t\", i, \": \", sample.protein.metadata[i], sep=\"\")"
   ]
  },
  {
   "cell_type": "code",
   "execution_count": null,
   "id": "ed2b75a7",
   "metadata": {},
   "outputs": [],
   "source": [
    "# For Protein, ids are AOCs\n",
    "# sample.protein.ids() is a shortcut for sample.protein.col_attrs['id']\n",
    "sample.protein.ids()"
   ]
  },
  {
   "cell_type": "markdown",
   "id": "128602f7",
   "metadata": {},
   "source": [
    "## DNA Analysis\n",
    "<b>Topics covered</b><br>\n",
    "1. Standard filtering of DNA variants.\n",
    "2. Subsetting dataset for variants of interest, including whitelisted variants.\n",
    "3. Addition of annotations to the variants.\n",
    "4. Manual variant selection and clone identification\n",
    "5. Visualizations and customization options\n",
    "\n",
    "### Basic filtering\n",
    "There are many options for filtering DNA variants. \n",
    "Use the `help()` function to understand the approach listed below.\n"
   ]
  },
  {
   "cell_type": "code",
   "execution_count": null,
   "id": "a86afb03",
   "metadata": {},
   "outputs": [],
   "source": [
    "help(sample.dna.filter_variants)"
   ]
  },
  {
   "cell_type": "code",
   "execution_count": null,
   "id": "ecd2fd81",
   "metadata": {},
   "outputs": [],
   "source": [
    "# Adjust filters if needed by overwriting dna_vars\n",
    "dna_vars = sample.dna.filter_variants(\n",
    "    min_dp=10,\n",
    "    min_gq=30,\n",
    "    vaf_ref=5,\n",
    "    vaf_hom=95,\n",
    "    vaf_het=30,\n",
    "    min_prct_cells=50,\n",
    "    min_mut_prct_cells=1,\n",
    "    iterations=10,\n",
    ")\n",
    "\n",
    "# Check the number of filtered variants. When using the default filters, the number of \n",
    "# variants is likely smaller compared to the originally loaded variants due to the more \n",
    "# stringent filtering criteria (e.g., vaf_ref=5, vaf_hom=95, vaf_het=30).\n",
    "print('Number of variants:', len(dna_vars))\n",
    "print(dna_vars)"
   ]
  },
  {
   "cell_type": "markdown",
   "id": "e3da5813",
   "metadata": {},
   "source": [
    "<b>Note:</b> Variants that are whitelisted during sample loading may be removed at this step, but can be added back in below. Whitelisted variants can be added to the list of final variants, or used exclusively in the code below."
   ]
  },
  {
   "cell_type": "code",
   "execution_count": null,
   "id": "6ab3ad08",
   "metadata": {},
   "outputs": [],
   "source": [
    "# Ensure correct nomenclature, ie whitelist = [\"chr13:28589657:T/G\",\"chrX:39921424:G/A\"]\n",
    "# While the load statement accepts many variant formats, this whitelist does not\n",
    "# If there are no whitelist variants, this can be left blank\n",
    "\n",
    "white_list = []\n",
    "\n",
    "# Combine whitelisted and filtered variants\n",
    "final_vars = list(set(list(dna_vars) + white_list))\n",
    "\n",
    "# To use only white_list variants:\n",
    "# final_vars = white_list"
   ]
  },
  {
   "cell_type": "code",
   "execution_count": null,
   "id": "eefecc22",
   "metadata": {},
   "outputs": [],
   "source": [
    "# Check the length of the final list of variants\n",
    "len(final_vars)"
   ]
  },
  {
   "cell_type": "code",
   "execution_count": null,
   "id": "58cc072d",
   "metadata": {},
   "outputs": [],
   "source": [
    "# Dimensionality of the original sample.dna dataframe\n",
    "# First number = number of cells (rows); second number = number of variants (columns)\n",
    "sample.dna.shape"
   ]
  },
  {
   "cell_type": "code",
   "execution_count": null,
   "id": "48ae57fe",
   "metadata": {},
   "outputs": [],
   "source": [
    "# Before subsetting, verify that all the chosen variants are in the current sample.dna ids (should return True)\n",
    "print(set(final_vars).issubset(set(sample.dna.ids())))"
   ]
  },
  {
   "cell_type": "code",
   "execution_count": null,
   "id": "90cabd2d",
   "metadata": {},
   "outputs": [],
   "source": [
    "# Subsetting sample.dna (columns) based on reduced variant list.\n",
    "sample.dna = sample.dna[:, final_vars]"
   ]
  },
  {
   "cell_type": "code",
   "execution_count": null,
   "id": "259af3ee",
   "metadata": {},
   "outputs": [],
   "source": [
    "# Check the shape of the final filtered DNA object, i.e. (number of barcodes/cells, number of ids/variants)\n",
    "sample.dna.shape"
   ]
  },
  {
   "cell_type": "markdown",
   "id": "943601b9",
   "metadata": {},
   "source": [
    "### Annotation Addition\n"
   ]
  },
  {
   "cell_type": "code",
   "execution_count": null,
   "id": "09bf3440",
   "metadata": {},
   "outputs": [],
   "source": [
    "help(sample.dna.get_annotations)"
   ]
  },
  {
   "cell_type": "code",
   "execution_count": null,
   "id": "7cf70f63",
   "metadata": {},
   "outputs": [],
   "source": [
    "# Fetch annotations using varsome\n",
    "# Note: run this on a filtered DNA sample - too many variants (e.g., 100+) are not handled correctly by the method\n",
    "ann = sample.dna.get_annotations()  "
   ]
  },
  {
   "cell_type": "markdown",
   "id": "a50751b9",
   "metadata": {},
   "source": [
    "### Variant selection and Subclone identification\n",
    "\n",
    "In this section of the notebook, all variants remaining in the dataset will populate in a variant table. This table is interactive, variants can be selected, and rows can be sorted by ascending/descending values. The variant name can be clicked on and will navigate to the variant's varsome page in the default browser.\n",
    "1. Variants selected in this table will populate in a subclone table below. \n",
    "2. The variants in the subclone table can be highlighted and assessed for Read Depth, Genotype Quality and Variant Allele Frequency. \n",
    "3. Subclones can be renamed by clicking on the pencil icon. \n",
    "4. <b>ADO score:</b> The ADO score threshold can be adjusted, but by default is set to 1. Any clones with an ADO score higher this will be moved into the \"ADO subclones\" column. We recommend moving any clones with a score of .8 or higher into this column. The algorithm used to generate the score is detailed [here](https://missionbio.github.io/mosaic/pages/methods/missionbio.mosaic.dna.Dna.group_by_genotype.html#missionbio.mosaic.dna.Dna.group_by_genotype).\n",
    "5. <b> Min clone size: </b> The Min Clone Size can also be adjusted, but by default is set to 1. Any clones that represent less than 1% of the sample will be moved into the \"Small Subclones\" column. \n",
    "6. Cells with missing genotype information across any of the selected variants will be moved into the \"Missing GT\" column. "
   ]
  },
  {
   "cell_type": "code",
   "execution_count": null,
   "id": "5cfad026",
   "metadata": {},
   "outputs": [],
   "source": [
    "# Run the variant table workflow to select variants and begin clone identification\n",
    "wfv = ms.workflows.VariantSubcloneTable(sample)\n",
    "wfv.run()\n",
    "# The width can be adjusted if needed for long variant names\n",
    "# wfv.run(width=3000)"
   ]
  },
  {
   "cell_type": "markdown",
   "id": "e242f65a-b061-4125-ab43-af90e4d6b35c",
   "metadata": {},
   "source": [
    "<b>NOTE:</b> When continuing onto the next piece of the notebook, the workflow will stop working."
   ]
  },
  {
   "cell_type": "code",
   "execution_count": null,
   "id": "10193a54",
   "metadata": {},
   "outputs": [],
   "source": [
    "# Subsample the variants to only the variants selected from the workflow\n",
    "variants = wfv.selected_variants\n",
    "sample.dna = sample.dna[:,variants]\n",
    "\n",
    "# Save the full set of cells to a new variable that can be called on later\n",
    "# Do this before renaming the variants\n",
    "full_sample = sample[:]"
   ]
  },
  {
   "cell_type": "code",
   "execution_count": null,
   "id": "3cf6c9fa",
   "metadata": {},
   "outputs": [],
   "source": [
    "# Rename the variants\n",
    "# Any of these column values can be added to the id names\n",
    "sample.dna.col_attrs.keys()"
   ]
  },
  {
   "cell_type": "code",
   "execution_count": null,
   "id": "9276adbc",
   "metadata": {},
   "outputs": [],
   "source": [
    "# Add annotation to the id names\n",
    "sample.dna.set_ids_from_cols(['annotated Gene', 'id'])\n",
    "\n",
    "# Another example:\n",
    "# sample.dna.set_ids_from_cols(['annotated Gene', 'CHROM', 'POS', 'REF', 'ALT'])\n",
    "\n",
    "# Annotations are now added to the variants\n",
    "sample.dna.ids()\n",
    "\n",
    "# Use sample.dna.reset_ids() to get the original ids"
   ]
  },
  {
   "cell_type": "code",
   "execution_count": null,
   "id": "c155e0b8",
   "metadata": {},
   "outputs": [],
   "source": [
    "# Plot heatmap using NGT_FILTERED\n",
    "fig = sample.dna.heatmap(attribute='NGT_FILTERED')\n",
    "go.Figure(fig)"
   ]
  },
  {
   "cell_type": "code",
   "execution_count": null,
   "id": "0f33655a",
   "metadata": {},
   "outputs": [],
   "source": [
    "# Clone removal\n",
    "# Remove barcodes from the missing GT, small subclones, ADO subclones or FP labels\n",
    "clones = ['missing', 'small', 'ADO', 'FP']\n",
    "for c in clones:\n",
    "    cells = sample.dna.barcodes({c})\n",
    "    if len(cells) > 0:\n",
    "        sample.dna = sample.dna.drop(cells)\n",
    "set(sample.dna.get_labels())"
   ]
  },
  {
   "cell_type": "code",
   "execution_count": null,
   "id": "3a037572-6f58-4ed2-8e23-248cffab2ced",
   "metadata": {},
   "outputs": [],
   "source": [
    "# If subclones need to be renamed outside of the workflow\n",
    "# The following code can be used:\n",
    "# NOTE: all clones need to be listed for this function to work\n",
    "sample.dna.rename_labels(\n",
    "  {\n",
    "    'current_subclone_name': 'new_subclone_name', \n",
    "    'WT': 'Wild Type',\n",
    "    '3': 'three',\n",
    "    '4': 'four',      \n",
    "  }\n",
    ")"
   ]
  },
  {
   "cell_type": "code",
   "execution_count": null,
   "id": "ef39df79",
   "metadata": {},
   "outputs": [],
   "source": [
    "# Redraw heatmap\n",
    "fig = sample.dna.heatmap(attribute='NGT_FILTERED')\n",
    "go.Figure(fig)"
   ]
  },
  {
   "cell_type": "code",
   "execution_count": null,
   "id": "bbe60156-be95-42a4-a534-a36e83f05b1c",
   "metadata": {},
   "outputs": [],
   "source": [
    "# Manually generate a phylogeny tree of the subclones in your sample\n",
    "from missionbio.plotting.phylotree import PhyloTree\n",
    "\n",
    "labels = [\"1\", \"2\", \"3\", \"4\"]\n",
    "parents = [None, \"1\", \"1\", \"2\"]\n",
    "descriptions = [\"WT\", \"KIT HET\", \"KIT HET<br>TP53 HET\", \"KIT LOH\"]\n",
    "graph = PhyloTree(labels, parents, descriptions)\n",
    "graph.draw(palette={\"1\": \"#000000\", \"2\": \"crimson\", \"3\": \"skyblue\", \"4\": \"red\"})"
   ]
  },
  {
   "cell_type": "code",
   "execution_count": null,
   "id": "2e38d011",
   "metadata": {},
   "outputs": [],
   "source": [
    "# Evaluate new total number of cells after the above filtering\n",
    "sample.dna.shape"
   ]
  },
  {
   "cell_type": "markdown",
   "id": "9e9a4dfb",
   "metadata": {},
   "source": [
    "### Adjusting subclone colors or heatmap colors\n",
    "\n",
    "To change the color palette used for the subclones, use `set_palette`. For this provide a list of ALL subclone names, pointing to the hexcode/color to change that subclone to. Note: this function also works with the protein and CNV assays. See below for an example of this.\n",
    "\n",
    "To change the color palette used for any of the assays/layers, use `ms.Config.Colorscale`. Then list the assay and layer, and assign the plotly colorscale to use for those graphics. Visualize all available colorscales by using `plotly.colors.sequential.swatches_continuous().show()`. To reset all color palettes back to their defaults, use `ms.Config.Colorscle.reset()`."
   ]
  },
  {
   "cell_type": "code",
   "execution_count": null,
   "id": "c6adff13",
   "metadata": {},
   "outputs": [],
   "source": [
    "# Example of changing the colors assigned to each clone\n",
    "sample.dna.set_palette({'Clone 1': '#800080', 'Clone 2': '#FF69B4'})"
   ]
  },
  {
   "cell_type": "code",
   "execution_count": null,
   "id": "d55d45e2",
   "metadata": {},
   "outputs": [],
   "source": [
    "# Change colorScale to change the heatmap colors\n",
    "# This will change the color of the dna.ngt layer to be viridis\n",
    "ms.Config.Colorscale.Dna.NGT = 'viridis'\n",
    "fig = sample.dna.heatmap('NGT')\n",
    "fig.show()\n",
    "\n",
    "# Run the following to reset the colorscale\n",
    "#ms.Config.Colorscale.Dna.reset(\"NGT\")\n",
    "# Or run this to reset any/all modifications:\n",
    "#ms.Config.Colorscale.reset()\n",
    "# Colorscale can be changed for DNA, CNV and Protein assays"
   ]
  },
  {
   "cell_type": "markdown",
   "id": "00ba7941",
   "metadata": {},
   "source": [
    "To return back to the original population of cells, reset the data using: `sample.reset(\"dna\")` This command 'sample.reset' works on all assays, including CNV and protein."
   ]
  },
  {
   "cell_type": "markdown",
   "id": "c68c8761",
   "metadata": {},
   "source": [
    "## CNV Analysis\n",
    "\n",
    "<b>Topics covered</b>\n",
    "1. Amplicon and cell filtering and ploidy estimation.\n",
    "2. Visualization of ploidy across subclones present."
   ]
  },
  {
   "cell_type": "code",
   "execution_count": null,
   "id": "bf4f3504",
   "metadata": {},
   "outputs": [],
   "source": [
    "# Get gene names for amplicons\n",
    "sample.cnv.get_gene_names()"
   ]
  },
  {
   "cell_type": "markdown",
   "id": "15e03c10",
   "metadata": {},
   "source": [
    "### CNV workflow\n",
    "\n",
    "This workflow will normalize all reads and filter amplicons/cells based on the settings set at the beginning of the workflow: <br>\n",
    "1. <b> Amplicon completeness: </b> refers to the minimum percentage of cells that must have reads greater than or equal to the minimum read depth set. By default this is set to 50. <br>\n",
    "2. <b> Amplicon read depth: </b> refers to the minimum read depth for each amplicon-barcode combination to not be considered missing. By default this is set to 10. <br>\n",
    "3. <b>Mean cell read depth: </b> refers the minimum mean read depth for a cell to be included in the analysis, otherwise the cell will be removed. By default this is set to 40.<br>\n",
    "4. <b>Diploid clone in DNA: </b> refers to which subclone is used as the true diploid population. All ploidy estimates will be calculated in relation to this diploid population. We recommend setting this to the 'WT' population or earliest clone present. <br>\n",
    "    \n",
    "<b> Note: </b> If large copy number events are expected, Amplicon Completeness and Amplicon Read Depth may need to be reduced.\n",
    "\n",
    "Once the above filters are set, the visualizations can be changed. <br>\n",
    "1. <b> Plot:</b> Can be changed from Heatmap positions, to Heatmap genes, Line-plot positions, Line-plot genes <br>\n",
    "2. <b> Clone for line plot:</b> If one of the line-plot visualizations is selected, only one clone can be shown at a time. This determines which one is plotted. <br>\n",
    "3. <b> X-axis features: </b> To plot a subset of the data (chromosomes or genes), select which chromosomes/genes should be plotted with this function. Chromosomes can be selected for 'positions' type plots, and Genes can be selected for 'genes' type plots."
   ]
  },
  {
   "cell_type": "code",
   "execution_count": null,
   "id": "3425c6f4",
   "metadata": {},
   "outputs": [],
   "source": [
    "# CNV workflow to filter, normalize and estimate ploidy\n",
    "wfc = ms.workflows.CopyNumber(sample)\n",
    "wfc.run()"
   ]
  },
  {
   "cell_type": "markdown",
   "id": "4d354fcc-1849-480e-b8c9-14b5fc667577",
   "metadata": {},
   "source": [
    "<b>NOTE:</b> When continuing onto the next piece of the notebook, the workflow will stop working."
   ]
  },
  {
   "cell_type": "code",
   "execution_count": null,
   "id": "9fbfaa34",
   "metadata": {},
   "outputs": [],
   "source": [
    "# Heatmap with the features ordered by the default amplicon order\n",
    "# To plot a subset of chromosome, the chromosomes can be put in list format in the features argument\n",
    "fig = sample.cnv.heatmap('ploidy', features='positions') #features=['7', '17', '20']\n",
    "\n",
    "# Optionally, restrict the range of ploidy values based on observed/expected CNV events (commented out)\n",
    "#fig.layout.coloraxis.cmax = 4\n",
    "#fig.layout.coloraxis.cmin = 0\n",
    "\n",
    "# Optionally, change the size of the figure:\n",
    "#fig.layout.width = 1600\n",
    "#fig.layout.height = 1500\n",
    "\n",
    "go.Figure(fig)"
   ]
  },
  {
   "cell_type": "code",
   "execution_count": null,
   "id": "7ce86aa8",
   "metadata": {},
   "outputs": [],
   "source": [
    "# Heatmap with the features grouped by the genes\n",
    "# To plot just a subset of genes, put them in list format for features\n",
    "fig = sample.cnv.heatmap('ploidy', features='genes', convolve=1) #features=[\"ASXL1\", \"EZH2\",'TP53']\n",
    "\n",
    "# Optionally, update the separating lines to be black\n",
    "#for shape in fig.layout.shapes:\n",
    "#    shape.line.color = '#000000'\n",
    "\n",
    "go.Figure(fig)"
   ]
  },
  {
   "cell_type": "code",
   "execution_count": null,
   "id": "72924647",
   "metadata": {},
   "outputs": [],
   "source": [
    "# Show heatmap with convolve and subclustering turned off\n",
    "bars = sample.cnv.clustered_barcodes('ploidy', subcluster=False)\n",
    "\n",
    "# This is useful to create \"convolved\" heatmaps which are easier to interpret\n",
    "# With the subclustering off and convolve=20, the noise will be reduced and real signals will be easier to visualize\n",
    "fig = sample.cnv.heatmap('ploidy', bars_order=bars, convolve=20)\n",
    "fig.layout.width = 900\n",
    "fig.show()"
   ]
  },
  {
   "cell_type": "markdown",
   "id": "f5b6793a",
   "metadata": {},
   "source": [
    "## Protein Analysis"
   ]
  },
  {
   "cell_type": "markdown",
   "id": "30fe05cc",
   "metadata": {},
   "source": [
    "<b>Topics covered</b>\n",
    "\n",
    "1. Normalization and assessment of AOC abundance\n",
    "2. Clustering and visualization\n",
    "3. Statistical significance analysis"
   ]
  },
  {
   "cell_type": "markdown",
   "id": "3cac5ac2",
   "metadata": {},
   "source": [
    "### Normalization And Data Inspection"
   ]
  },
  {
   "cell_type": "code",
   "execution_count": null,
   "id": "06a8e732",
   "metadata": {},
   "outputs": [],
   "source": [
    "help(sample.protein.normalize_reads)"
   ]
  },
  {
   "cell_type": "code",
   "execution_count": null,
   "id": "18facc89",
   "metadata": {},
   "outputs": [],
   "source": [
    "# Normalize reads\n",
    "# Three different methods available: CLR = Centered Log Ratio, NSP = Noise corrected and Scaled, asinh = Inverse Hyperbolictrans formation\n",
    "sample.protein.normalize_reads('NSP') "
   ]
  },
  {
   "cell_type": "code",
   "execution_count": null,
   "id": "200c73d3",
   "metadata": {},
   "outputs": [],
   "source": [
    "# Ridge plot: shows distribution of AOC counts across all cells (bimodal = positive and negative cell populations)\n",
    "sample.protein.ridgeplot(attribute='normalized_counts',\n",
    "                         features=sample.protein.ids())"
   ]
  },
  {
   "cell_type": "code",
   "execution_count": null,
   "id": "75f1be83-7f4b-4202-b896-316e0e87d4af",
   "metadata": {},
   "outputs": [],
   "source": [
    "# This plot is helpful when titrating a custom AOC panel\n",
    "import pandas as pd\n",
    "import plotly.express as plx\n",
    "\n",
    "read_counts = sample.protein.layers[\"read_counts\"]\n",
    "ids = sample.protein.col_attrs[\"id\"].copy()\n",
    "cell_barcode = pd.DataFrame(read_counts, columns=ids).sum()\n",
    "cell_barcode.index.rename(\"Antibody\", inplace=True)\n",
    "cell_barcode = cell_barcode.reset_index(name=\"Cell Barcode Count\")\n",
    "cell_barcode['percent'] = (cell_barcode['Cell Barcode Count'] / cell_barcode['Cell Barcode Count'].sum()) * 100\n",
    "\n",
    "fig = plx.bar(cell_barcode, x='Antibody', y='percent')\n",
    "fig.show()\n",
    "\n",
    "# Or make a pie chart\n",
    "#fig = plx.pie(cell_barcode, values='Cell Barcode Count',names='Antibody', title='Count of Cell Barcodes')\n",
    "#fig.show()"
   ]
  },
  {
   "cell_type": "code",
   "execution_count": null,
   "id": "d9999757",
   "metadata": {},
   "outputs": [],
   "source": [
    "# Plotting combinations of AOCs on a biaxial scatterplot, to mimic FACS data\n",
    "fig = sample.protein.feature_scatter(layer='normalized_counts', ids=['CD19', 'CD45'])\n",
    "go.Figure(fig)"
   ]
  },
  {
   "cell_type": "code",
   "execution_count": null,
   "id": "56495eca",
   "metadata": {},
   "outputs": [],
   "source": [
    "# List all AOCs\n",
    "sample.protein.ids()"
   ]
  },
  {
   "cell_type": "code",
   "execution_count": null,
   "id": "fa97e891",
   "metadata": {},
   "outputs": [],
   "source": [
    "# Optionally, remove AOCs from the data set prior to clustering \n",
    "# For example, those that don't display any signal in any cells\n",
    "sample.protein = sample.protein.drop(['Mouse IgG1k', 'CD25'])"
   ]
  },
  {
   "cell_type": "markdown",
   "id": "4134f522",
   "metadata": {},
   "source": [
    "### Clustering And Visualization"
   ]
  },
  {
   "cell_type": "code",
   "execution_count": null,
   "id": "7ca504a5",
   "metadata": {},
   "outputs": [],
   "source": [
    "help(sample.protein.run_pca)"
   ]
  },
  {
   "cell_type": "code",
   "execution_count": null,
   "id": "b3f2cbc4",
   "metadata": {},
   "outputs": [],
   "source": [
    "# Run PCA on the protein dataset to visualize how many PCs contribute the most to variation\n",
    "# Number of components should equal the number of AOCs remaining in the dataset\n",
    "sample.protein.run_pca(attribute='normalized_counts', components=45,show_plot=True, random_state=42)"
   ]
  },
  {
   "cell_type": "code",
   "execution_count": null,
   "id": "e28fdb10",
   "metadata": {},
   "outputs": [],
   "source": [
    "# Rerun PCA with optimal number of components based on elbow plot analysis\n",
    "# Typically, components = 10 is appropriate for 45-plex Biolegend panel\n",
    "sample.protein.run_pca(attribute='normalized_counts', components=10, show_plot=False, random_state=42)"
   ]
  },
  {
   "cell_type": "code",
   "execution_count": null,
   "id": "8d4f8e0a",
   "metadata": {},
   "outputs": [],
   "source": [
    "# Now run UMAP on the chosen PCs \n",
    "# UMAPs rely on an initial randomization which leads to different projections every time\n",
    "# To address this, pass random_state to the run_umap method\n",
    "# See https://jlmelville.github.io/uwot/abparams.html for appropriate spread/min_dist values\n",
    "sample.protein.run_umap(attribute='pca', random_state=42) #, spread=, min_dist= \n",
    "###verbose=True"
   ]
  },
  {
   "cell_type": "code",
   "execution_count": null,
   "id": "e522cbc6",
   "metadata": {},
   "outputs": [],
   "source": [
    "# Cluster the AOCs. Several options are available, see help info for more options\n",
    "# Graph-community clustering: the higher the k value, the smaller the number of clusters --> adjust if necessary\n",
    "sample.protein.cluster(attribute='umap', method='graph-community',k=300, random_state=42) "
   ]
  },
  {
   "cell_type": "code",
   "execution_count": null,
   "id": "52ca4ac0-2a31-463b-8d1c-fc9100a9dae9",
   "metadata": {},
   "outputs": [],
   "source": [
    "# Plot UMAP for visualization of clusters\n",
    "fig = sample.protein.scatterplot(attribute='umap',colorby='label')\n",
    "go.Figure(fig)"
   ]
  },
  {
   "cell_type": "markdown",
   "id": "c8704079-28f0-4a00-9bbb-f078f4a27248",
   "metadata": {},
   "source": [
    "The protein clusters defined by the PCA + UMAP can be regrouped by utilizing the lasso tool. First, the UMAP needs to be replotted. On the new version of the plot, clusters can be encircled with the lasso tool, found in the upper right corner of the graph. Once this step is complete, the new cluster labels can be assigned in the following block."
   ]
  },
  {
   "cell_type": "code",
   "execution_count": null,
   "id": "75a41a83-ae57-4e3f-bf02-509ae05e32f4",
   "metadata": {},
   "outputs": [],
   "source": [
    "# Plot UMAP for lasso cluster selection\n",
    "# Be sure that selected_bars is clear before running for lasso selection\n",
    "# Don't use go.Figure()\n",
    "sample.protein.selected_bars = {}\n",
    "sample.protein.scatterplot(attribute='umap', colorby='label')"
   ]
  },
  {
   "cell_type": "code",
   "execution_count": null,
   "id": "95b7e605-8e3f-49d5-9ca6-1b1c596500d3",
   "metadata": {},
   "outputs": [],
   "source": [
    "# Assign new labels (run this right after selecting your new clusters)\n",
    "sample.protein.set_selected_labels()"
   ]
  },
  {
   "cell_type": "code",
   "execution_count": null,
   "id": "9718af74",
   "metadata": {},
   "outputs": [],
   "source": [
    "# Plot heatmap of normalized, clustered protein data\n",
    "fig = sample.protein.heatmap(attribute='normalized_counts')\n",
    "go.Figure(fig)"
   ]
  },
  {
   "cell_type": "code",
   "execution_count": null,
   "id": "b668b0e3",
   "metadata": {},
   "outputs": [],
   "source": [
    "help(sample.protein.scatterplot)"
   ]
  },
  {
   "cell_type": "code",
   "execution_count": null,
   "id": "da99ee3c",
   "metadata": {},
   "outputs": [],
   "source": [
    "# Plot UMAP for visualization of clusters\n",
    "fig = sample.protein.scatterplot(attribute='umap',colorby='label')\n",
    "go.Figure(fig)"
   ]
  },
  {
   "cell_type": "code",
   "execution_count": null,
   "id": "82f0b237",
   "metadata": {},
   "outputs": [],
   "source": [
    "# UMAP colored by the expression of each AOC\n",
    "fig = sample.protein.scatterplot(attribute='umap',\n",
    "                           colorby='normalized_counts',\n",
    "                           features=sample.protein.ids())\n",
    "go.Figure(fig)\n"
   ]
  },
  {
   "cell_type": "code",
   "execution_count": null,
   "id": "ae30a7d1",
   "metadata": {},
   "outputs": [],
   "source": [
    "# Relabel clone names acccording to biology, combine clones by assigned identical names\n",
    "# Just an example! Need to fill this in based on knowledge of the sample and markers\n",
    "sample.protein.rename_labels(\n",
    "    {\n",
    "        '1': 'Cell type A', \n",
    "        '2': 'Cell type B', \n",
    "        '3': 'Cell type C',\n",
    "        '4': 'Cell type D',\n",
    "        '5': 'Cell type E'\n",
    "    }\n",
    ")"
   ]
  },
  {
   "cell_type": "code",
   "execution_count": null,
   "id": "b892d8e1",
   "metadata": {},
   "outputs": [],
   "source": [
    "# Run heatmap again with new labels\n",
    "fig = sample.protein.heatmap(attribute='normalized_counts')\n",
    "go.Figure(fig)"
   ]
  },
  {
   "cell_type": "code",
   "execution_count": null,
   "id": "f8fc1f32",
   "metadata": {},
   "outputs": [],
   "source": [
    "# Drop cells (barcodes) that need to be removed\n",
    "# Note: If no cells are dropped, this code will producs an error (ignore)\n",
    "fp_barcodes2 = sample.protein.barcodes(\"FP\")\n",
    "sample.protein = sample.protein.drop(fp_barcodes2)\n",
    "set(sample.protein.get_labels())"
   ]
  },
  {
   "cell_type": "code",
   "execution_count": null,
   "id": "fa926e9a",
   "metadata": {},
   "outputs": [],
   "source": [
    "# Additionally, option to remove AOCs from the data \n",
    "sample.protein = sample.protein.drop(['CD25'])"
   ]
  },
  {
   "cell_type": "code",
   "execution_count": null,
   "id": "88eb8afe",
   "metadata": {},
   "outputs": [],
   "source": [
    "# Shape of cleaned up protein data (number of cells, number of AOCs)\n",
    "sample.protein.shape"
   ]
  },
  {
   "cell_type": "code",
   "execution_count": null,
   "id": "82fdbc2a",
   "metadata": {},
   "outputs": [],
   "source": [
    "# Re-run heatmap with new filtered data\n",
    "fig = sample.protein.heatmap(attribute='normalized_counts')\n",
    "go.Figure(fig)"
   ]
  },
  {
   "cell_type": "code",
   "execution_count": null,
   "id": "c4c5beb4",
   "metadata": {},
   "outputs": [],
   "source": [
    "# Show heatmap with convolve and subclustering turned off\n",
    "bars = sample.protein.clustered_barcodes('normalized_counts', subcluster=False)\n",
    "\n",
    "# This is useful to create \"convolved\" heatmaps which are easier to interpret\n",
    "# With the subclustering off and convolve=20, the noise will be reduced and real signals will be easier to determine\n",
    "fig = sample.protein.heatmap('normalized_counts', bars_order=bars, convolve=20)\n",
    "fig.layout.width = 900\n",
    "fig.show()"
   ]
  },
  {
   "cell_type": "code",
   "execution_count": null,
   "id": "18feaef3",
   "metadata": {},
   "outputs": [],
   "source": [
    "# Signature will create a dataframe based on the layer defined and statistical value listed\n",
    "# This can be used for: mean, median, mode, or std\n",
    "sample.protein.signature('normalized_counts', 'median')"
   ]
  },
  {
   "cell_type": "code",
   "execution_count": null,
   "id": "227559d3",
   "metadata": {},
   "outputs": [],
   "source": [
    "# signaturemap will plot a heatmap of the signature dataframe created above\n",
    "# The labels list will control the order of the clusters along the y-axis\n",
    "sample.protein.signaturemap('normalized_counts') #labels=[]"
   ]
  },
  {
   "cell_type": "markdown",
   "id": "2618e1a0",
   "metadata": {},
   "source": [
    "### Statistics\n",
    "\n",
    "This will run a t-test on the protein clusters defined above. "
   ]
  },
  {
   "cell_type": "code",
   "execution_count": null,
   "id": "087e26f6",
   "metadata": {},
   "outputs": [],
   "source": [
    "pval_protein, tstat_protein = sample.protein.test_signature(\"normalized_counts\")"
   ]
  },
  {
   "cell_type": "code",
   "execution_count": null,
   "id": "75213e2b",
   "metadata": {},
   "outputs": [],
   "source": [
    "pval_protein"
   ]
  },
  {
   "cell_type": "code",
   "execution_count": null,
   "id": "26cabf7e",
   "metadata": {},
   "outputs": [],
   "source": [
    "pval_protein = pval_protein + 10 ** -50\n",
    "pvals_protein = -np.log10(pval_protein) * (tstat_protein > 0)"
   ]
  },
  {
   "cell_type": "code",
   "execution_count": null,
   "id": "67012324",
   "metadata": {},
   "outputs": [],
   "source": [
    "# Colored tiles indicate strong association of a protein with a particular cluster\n",
    "plt.figure(figsize=(20, 10))\n",
    "fig = sns.heatmap(pvals_protein.T, vmax=50, vmin=40)"
   ]
  },
  {
   "cell_type": "markdown",
   "id": "96a14ceb",
   "metadata": {},
   "source": [
    "## Combined Visualizations\n",
    "\n",
    "In this section the dateset will be subset to only retain barcodes with remaining DNA, CNV and Protein data. Then this data can be plotted together using `sample.heatmap()`, `sample.signaturemap()`, `sample.clone_vs_analyte()` and other functions.\n",
    "\n",
    "Overlaps in the dataset across different assays can be further quantified and visualized, using `sample.crosstabmap()`."
   ]
  },
  {
   "cell_type": "code",
   "execution_count": null,
   "id": "996484d2",
   "metadata": {},
   "outputs": [],
   "source": [
    "# This will return the barcodes common to all assays in the sample.\n",
    "sample.common_barcodes()\n",
    "\n",
    "# Use that to filter the sample so that only the common barcodes are present in all assays\n",
    "sample = sample[sample.common_barcodes()]"
   ]
  },
  {
   "cell_type": "code",
   "execution_count": null,
   "id": "715fad2f",
   "metadata": {},
   "outputs": [],
   "source": [
    "# Check dimensionality for each assay; the number of cells (first number) should be the same in each data set\n",
    "print(sample.dna.shape,\n",
    "sample.cnv.shape,\n",
    "sample.protein.shape)"
   ]
  },
  {
   "cell_type": "code",
   "execution_count": null,
   "id": "e1d33d6a",
   "metadata": {},
   "outputs": [],
   "source": [
    "# DNA + CNV + Protein heatmap\n",
    "fig = sample.heatmap(\n",
    "    clusterby=('dna', 'cnv', 'protein'),  # The first assay is used for the labels\n",
    "    attributes=['AF', 'ploidy', 'normalized_counts'],\n",
    "    features=[None, 'genes', None],  # If None, then clustered_ids is used\n",
    "    bars_order=None,  # The order of the barcodes\n",
    "    widths=None,\n",
    "    order=('dna', 'cnv', 'protein')  # The order in which the heatmaps should be drawn\n",
    ")\n",
    "fig.show()"
   ]
  },
  {
   "cell_type": "code",
   "execution_count": null,
   "id": "ca0aa2bd",
   "metadata": {},
   "outputs": [],
   "source": [
    "# DNA + CNV heatmap\n",
    "fig = sample.heatmap(\n",
    "    clusterby=('dna', 'cnv'),  # The first assay is used for the labels\n",
    "    attributes=['AF', 'ploidy'],\n",
    "    features=[None, 'genes'],  # If None, then clustered_ids is used\n",
    "    bars_order=None,  # The order of the barcodes\n",
    "    widths=None,\n",
    "    order=('dna', 'cnv')  # The order in which the heatmaps should be drawn\n",
    ")\n",
    "fig.show()"
   ]
  },
  {
   "cell_type": "code",
   "execution_count": null,
   "id": "1ebd00a1",
   "metadata": {},
   "outputs": [],
   "source": [
    "# DNA + Protein heatmap\n",
    "\n",
    "fig = sample.heatmap(\n",
    "    clusterby=('dna', 'protein'),  # The first assay is used for the labels\n",
    "    attributes=['AF', 'normalized_counts'],\n",
    "    features=[None, None],  # If None, then clustered_ids is used\n",
    "    bars_order=None,  # The order of the barcodes\n",
    "    widths=None,\n",
    "    order=('dna', 'protein')  # The order in which the heatmaps should be drawn\n",
    ")\n",
    "fig.show()"
   ]
  },
  {
   "cell_type": "code",
   "execution_count": null,
   "id": "e6a35f16",
   "metadata": {},
   "outputs": [],
   "source": [
    "help(sample.signaturemap)"
   ]
  },
  {
   "cell_type": "code",
   "execution_count": null,
   "id": "b9e1fa69",
   "metadata": {},
   "outputs": [],
   "source": [
    "# Plot a combined signature heatmap, showing DNA, CNV and Protein signatures for all subclones\n",
    "# To only plot 2 of the analytes \n",
    "# Adjust the code below by removing the arguments for the analyte that should be removed \n",
    "sample.signaturemap(\n",
    "    clusterby=('dna', 'cnv', 'protein'),\n",
    "    attributes=('NGT', 'ploidy', 'normalized_counts'),\n",
    "    features=[None, 'genes', None],\n",
    "    signature_kind=['median', 'median', 'median'],\n",
    "    widths=None,\n",
    "    order=('dna', 'cnv', 'protein')  # The order in which the heatmaps should be drawn\n",
    ")"
   ]
  },
  {
   "cell_type": "code",
   "execution_count": null,
   "id": "684eddc0",
   "metadata": {},
   "outputs": [],
   "source": [
    "help(sample.clone_vs_analyte)"
   ]
  },
  {
   "cell_type": "code",
   "execution_count": null,
   "id": "0ee07cb2",
   "metadata": {},
   "outputs": [],
   "source": [
    "# Clone vs analyte\n",
    "# Visualize the CNV data stratified by clone\n",
    "fig = sample.clone_vs_analyte('cnv')\n",
    "plt.gcf().axes[1].texts[-1].set_text('')\n",
    "fig\n",
    "#fig.savefig('genotype_cnv.png')"
   ]
  },
  {
   "cell_type": "code",
   "execution_count": null,
   "id": "67d6aeb7",
   "metadata": {},
   "outputs": [],
   "source": [
    "# Visualize the protein data (violin plots) stratified by clone\n",
    "fig = sample.clone_vs_analyte('protein')\n",
    "plt.gcf().axes[1].texts[-1].set_text('')\n",
    "fig"
   ]
  },
  {
   "cell_type": "code",
   "execution_count": null,
   "id": "340c89dd",
   "metadata": {},
   "outputs": [],
   "source": [
    "# To review a subset of features, first subset the assay itself \n",
    "sample2.protein = sample.protein[:, ['CD11b', 'CD19', 'CD38', 'CD90']]\n",
    "fig = sample2.clone_vs_analyte('protein')\n",
    "plt.gcf().axes[1].texts[-1].set_text('')\n",
    "fig"
   ]
  },
  {
   "cell_type": "code",
   "execution_count": null,
   "id": "9ab75818",
   "metadata": {},
   "outputs": [],
   "source": [
    "# Plot the protein heatmap with the DNA clone labels\n",
    "fig = sample.protein.heatmap(attribute='normalized_counts',splitby=sample.dna.row_attrs['label'])\n",
    "go.Figure(fig)"
   ]
  },
  {
   "cell_type": "code",
   "execution_count": null,
   "id": "833a04a0",
   "metadata": {},
   "outputs": [],
   "source": [
    "# Plot the protein UMAP and color with the DNA clone labels\n",
    "protein_umap = sample.protein.row_attrs[\"umap\"]\n",
    "fig=sample.dna.scatterplot(attribute=protein_umap, colorby=\"label\")\n",
    "go.Figure(fig)"
   ]
  },
  {
   "cell_type": "code",
   "execution_count": null,
   "id": "75dd9519",
   "metadata": {},
   "outputs": [],
   "source": [
    "# Plot the protein UMAP and color with variant layers (e.g., VAFs) for specific variants\n",
    "protein_umap = sample.protein.row_attrs[\"umap\"]\n",
    "feats = sample.dna.ids()[:3] # plot the first 3 variants\n",
    "sample.dna.scatterplot(attribute=protein_umap, colorby=\"AF\", features=feats)"
   ]
  },
  {
   "cell_type": "code",
   "execution_count": null,
   "id": "c682831d-9ce9-496e-b1c6-38b82bf11e2b",
   "metadata": {},
   "outputs": [],
   "source": [
    "# Plot the protein UMAP and color with ploidy for the defined gene\n",
    "gene_ploidy = sample.cnv.signature(\"ploidy\", splitby=None, features=\"gene_name\")\n",
    "tp53_ploidy = gene_ploidy[\"TP53\"].values\n",
    "sample.protein.scatterplot(\"umap\", colorby=tp53_ploidy)"
   ]
  },
  {
   "cell_type": "code",
   "execution_count": null,
   "id": "36a2caad",
   "metadata": {},
   "outputs": [],
   "source": [
    "# Plot the AOC ridge plots split by DNA clone\n",
    "sample.protein.ridgeplot(attribute='normalized_counts',\n",
    "                         features=['CD11b', 'CD19', 'CD38', 'CD90'],\n",
    "                         splitby=sample.dna.row_attrs['label'])"
   ]
  },
  {
   "cell_type": "code",
   "execution_count": null,
   "id": "aeb9d700",
   "metadata": {},
   "outputs": [],
   "source": [
    "# Plot the AOC ridge plots split by protein cluster\n",
    "sample.protein.ridgeplot(attribute='normalized_counts',\n",
    "                         features=['CD11b', 'CD19', 'CD38', 'CD90'],\n",
    "                         splitby=sample.protein.row_attrs['label'])"
   ]
  },
  {
   "cell_type": "code",
   "execution_count": null,
   "id": "e3ed6e91",
   "metadata": {},
   "outputs": [],
   "source": [
    "# Plot the biaxial AOC plot split by DNA clone\n",
    "fig = sample.protein.feature_scatter(layer='normalized_counts', ids=['CD19', 'CD34'], colorby = sample.dna.row_attrs['label'])\n",
    "go.Figure(fig)"
   ]
  },
  {
   "cell_type": "markdown",
   "id": "f55bf37d",
   "metadata": {},
   "source": [
    "### Quantify overlaps between DNA clones and Protein clusters"
   ]
  },
  {
   "cell_type": "code",
   "execution_count": null,
   "id": "95a3f3b8",
   "metadata": {},
   "outputs": [],
   "source": [
    "# Use crosstab() to calculate the overlap between DNA subclones and Protein Clusters\n",
    "# This will generate the dataframe\n",
    "# What percentage of each Protein cluster is defined by each Subclone\n",
    "sample.dna.crosstab(sample.protein.get_labels(), normalize='columns')"
   ]
  },
  {
   "cell_type": "code",
   "execution_count": null,
   "id": "82064a5e",
   "metadata": {},
   "outputs": [],
   "source": [
    "# This will generate the heatmap of the dataframe generated above\n",
    "# What percentage of each Protein cluster is defined by each Subclone\n",
    "sample.dna.crosstabmap(sample.protein.get_labels(), normalize='columns').show()"
   ]
  },
  {
   "cell_type": "code",
   "execution_count": null,
   "id": "cd02e4dc",
   "metadata": {},
   "outputs": [],
   "source": [
    "# This will generate the dataframe\n",
    "# What percentage of each Subclone is defined by each Protein cluster\n",
    "sample.protein.crosstab(sample.dna.get_labels(), normalize='columns')"
   ]
  },
  {
   "cell_type": "code",
   "execution_count": null,
   "id": "5894c1e3",
   "metadata": {},
   "outputs": [],
   "source": [
    "# This will generate the heatmap of the dataframe generated above\n",
    "# What percentage of each Subclone is defined by each Protein cluster\n",
    "sample.protein.crosstabmap(sample.dna.get_labels(), normalize='columns').show()"
   ]
  },
  {
   "cell_type": "markdown",
   "id": "98d6bc19",
   "metadata": {},
   "source": [
    "## Export and Save Data\n",
    "\n",
    "In this section the data can export a filtered .h5 file, which will contain all new labels/layers, and contain only the filtered barcodes/cells remaining. All data can be exported (row attributes, column attributes and layers) for every assay (DNA and CNV) into easily parsable .csv tables."
   ]
  },
  {
   "cell_type": "code",
   "execution_count": null,
   "id": "056fc4d5",
   "metadata": {},
   "outputs": [],
   "source": [
    "# Save new h5 file that includes only the final, cleaned dataset\n",
    "ms.save(sample, 'FilteredData.h5')"
   ]
  },
  {
   "cell_type": "code",
   "execution_count": null,
   "id": "f71ce464",
   "metadata": {},
   "outputs": [],
   "source": [
    "# Export data into csv formats\n",
    "ms.to_zip(sample, 'filename')"
   ]
  },
  {
   "cell_type": "markdown",
   "id": "4805e564",
   "metadata": {},
   "source": [
    "## Appendix"
   ]
  },
  {
   "cell_type": "markdown",
   "id": "ce57d2fe",
   "metadata": {},
   "source": [
    "### Compass imputation\n",
    "\n",
    "<b> This section of the notebook is OPTIONAL<b>\n",
    "    \n",
    "Compass can be used to impute the genotypes of cells with some missing data. It can also be used to infer the phylogeny of all subclones present in the sample. If a cell cannot be unambiguously classified, Compass will label these cells as Mixed or Ambiguous.<b> Compass can take ~1-10 minutes to run depending on the size of the data.\n",
    "    \n",
    "The Compass publication can be found [here](https://www.nature.com/articles/s41467-023-40378-8)<br>\n",
    "    \n",
    "<b>Note:</b> Compass can give different subclone composition than the variant subclone workflow. "
   ]
  },
  {
   "cell_type": "code",
   "execution_count": null,
   "id": "d4170f94",
   "metadata": {},
   "outputs": [],
   "source": [
    "# Use compass to assume the subclone architecture and phylogeny\n",
    "# Depending on the size and complexity of the data, this step can take ~1-10 minutes\n",
    "# Use full_sample instead of sample to include all previously removed cells and use the unannotated variant names\n",
    "compass = COMPASS(full_sample, somatic_variants=variants)\n",
    "compass.run()"
   ]
  },
  {
   "cell_type": "code",
   "execution_count": null,
   "id": "7116c7df",
   "metadata": {},
   "outputs": [],
   "source": [
    "# The phylogentic tree prediction by COMPASS\n",
    "fig = compass.plot_tree()\n",
    "fig.show()"
   ]
  },
  {
   "cell_type": "code",
   "execution_count": null,
   "id": "3a3df96d",
   "metadata": {},
   "outputs": [],
   "source": [
    "# Make the compass_labels the node descriptions\n",
    "# These are the new subclone labels\n",
    "labs = compass.labels_  # Stores the labels\n",
    "desc = compass.node_descriptions()  # Stores the dict mapping the label to the description\n",
    "compass_labels = np.array([desc.get(lab, lab) for lab in labs])"
   ]
  },
  {
   "cell_type": "code",
   "execution_count": null,
   "id": "b3e3b9c0",
   "metadata": {},
   "outputs": [],
   "source": [
    "# Store the compass labels as a row_attr\n",
    "full_sample.dna.add_row_attr('compass_labels', compass_labels)"
   ]
  },
  {
   "cell_type": "code",
   "execution_count": null,
   "id": "956d00df",
   "metadata": {},
   "outputs": [],
   "source": [
    "# Store the index positions of the COMPASS ids for the heatmap\n",
    "idx = np.isin(full_sample.dna.ids(), compass.somatic_variants)\n",
    "\n",
    "# Visualize the assignment using the variants passed to COMPASS\n",
    "fig = full_sample.dna.heatmap('NGT', features=full_sample.dna.ids()[idx], splitby='compass_labels')\n",
    "fig.show()"
   ]
  },
  {
   "cell_type": "code",
   "execution_count": null,
   "id": "233f3d9f-8faf-47ed-a652-4fc1d9488db0",
   "metadata": {},
   "outputs": [],
   "source": [
    "# Create a DNA heatmap to see both the variant workflow subclone labels and the compass assigned labels\n",
    "# Parameters\n",
    "attribute = 'NGT'\n",
    "assay = full_sample.dna\n",
    "lab_row1 = \"label\"\n",
    "lab_row2 = \"compass_labels\"\n",
    "lab2_title = \"Compass\"\n",
    "\n",
    "# Graphing\n",
    "data = assay.get_attribute(attribute, constraint=\"row+col\")\n",
    "ids = assay.clustered_ids(attribute)\n",
    "labels = pd.concat([assay.get_attribute(lab_row1), assay.get_attribute(lab_row2).rename(columns={\"1\": \"2\"})], axis=1)\n",
    "bars = assay.clustered_barcodes(attribute, splitby=labels)\n",
    "\n",
    "data = data.loc[bars, ids]\n",
    "labs1 = assay.get_attribute(lab_row1, constraint=\"row\").loc[bars, :].values.flatten()\n",
    "labs2 = assay.get_attribute(lab_row2, constraint=\"row\").loc[bars, :].values.flatten()\n",
    "\n",
    "fig = MultiMap([data], labs1, names=[attribute], extra_column_titles=[lab2_title], widths=[1 / 24, 1]).draw()\n",
    "fig.add_trace(Heatmap(data, labs2).label_trace(), row=1, col=2)\n",
    "fig.layout.xaxis2.tickvals = []\n",
    "\n",
    "fig"
   ]
  },
  {
   "cell_type": "code",
   "execution_count": null,
   "id": "08ce3e17",
   "metadata": {},
   "outputs": [],
   "source": [
    "# This will return a dataframe \n",
    "# Showing the overlap of variant workflow clones and compass identified clones\n",
    "full_sample.dna.crosstab(compass_labels, normalize='columns')"
   ]
  },
  {
   "cell_type": "code",
   "execution_count": null,
   "id": "b4b6de59",
   "metadata": {},
   "outputs": [],
   "source": [
    "# This will plot a heatmap of the crosstab dataframe\n",
    "full_sample.dna.crosstabmap(compass_labels, normalize='columns').show()"
   ]
  },
  {
   "cell_type": "markdown",
   "id": "fd467f1e-8e80-4b31-90f7-f4bffefc3b7f",
   "metadata": {},
   "source": [
    "<b> Export data to use in COMPASS </b>"
   ]
  },
  {
   "cell_type": "code",
   "execution_count": null,
   "id": "dd07b748-4f47-4845-b7bc-37e4f8fa365c",
   "metadata": {},
   "outputs": [],
   "source": [
    "# Export compass data into 2 output files\n",
    "# compass_input_regions.csv and compass_input_variants.csv\n",
    "# These can be used with COMPASS outside of Mosaic\n",
    "compass = COMPASS(sample, sample.dna.filter_somatic_variants())\n",
    "compass.prepare_input(prefix=\"./compass_input\")"
   ]
  },
  {
   "cell_type": "markdown",
   "id": "937702ac-51e7-4fa7-91f9-993eb4ebd258",
   "metadata": {},
   "source": [
    "### Protein assignment\n",
    "\n",
    "<b> This section of the notebook is OPTIONAL<b>\n",
    "\n",
    "This portion of the notebook utilizes known truth about different cell types based on protein expression, to cluster cells into the defined cell types. The known truth built into the tool is based on our catalog Total Seq-D Heme protein panel, which contains 45 AOCs. The truth was defined from data on the [cell ontology](https://github.com/obophenotype/cell-ontology) database and the [European Bioinformatics Institute Website](https://www.ebi.ac.uk/ols4) and works best for PBMCs. Other cell-types may benefit from custom truths.\n",
    "\n",
    "More information about the algorithm can be found [here](https://missionbio.github.io/mosaic/pages/methods/missionbio.mosaic.protein.Protein.assign_from_truth.html#missionbio.mosaic.protein.Protein.assign_from_truth).\n",
    "\n",
    "<b> Note:</b> For protein normalization above, either NSP or ANSP need to be used. CLR or asinh are not supported.\n",
    "\n",
    "The cluster label can be one of the following:\n",
    "\n",
    "1. Sticky - these are positive for any of the IgG markers (defined using the `sticky_antibodies` parameter).\n",
    "2. Mixed - these are cells which have a profile of 2 clusters (see the `doublet_distance` parameter)\n",
    "3. Mixed like - these cells have the profile which satisfies the `Mixed` criteria, but their proportions are too large\n",
    "    compared to their singlet proportions. (see `max_adjusted_mixing`)\n",
    "4. Labeled - Clusters that match the given truth with sufficient probability (see `min_prob_diff`)\n",
    "5. Unassiged-{n} - A cluster that couldn't be assigned to any of the above types\n"
   ]
  },
  {
   "cell_type": "code",
   "execution_count": null,
   "id": "9c9f806b-22f2-4ec0-ada0-59160a8fbcb0",
   "metadata": {},
   "outputs": [],
   "source": [
    "# Visualize the structure of the built-in truth\n",
    "# The names that are underlines are links to the source of truth\n",
    "truth = Truth.builtin()\n",
    "truth.plot()"
   ]
  },
  {
   "cell_type": "code",
   "execution_count": null,
   "id": "39937bc2-ed37-4989-b75c-8c5f6d125bd3",
   "metadata": {},
   "outputs": [],
   "source": [
    "# Cluster the cells based on protein data and label them\n",
    "pace = sample.protein.cluster_and_label(\n",
    "    max_adjusted_mixing=0.3,  # This parameter controls which mixed clusters would be labelled \"Mixed Like\"\n",
    "    min_distance_for_doublet=5,  # Increase this if too many mixed cells are observed.\n",
    "    cluster=True,  # If True, graph-community clustering is run, otherwise the existing cluster labels are used\n",
    ")"
   ]
  },
  {
   "cell_type": "code",
   "execution_count": null,
   "id": "d7469dcf-9aa0-42b5-98e7-efe50606a6f7",
   "metadata": {},
   "outputs": [],
   "source": [
    "# Visualize the clustering\n",
    "bars = sample.protein.clustered_barcodes(\"normalized_counts\", subcluster=False)\n",
    "fig = sample.protein.heatmap(\"normalized_counts\", bars_order=bars)\n",
    "fig.layout.width = 1000\n",
    "fig"
   ]
  },
  {
   "cell_type": "code",
   "execution_count": null,
   "id": "fa6da322-4975-44c8-8930-eeae83e09ec5",
   "metadata": {},
   "outputs": [],
   "source": [
    "# Visualize the complete truth that was used in cluster_and_label\n",
    "specific_truth = pace.cluster_truth()\n",
    "specific_truth.plot()"
   ]
  },
  {
   "cell_type": "code",
   "execution_count": null,
   "id": "5d7269fb-2bc5-4aff-97ab-d0949af9025b",
   "metadata": {},
   "outputs": [],
   "source": [
    "# Recluster the data using the complete truth\n",
    "# It will not find new clusters, but it will categorize the cells into the known cell types\n",
    "sample.protein.assign_from_truth(specific_truth)"
   ]
  },
  {
   "cell_type": "code",
   "execution_count": null,
   "id": "f1cf87bb-9709-4038-8963-852fca726823",
   "metadata": {},
   "outputs": [],
   "source": [
    "# Plot the protein clusters with the complete truth\n",
    "bars = sample.protein.clustered_barcodes(\"normalized_counts\", subcluster=False)\n",
    "fig = sample.protein.heatmap(\"normalized_counts\", bars_order=bars)\n",
    "fig.layout.width = 1000\n",
    "fig.show(\"jpg\")"
   ]
  },
  {
   "cell_type": "markdown",
   "id": "263b332b-3825-4fdd-bdab-c34e7ce83e63",
   "metadata": {},
   "source": [
    "<b> Using predefined clusters or custom clustering </b> \n",
    "\n",
    "Clustering performed above in the notebook can be feed into protein assignment for the clusters to be labeled. Simply skip the previous cluster_and_label method and run the below code."
   ]
  },
  {
   "cell_type": "code",
   "execution_count": null,
   "id": "c855cfa7-b63c-4486-92d1-c82af881e11f",
   "metadata": {},
   "outputs": [],
   "source": [
    "# To use clustering performed earler on\n",
    "truth = sample.protein.truth()\n",
    "sample.protein.assign_from_truth(truth)\n",
    "sample.protein.heatmap(\"normalized_counts\")"
   ]
  },
  {
   "cell_type": "markdown",
   "id": "9c9309e5-b74d-4914-a486-c85ea700603a",
   "metadata": {},
   "source": [
    "<b> Modifying the truth </b> \n",
    "\n",
    "The truth can be modified in many ways. The following blocks of code show examples on how to modify the truth."
   ]
  },
  {
   "cell_type": "code",
   "execution_count": null,
   "id": "9d58cd0d-d850-4b2a-bc39-eeb3e4a371f5",
   "metadata": {},
   "outputs": [],
   "source": [
    "# Subset the truth to a few cell types\n",
    "subset_truth = truth[[\"T cell\", \"B cell\", \"NK cell\", \"Monocyte\"]]\n",
    "subset_truth.plot()"
   ]
  },
  {
   "cell_type": "code",
   "execution_count": null,
   "id": "6d93c266-cb19-4645-afc9-179d5405f986",
   "metadata": {},
   "outputs": [],
   "source": [
    "# Remove cell types from the truth\n",
    "trimmed_truth = truth.trim(\"T cell\", include=False)\n",
    "trimmed_truth.plot()"
   ]
  },
  {
   "cell_type": "code",
   "execution_count": null,
   "id": "bc2ca1a8-6d54-4793-9008-899b77b74fe1",
   "metadata": {},
   "outputs": [],
   "source": [
    "# Remove AOCs from the truth\n",
    "trimmed_truth = truth.del_ab(\"CD3\")\n",
    "trimmed_truth.plot()"
   ]
  },
  {
   "cell_type": "code",
   "execution_count": null,
   "id": "cdd22f34-6a57-48b2-9dff-6dc734760189",
   "metadata": {},
   "outputs": [],
   "source": [
    "# Add a new cell type to the truth\n",
    "source_link = \"https://jdc.jefferson.edu/cgi/viewcontent.cgi?article=1083&context=pacbfp#:~:text=CD56%20is%20an%20adhesion%20molecule,tissue%20and%20in%20granular%20lmphocytes.&text=Aberrant%20expression%20of%20CD56%20has,leukemia%20and%20plasma%20cell%20myeloma.\"\n",
    "updated_truth = truth.add_cell(\"CD56+ Monocyte\", [\"CD56+\"], parent=\"Monocyte\", source=source_link)\n",
    "updated_truth.plot()"
   ]
  },
  {
   "cell_type": "markdown",
   "id": "e583103a-89f6-4b2c-813a-c69cd57422b3",
   "metadata": {},
   "source": [
    "<b> Exporting the truth </b>\n",
    "\n",
    "The defined truth can be exported and shared."
   ]
  },
  {
   "cell_type": "code",
   "execution_count": null,
   "id": "80916207-faf9-4133-9379-895017acc36b",
   "metadata": {},
   "outputs": [],
   "source": [
    "# Save the truth using the `to_yaml` function\n",
    "updated_truth.to_yaml(\"./my-truth-file.yaml\", version=\"My version\")"
   ]
  },
  {
   "cell_type": "code",
   "execution_count": null,
   "id": "4a79ac72-be90-474e-93f1-5219cd2b68b9",
   "metadata": {},
   "outputs": [],
   "source": [
    "# The yaml file can be read using the read_yaml function\n",
    "Truth.read_yaml(\"./my-truth-file.yaml\").plot()"
   ]
  },
  {
   "cell_type": "code",
   "execution_count": null,
   "id": "028c7053-6d86-4a8d-af30-b7bb983bb82f",
   "metadata": {},
   "outputs": [],
   "source": [
    "# Set a yaml as the truth to be used in clustering\n",
    "new_truth = Truth.read_yaml(\"./my-truth-file.yaml\").plot()\n",
    "# Run the cluster_and_label with the truth argument pointing to the yaml truth\n",
    "pace = sample.protein.cluster_and_label(\n",
    "    truth=new_truth\n",
    "    max_adjusted_mixing=0.3,  # This parameter controls which mixed clusters would be labelled \"Mixed Like\"\n",
    "    min_distance_for_doublet=5,  # Increase this if too many mixed cells are observed.\n",
    "    cluster=True,  # If True, graph-community clustering is run, otherwise the existing cluster labels are used\n",
    ")"
   ]
  }
 ],
 "metadata": {
  "kernelspec": {
   "display_name": "Python 3 (ipykernel)",
   "language": "python",
   "name": "python3"
  },
  "language_info": {
   "codemirror_mode": {
    "name": "ipython",
    "version": 3
   },
   "file_extension": ".py",
   "mimetype": "text/x-python",
   "name": "python",
   "nbconvert_exporter": "python",
   "pygments_lexer": "ipython3",
   "version": "3.10.14"
  }
 },
 "nbformat": 4,
 "nbformat_minor": 5
}

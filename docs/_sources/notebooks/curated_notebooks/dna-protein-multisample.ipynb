{
 "cells": [
  {
   "cell_type": "markdown",
   "id": "531fefaa-30f2-4176-8be2-9b59b5b1b364",
   "metadata": {},
   "source": [
    "## Multisample DNA + Protein"
   ]
  },
  {
   "cell_type": "markdown",
   "id": "f03ceac7",
   "metadata": {},
   "source": [
    "<b>This notebook is set up to work with merged h5 files, containing more than one sample, generated with v2 or v3 chemistry. This notebook will only work with Mosaic versions 3.7 and higher.</b>\n",
    "\n",
    "\n",
    "<b>Objective</b>: To showcase the minimum number of steps required for tertiary analysis of DNA (single-cell genotyping and CNV) and Protein analytes and explore different ways of visualizing the data.<br>\n",
    "\n",
    "<b>Major questions answered:</b>\n",
    "1. Can we identify DNA clones based on genotypes (SNVs/Indels)?<br>\n",
    "2. How is the clonal structure different between samples?<br>\n",
    "3. Do we detect CNV events (e.g., copy number amplification, copy number loss)?<br>\n",
    "4. Do DNA clones (genotypes) correlate with specific protein-defined cell types and/or CNV profiles?<br>\n",
    "5. Is there a significant difference in protein-defined cell types between samples?<br>\n",
    "\n",
    "<b>Sections:</b>\n",
    "1. Setup\n",
    "2. Data Structure\n",
    "3. DNA Analysis\n",
    "4. CNV Analysis\n",
    "5. Protein Analysis\n",
    "6. Combined Visualizations\n",
    "7. Export and Save Data\n",
    "8. Appendix\n",
    "\n",
    "<b>Not shown:</b>\n",
    "All available methods and options - documented [here](https://missionbio.github.io/mosaic/index.html)<br>\n",
    "\n"
   ]
  },
  {
   "cell_type": "markdown",
   "id": "e4267a5c",
   "metadata": {},
   "source": [
    "## Setup \n",
    "\n",
    "<b>Topics covered</b><br>\n",
    "1. Loading required packages.\n",
    "2. Loading in data.\n",
    "\n",
    "\n",
    "<b>Load data</b><br>\n",
    "<b>Note:</b> importing dependencies can sometimes take a couple of minutes."
   ]
  },
  {
   "cell_type": "code",
   "execution_count": null,
   "id": "0482fac8",
   "metadata": {},
   "outputs": [],
   "source": [
    "# Import mosaic libraries\n",
    "import missionbio.mosaic as ms\n",
    "\n",
    "# Import these to display entire dataframes\n",
    "from IPython.display import display, HTML\n",
    "\n",
    "# Import graph_objects from the plotly package to display figures when saving the notebook as an HTML\n",
    "import plotly as px\n",
    "import plotly.graph_objects as go\n",
    "\n",
    "# Import additional packages for specific visuals\n",
    "import matplotlib.pyplot as plt\n",
    "import plotly.offline as pyo\n",
    "pyo.init_notebook_mode()\n",
    "import numpy as np\n",
    "import seaborn as sns\n",
    "from missionbio.plotting.multimap import MultiMap\n",
    "from missionbio.plotting.heatmap import Heatmap\n",
    "\n",
    "# Import COMPASS for imputation\n",
    "from missionbio.mosaic.algorithms.compass import COMPASS\n",
    "import pandas as pd\n",
    "\n",
    "# Note: when exporting the notebook as an HTML, plots that use the \"go.Figure(fig)\" command are saved"
   ]
  },
  {
   "cell_type": "code",
   "execution_count": null,
   "id": "8b31552a",
   "metadata": {},
   "outputs": [],
   "source": [
    "# This code is optional, but will make the notebook cells/figures display across the entire width of your browser\n",
    "from IPython.display import display, HTML\n",
    "display(HTML(\"<style>.container { width:100% !important; }</style>\"))"
   ]
  },
  {
   "cell_type": "code",
   "execution_count": null,
   "id": "c12fad9f",
   "metadata": {},
   "outputs": [],
   "source": [
    "# Check version; this notebook is designed for Mosaic v3.12.1 or higher\n",
    "print(ms.__version__)"
   ]
  },
  {
   "cell_type": "code",
   "execution_count": null,
   "id": "32f60a4b",
   "metadata": {},
   "outputs": [],
   "source": [
    "# Any function's parameters and default values can be looked up via the 'help' function\n",
    "# Here, the function is 'ms.load'\n",
    "help(ms.load)"
   ]
  },
  {
   "cell_type": "markdown",
   "id": "29a788da-be11-45ac-a5da-20ae7d278d66",
   "metadata": {},
   "source": [
    "### <b> Loading the data </b>\n",
    "\n",
    "In the ms.load statement, there are several arguments:\n",
    "- <b> raw </b>: always set raw=False; if raw=True, ALL barcodes will be loaded (rather than cell-associated barcodes)\n",
    "- <b> filter_variants </b>: always set filter_variants=True unless an expected (target) variant cannot be found. Additional filtering options are included in the DNA section below. <b> NOTE </b>: if loading using filter_variants=False, the whitelist may need to set to None or removed from the command, otherwise it may not load variants in\n",
    "- <b> single </b>: always set single=False for multisample/merged h5 files\n",
    "- <b> whitelist </b>: The whitelist option loads any variant that is in the vcf.gz file (e.g. \"chr1:179520511:C/G\"). The whitelist argument takes many variant formats, they are detailed [here](https://missionbio.github.io/mosaic/pages/functions/missionbio.mosaic.io.load.html).\n",
    "- <b> filter_cells </b>: Always set filter_cells=False; if filter_cells=True, only cells called by the completelyness algorithm are loaded "
   ]
  },
  {
   "cell_type": "code",
   "execution_count": null,
   "id": "daa8fb41",
   "metadata": {},
   "outputs": [],
   "source": [
    "# Specify the h5 file to be used in this analysis: h5path = '/path/to/h5/file/test.h5'\n",
    "# If working with Windows, an 'r' may need to be added before the path: h5path = r'/path/to/h5/file/test.h5'\n",
    "h5path = '/Users/casp/Documents/analysis/multisamplepbmc.h5'\n",
    "\n",
    "# Load the data\n",
    "group = ms.load(h5path, raw=False, filter_variants=True, filter_cells=False, whitelist = [])\n",
    "# Print the list of samples in the group object\n",
    "[s.name for s in group.samples]"
   ]
  },
  {
   "cell_type": "markdown",
   "id": "fe5217d1",
   "metadata": {},
   "source": [
    "### <b>Data Structure</b>\n",
    "    \n",
    "DNA, CNV, and Protein are sub-classes of the Assay class. The information is stored in four categories, and the user can modify each of those:\n",
    "\n",
    "<b>1. metadata (add_metadata / del_metadata):</b>\n",
    " - dictionary containing assay parameters and basic performance metrics\n",
    "\n",
    "<b>2. layers (add_layer / del_layer):</b>\n",
    " - dictionary containing matrices of assay metrics\n",
    " - all the matrices have the shape (num barcodes) x (num ids) \n",
    " - for DNA assays, this includes AF, GQ, DP, etc. \n",
    "   (per cell, per variant)\n",
    " - for Protein assays, this includes read counts \n",
    "   (per cell, per antibody)\n",
    " - for CNV assays, this includes read counts\n",
    "   (per cell, per amplicon)\n",
    " \n",
    "<b>3. row_attrs (add_row_attr / del_row_attr):</b>\n",
    " - dictionary containing 'barcode' as one of the keys \n",
    "   (where the value is a list of all barcodes)\n",
    " - for all other keys, the values must be of the same \n",
    "   length, i.e. match the number of barcodes\n",
    " - this is the attribute where 'label', 'pca', \n",
    "   and 'umap' values are added\n",
    "   \n",
    "<b>4. col_attrs (add_col_attr / del_col_attr):</b>\n",
    " - dictionary containing 'id' as one of the keys \n",
    "   (where the value is a list of all ids)\n",
    " - for DNA assays, 'ids' are variants; for Protein assays, \n",
    "   'ids' are antibodies; for CNV assays, 'ids' are amplicons\n",
    " - for all other keys, the values must be of the same\n",
    "   length, i.e. match the number ids\n",
    " "
   ]
  },
  {
   "cell_type": "code",
   "execution_count": null,
   "id": "5acb56f8",
   "metadata": {},
   "outputs": [],
   "source": [
    "# Summary of DNA assay, per sample\n",
    "for sample in group:\n",
    "    print(sample.name)\n",
    "    print(\"\\'sample.dna\\':\", sample.dna, '\\n')\n",
    "    print(\"\\'row_attrs\\':\", \"\\n\\t\", list(sample.dna.row_attrs.keys()), '\\n')\n",
    "    print(\"\\'col_attrs\\':\", \"\\n\\t\", list(sample.dna.col_attrs.keys()), '\\n')\n",
    "    print(\"\\'layers\\':\", \"\\n\\t\", list(sample.dna.layers.keys()), '\\n')\n",
    "    print(\"\\'metadata\\':\", \"\\n\")\n",
    "    for i in list(sample.dna.metadata.keys()):\n",
    "        print(\"\\t\", i, \": \", sample.dna.metadata[i], sep=\"\")\n",
    "    print(\"\\n\")"
   ]
  },
  {
   "cell_type": "code",
   "execution_count": null,
   "id": "3c0a9ae3",
   "metadata": {},
   "outputs": [],
   "source": [
    "# For DNA, ids are variants\n",
    "# sample.dna.ids() is a shortcut for sample.dna.col_attrs['id']\n",
    "for sample in group:\n",
    "    print(sample.name, \"\\n\", sample.dna.ids(), \"\\n\")"
   ]
  },
  {
   "cell_type": "code",
   "execution_count": null,
   "id": "2f69b47c-78bf-4175-a8a6-e91d6db3ddea",
   "metadata": {},
   "outputs": [],
   "source": [
    "# Summary of CNV assay, per sample\n",
    "for sample in group:\n",
    "    print(\"\\'sample.cnv\\':\", sample.cnv, '\\n')\n",
    "    print(\"\\'row_attrs\\':\", \"\\n\\t\", list(sample.cnv.row_attrs.keys()), '\\n')\n",
    "    print(\"\\'col_attrs\\':\", \"\\n\\t\", list(sample.cnv.col_attrs.keys()), '\\n')\n",
    "    print(\"\\'layers\\':\", \"\\n\\t\", list(sample.cnv.layers.keys()), '\\n')\n",
    "    print(\"\\'metadata\\':\", \"\\n\")\n",
    "    for i in list(sample.cnv.metadata.keys()):\n",
    "        print(\"\\t\", i, \": \", sample.cnv.metadata[i], sep=\"\")\n",
    "    print(\"\\n\")"
   ]
  },
  {
   "cell_type": "code",
   "execution_count": null,
   "id": "6cdfcd51-d731-49dd-b534-57d2f53cc18a",
   "metadata": {},
   "outputs": [],
   "source": [
    "# For CNV, ids are amplicons\n",
    "# sample.cnv.ids() is a shortcut for sample.cnv.col_attrs['id']\n",
    "for sample in group:\n",
    "    print(sample.name, \"\\n\", sample.cnv.ids(), \"\\n\")"
   ]
  },
  {
   "cell_type": "code",
   "execution_count": null,
   "id": "1a4a39d7",
   "metadata": {},
   "outputs": [],
   "source": [
    "# Summary of Protein assay, per sample\n",
    "for sample in group:\n",
    "    print(sample.name)\n",
    "    print(\"\\'sample.protein\\':\", sample.protein, '\\n')\n",
    "    print(\"\\'row_attrs\\':\", \"\\n\\t\", list(sample.protein.row_attrs.keys()), '\\n')\n",
    "    print(\"\\'col_attrs\\':\", \"\\n\\t\", list(sample.protein.col_attrs.keys()), '\\n')\n",
    "    print(\"\\'layers\\':\", \"\\n\\t\", list(sample.protein.layers.keys()), '\\n')\n",
    "    print(\"\\'metadata\\':\", \"\\n\")\n",
    "    for i in list(sample.protein.metadata.keys()):\n",
    "        print(\"\\t\", i, \": \", sample.protein.metadata[i], sep=\"\")\n",
    "    print(\"\\n\")"
   ]
  },
  {
   "cell_type": "code",
   "execution_count": null,
   "id": "1d710a02",
   "metadata": {},
   "outputs": [],
   "source": [
    "# For Protein, ids are AOCs\n",
    "# sample.protein.ids() is a shortcut for sample.protein.col_attrs['id']\n",
    "for sample in group:\n",
    "    print(sample.name, \"\\n\", sample.protein.ids(), \"\\n\")"
   ]
  },
  {
   "cell_type": "markdown",
   "id": "128602f7",
   "metadata": {},
   "source": [
    "## DNA Analysis\n",
    "<b>Topics covered</b><br>\n",
    "1. Standard filtering of DNA variants.\n",
    "2. Subsetting dataset for variants of interest, including whitelisted variants.\n",
    "3. Addition of annotations to the variants.\n",
    "4. Manual variant selection and clone identification\n",
    "5. Visualizations and customization options\n",
    "\n",
    "### Basic filtering\n",
    "There are many options for filtering DNA variants. \n",
    "Use the `help()` function to understand the approach listed below."
   ]
  },
  {
   "cell_type": "code",
   "execution_count": null,
   "id": "9d1db6a3-4e92-44f8-b260-4577dfbdede0",
   "metadata": {},
   "outputs": [],
   "source": [
    "help(sample.dna.filter_variants)"
   ]
  },
  {
   "cell_type": "code",
   "execution_count": null,
   "id": "29e2f188-0597-414c-adab-c93590321e69",
   "metadata": {},
   "outputs": [],
   "source": [
    "# Adjust filters if needed by overwriting dna_vars\n",
    "def custom_filt(sample):\n",
    "    filt_vars = sample.dna.filter_variants(\n",
    "        min_dp=10,\n",
    "        min_gq=30,\n",
    "        vaf_ref=5,\n",
    "        vaf_hom=95,\n",
    "        vaf_het=30,\n",
    "        min_prct_cells=50,\n",
    "        min_mut_prct_cells=1,\n",
    "        iterations=10\n",
    ")\n",
    "    return filt_vars\n",
    "    \n",
    "dna_vars = group.apply(custom_filt)\n",
    "\n",
    "# List all filtered variants\n",
    "# Check the number of filtered variants\n",
    "for i in range(len(group.samples)):\n",
    "    sample = group.samples[i]\n",
    "    print(sample.name)\n",
    "    print(\"Number of variants:\", len(dna_vars[i]))\n",
    "    print(dna_vars[i], \"\\n\")"
   ]
  },
  {
   "cell_type": "markdown",
   "id": "7c4ad8c9-7d1f-4243-bb4e-378a0ca8fb7e",
   "metadata": {},
   "source": [
    "<b>Note</b>: Variants that are whitelisted during sample loading may be removed at this step, but can be added back in below. Whitelisted variants can be added to the list of final variants, or used exclusively in the code below."
   ]
  },
  {
   "cell_type": "code",
   "execution_count": null,
   "id": "8541b64f-793d-46d7-8a8b-7e160c4d9bdb",
   "metadata": {},
   "outputs": [],
   "source": [
    "# Ensure correct nomenclature, ie whitelist = [\"chr13:28589657:T/G\",\"chrX:39921424:G/A\"]\n",
    "# While the load statement accepts many variant formats, this whitelist does not\n",
    "# If there are no whitelist variants, this can be left blank\n",
    "white_list = []"
   ]
  },
  {
   "cell_type": "code",
   "execution_count": null,
   "id": "7ad0b4ae-2ec3-4d1e-9a07-55f658cb3fc4",
   "metadata": {},
   "outputs": [],
   "source": [
    "# Check that whitelist variants are included in current data\n",
    "# Should return true before moving on\n",
    "for sample in group:\n",
    "    print(set(white_list).issubset(set(sample.dna.ids())))"
   ]
  },
  {
   "cell_type": "code",
   "execution_count": null,
   "id": "92f9921d-b1ee-46a1-b44a-ff1b42bf2253",
   "metadata": {},
   "outputs": [],
   "source": [
    "# Subset the same variants in all dna assays\n",
    "# It is important to maintain the same variants across all dna assays\n",
    "\n",
    "# Establish the number of variants for each sample\n",
    "og_num_vars = [s.dna.shape[1] for s in group.samples]\n",
    "\n",
    "#Subset all samples to look at the union of all variants, and whitelist variants\n",
    "var_union = list(set().union(*dna_vars,white_list))\n",
    "\n",
    "for sample in group:\n",
    "    sample.dna = sample.dna[:, var_union]  # Subsets all samples with the same variants\n",
    "\n",
    "# Establish the new number of varaints for each sample\n",
    "new_num_vars = [s.dna.shape[1] for s in group.samples]\n",
    "\n",
    "print(og_num_vars, new_num_vars)  # The old and new number of variants for each sample in the group"
   ]
  },
  {
   "cell_type": "code",
   "execution_count": null,
   "id": "c634ef43-eaea-4489-b797-2823fc477efa",
   "metadata": {},
   "outputs": [],
   "source": [
    "# Merge the samples into one data frame, instead of having them as two separate ones\n",
    "combined = group.merge()"
   ]
  },
  {
   "cell_type": "code",
   "execution_count": null,
   "id": "fbb6a44e-a0d3-492e-b3d2-bcaf5daad0ce",
   "metadata": {},
   "outputs": [],
   "source": [
    "# List all filtered variants in combined\n",
    "combined.dna.ids()"
   ]
  },
  {
   "cell_type": "code",
   "execution_count": null,
   "id": "011585fa-fc5f-4944-9b03-09cda7503904",
   "metadata": {},
   "outputs": [],
   "source": [
    "# Dimensionality of the original sample.dna dataframe\n",
    "# First number = number of cells (rows); second number = number of variants (columns)\n",
    "combined.dna.shape"
   ]
  },
  {
   "cell_type": "markdown",
   "id": "943601b9",
   "metadata": {},
   "source": [
    "### Annotation Addition\n"
   ]
  },
  {
   "cell_type": "code",
   "execution_count": null,
   "id": "09bf3440",
   "metadata": {},
   "outputs": [],
   "source": [
    "help(sample.dna.get_annotations)"
   ]
  },
  {
   "cell_type": "code",
   "execution_count": null,
   "id": "7cf70f63",
   "metadata": {},
   "outputs": [],
   "source": [
    "# Fetch annotations using varsome\n",
    "# Note: run this on a filtered DNA sample - too many variants (e.g., 100+) are not handled correctly by the method\n",
    "ann = combined.dna.get_annotations()  "
   ]
  },
  {
   "cell_type": "markdown",
   "id": "a50751b9",
   "metadata": {},
   "source": [
    "### Variant selection and Subclone identification\n",
    "\n",
    "In this section of the notebook, all variants remaining in the dataset will populate in a variant table. This table is interactive, variants can be selected, and rows can be sorted by ascending/descending values. The variant name can be clicked on and will navigate to the variant's varsome page in the default browser.\n",
    "1. Variants selected in this table will populate in a subclone table below. \n",
    "2. The variants in the subclone table can be highlighted and assessed for Read Depth, Genotype Quality and Variant Allele Frequency. \n",
    "3. Subclones can be renamed by clicking on the pencil icon. \n",
    "4. <b>ADO score:</b> The ADO score threshold can be adjusted, but by default is set to 1. Any clones with an ADO score higher this will be moved into the \"ADO subclones\" column. We recommend moving any clones with a score of .8 or higher into this column. The algorithm used to generate the score is detailed [here](https://missionbio.github.io/mosaic/pages/methods/missionbio.mosaic.dna.Dna.group_by_genotype.html#missionbio.mosaic.dna.Dna.group_by_genotype).\n",
    "5. <b> Min clone size: </b> The Min Clone Size can also be adjusted, but by default is set to 1. Any clones that represent less than 1% of the sample will be moved into the \"Small Subclones\" column. \n",
    "6. Cells with missing genotype information across any of the selected variants will be moved into the \"Missing GT\" column. "
   ]
  },
  {
   "cell_type": "code",
   "execution_count": null,
   "id": "5cfad026",
   "metadata": {},
   "outputs": [],
   "source": [
    "# Run the variant table workflow to select variants and begin clone identification\n",
    "wfv = ms.workflows.VariantSubcloneTable(combined)\n",
    "wfv.run()"
   ]
  },
  {
   "cell_type": "markdown",
   "id": "7178f5e3-ca07-489d-abb7-10aa76fe72f2",
   "metadata": {},
   "source": [
    "<b>NOTE:</b> When continuing onto the next piece of the notebook, the workflow will stop working."
   ]
  },
  {
   "cell_type": "code",
   "execution_count": null,
   "id": "10193a54",
   "metadata": {},
   "outputs": [],
   "source": [
    "# Subsample the variants to only the variants selected from the workflow\n",
    "variants = wfv.selected_variants\n",
    "combined.dna = combined.dna[:,variants]\n",
    "\n",
    "# Save the full set of cells to a new variable that can be called on later\n",
    "# Do this before renaming the variants\n",
    "full_combined = combined[:]"
   ]
  },
  {
   "cell_type": "code",
   "execution_count": null,
   "id": "3cf6c9fa",
   "metadata": {},
   "outputs": [],
   "source": [
    "# Rename the variants\n",
    "# Any of these column values can be added to the id names\n",
    "combined.dna.col_attrs.keys()"
   ]
  },
  {
   "cell_type": "code",
   "execution_count": null,
   "id": "9276adbc",
   "metadata": {},
   "outputs": [],
   "source": [
    "# Add annotation to the id names\n",
    "combined.dna.set_annotated_ids(add_clinvar=True)\n",
    "\n",
    "# Annotations are now added to the variants\n",
    "combined.dna.ids()\n",
    "\n",
    "# Use sample.dna.reset_ids() to get the original ids"
   ]
  },
  {
   "cell_type": "code",
   "execution_count": null,
   "id": "c155e0b8",
   "metadata": {},
   "outputs": [],
   "source": [
    "# Plot heatmap using NGT_FILTERED.\n",
    "fig = combined.dna.heatmap(attribute='NGT_FILTERED')\n",
    "go.Figure(fig)"
   ]
  },
  {
   "cell_type": "code",
   "execution_count": null,
   "id": "0f33655a",
   "metadata": {},
   "outputs": [],
   "source": [
    "# Clone removal\n",
    "# Remove barcodes from the missing GT, small subclones, ADO subclones or FP labels\n",
    "clones = ['missing', 'ADO', 'small', 'FP']\n",
    "for c in clones:\n",
    "    cells = combined.dna.barcodes({c})\n",
    "    if len(cells) > 0:\n",
    "        combined.dna = combined.dna.drop(cells)\n",
    "set(combined.dna.get_labels())"
   ]
  },
  {
   "cell_type": "code",
   "execution_count": null,
   "id": "e7d1134f-d06c-4935-a803-50c72f9cdfa3",
   "metadata": {},
   "outputs": [],
   "source": [
    "# If subclones need to be renamed outside of the workflow\n",
    "# The following code can be used:\n",
    "# NOTE: all clones need to be listed for this function to work\n",
    "combined.dna.rename_labels(\n",
    "  {\n",
    "    'current_subclone_name': 'new_subclone_name', \n",
    "    'WT': 'Wild Type',\n",
    "    '3': 'three',\n",
    "    '4': 'four',      \n",
    "  }\n",
    ")"
   ]
  },
  {
   "cell_type": "code",
   "execution_count": null,
   "id": "ef39df79",
   "metadata": {},
   "outputs": [],
   "source": [
    "# Redraw heatmap\n",
    "fig = combined.dna.heatmap(attribute='NGT_FILTERED')\n",
    "go.Figure(fig)"
   ]
  },
  {
   "cell_type": "code",
   "execution_count": null,
   "id": "90958b94",
   "metadata": {},
   "outputs": [],
   "source": [
    "# Redraw heatmap, split by sample\n",
    "fig = combined.dna.heatmap(attribute='NGT_FILTERED', splitby='sample_name')\n",
    "go.Figure(fig)"
   ]
  },
  {
   "cell_type": "code",
   "execution_count": null,
   "id": "9b1b41b9-cc5b-4bfc-a98c-952bea41f108",
   "metadata": {},
   "outputs": [],
   "source": [
    "# Create a DNA heatmap to see both the sample names and the subclone labels\n",
    "# Parameters\n",
    "attribute = 'NGT_FILTERED'\n",
    "assay = combined.dna\n",
    "lab_row1 = \"label\"\n",
    "lab_row2 = \"sample_name\"\n",
    "lab2_title = \"Sample\"\n",
    "\n",
    "# Graphing\n",
    "data = assay.get_attribute(attribute, constraint=\"row+col\")\n",
    "ids = assay.clustered_ids(attribute)\n",
    "labels = pd.concat([assay.get_attribute(lab_row1), assay.get_attribute(lab_row2).rename(columns={\"1\": \"2\"})], axis=1)\n",
    "bars = assay.clustered_barcodes(attribute, splitby=labels)\n",
    "\n",
    "data = data.loc[bars, ids]\n",
    "labs1 = assay.get_attribute(lab_row1, constraint=\"row\").loc[bars, :].values.flatten()\n",
    "labs2 = assay.get_attribute(lab_row2, constraint=\"row\").loc[bars, :].values.flatten()\n",
    "\n",
    "fig = MultiMap([data], labs1, names=[attribute], extra_column_titles=[lab2_title], widths=[1 / 24, 1]).draw()\n",
    "fig.add_trace(Heatmap(data, labs2).label_trace(), row=1, col=2)\n",
    "fig.layout.xaxis2.tickvals = []\n",
    "\n",
    "fig"
   ]
  },
  {
   "cell_type": "code",
   "execution_count": null,
   "id": "2e38d011",
   "metadata": {},
   "outputs": [],
   "source": [
    "# Evaluate new total number of cells after the above filtering\n",
    "combined.dna.shape"
   ]
  },
  {
   "cell_type": "code",
   "execution_count": null,
   "id": "87397da2",
   "metadata": {},
   "outputs": [],
   "source": [
    "# Subset the barcodes to match across all assays\n",
    "# This will return the barcodes common to all assays in the sample.\n",
    "combined.common_barcodes()\n",
    "\n",
    "# Use that to filter the sample so that only the common barcodes are present in all assays\n",
    "combined = combined[combined.common_barcodes()]"
   ]
  },
  {
   "cell_type": "code",
   "execution_count": null,
   "id": "d107f38f",
   "metadata": {},
   "outputs": [],
   "source": [
    "# Split merged object\n",
    "# Need to first split the samples: they will go back from combined to group\n",
    "group = ms.SampleGroup(combined.split(\"sample_name\"))"
   ]
  },
  {
   "cell_type": "code",
   "execution_count": null,
   "id": "5f170287",
   "metadata": {},
   "outputs": [],
   "source": [
    "# Multisample DNA barplot\n",
    "fig = group.barplot(\"dna\", percentage=True)\n",
    "\n",
    "#To change the color of certain clones, try something like the following:\n",
    "#fig.data[0].marker.color = \"red\"\n",
    "#fig.data[5].marker.color = \"orange\"\n",
    "fig.update_layout(title = 'Clone size as a percentage of total population')\n",
    "fig.show()"
   ]
  },
  {
   "cell_type": "code",
   "execution_count": null,
   "id": "795a7592",
   "metadata": {},
   "outputs": [],
   "source": [
    "# Fishplot\n",
    "# Multisample DNA fishplot\n",
    "# Order samples in sample_order and fill in the list with their specific name\n",
    "fig = group.fishplot(\"dna\", sample_order=['Sample 1', 'Sample 2'])\n",
    "fig.layout.height = 750\n",
    "fig.show()\n",
    "# Further specify labels and parents to reorganize the fishplot\n",
    "# Want to hide the phylogeny tree? draw_graph=False\n",
    "# Documentation here: https://missionbio.github.io/mosaic/autosummary_pages/methods/missionbio.mosaic.samplegroup.SampleGroup.fishplot.html#missionbio.mosaic.samplegroup.SampleGroup.fishplot"
   ]
  },
  {
   "cell_type": "code",
   "execution_count": null,
   "id": "5c393ae6",
   "metadata": {},
   "outputs": [],
   "source": [
    "# Heatmap per sample\n",
    "for sample in group:\n",
    "    fig = sample.dna.heatmap(attribute='NGT_FILTERED',splitby=\"label\")\n",
    "    fig.update_layout(title = sample.name)\n",
    "    go.Figure(fig)\n",
    "    fig.show()"
   ]
  },
  {
   "cell_type": "code",
   "execution_count": null,
   "id": "82d633d5",
   "metadata": {},
   "outputs": [],
   "source": [
    "# Shape of each sample\n",
    "for sample in group:\n",
    "    print(sample.name, sample.dna.shape)"
   ]
  },
  {
   "cell_type": "markdown",
   "id": "9e9a4dfb",
   "metadata": {},
   "source": [
    "### Adjusting subclone colors or heatmap colors\n",
    "\n",
    "To change the color palette used for the subclones, use `set_palette`. For this provide a list of ALL subclone names, pointing to the hexcode/color to change that subclone to. Note: this function also works with the protein and CNV assays. See below for an example of this.\n",
    "\n",
    "To change the color palette used for any of the assays/layers, use `ms.Config.Colorscale`. Then list the assay and layer, and assign the plotly colorscale to use for those graphics. Visualize all available colorscales by using `plotly.colors.sequential.swatches_continuous().show()`. To reset all color palettes back to their defaults, use `ms.Config.Colorscle.reset()`."
   ]
  },
  {
   "cell_type": "code",
   "execution_count": null,
   "id": "c6adff13",
   "metadata": {},
   "outputs": [],
   "source": [
    "# Example of changing the colors assigned to each clone\n",
    "sample_one = group.samples[0]\n",
    "sample_two = group.samples[1]\n",
    "sample_one.dna.set_palette({\"Clone 1\": \"#800080\", \"Clone 2\": \"#FF69B4\"})\n",
    "sample_two.dna.set_palette({\"Clone 1\": \"#800080\", \"Clone 2\": \"#FF69B4\"})"
   ]
  },
  {
   "cell_type": "code",
   "execution_count": null,
   "id": "89b9dd72",
   "metadata": {},
   "outputs": [],
   "source": [
    "# Change the color of a subclone for the entire group object\n",
    "# These changes will be applied to the barplots and fishplots\n",
    "# Example\n",
    "pal = group.apply(lambda s: s.dna.get_palette())\n",
    "pal = {k: v for d in pal for k, v in d.items()}\n",
    "\n",
    "pal[\"Clone 1\"] = 'LightCyan'\n",
    "pal[\"Clone 2\"] = 'Lavender'\n",
    "pal[\"Clone 3\"] = 'PaleGreen'\n",
    "\n",
    "group.apply(lambda s: s.dna.set_palette(pal))\n",
    "\n",
    "# Built in color options can be found here: https://www.w3schools.com/cssref/css_colors.php"
   ]
  },
  {
   "cell_type": "code",
   "execution_count": null,
   "id": "d55d45e2",
   "metadata": {},
   "outputs": [],
   "source": [
    "# Change colorScale to change the heatmap colors\n",
    "# This will change the color of the dna.ngt layer to be viridis\n",
    "for sample in group:\n",
    "    ms.Config.Colorscale.Dna.NGT = 'viridis'\n",
    "    fig = sample.dna.heatmap('NGT')\n",
    "    fig.update_layout(title = sample.name)\n",
    "    fig.show()\n",
    "\n",
    "# To reset this, run the following to reset just that one modification\n",
    "#ms.Config.Colorscale.Dna.reset(\"NGT\")\n",
    "# Or run this to reset any/all modifications:\n",
    "#ms.Config.Colorscale.reset()\n",
    "# Colorscale cane be changed for DNA, CNV and Protein assays"
   ]
  },
  {
   "cell_type": "markdown",
   "id": "00ba7941",
   "metadata": {},
   "source": [
    "To return back to the original population of cells, reset the data using: `sample.reset(\"dna\")` This command 'sample.reset' works on all assays, including CNV and protein."
   ]
  },
  {
   "cell_type": "markdown",
   "id": "c68c8761",
   "metadata": {},
   "source": [
    "## CNV Analysis\n",
    "\n",
    "<b>Topics covered</b>\n",
    "1. Amplicon and cell filtering and ploidy estimation.\n",
    "2. Visualization of ploidy across subclones present."
   ]
  },
  {
   "cell_type": "code",
   "execution_count": null,
   "id": "bf4f3504",
   "metadata": {},
   "outputs": [],
   "source": [
    "# Get gene names for amplicons\n",
    "for sample in group:\n",
    "    sample.cnv.get_gene_names()"
   ]
  },
  {
   "cell_type": "code",
   "execution_count": null,
   "id": "13686dfd",
   "metadata": {},
   "outputs": [],
   "source": [
    "# Define the samples\n",
    "# Go through the CNV workflow once per sample\n",
    "sample_one = group.samples[0]\n",
    "sample_two = group.samples[1]\n",
    "\n",
    "#Additional lines will be needed if there are more than two samples\n",
    "#sample_three = group.samples[2]"
   ]
  },
  {
   "cell_type": "code",
   "execution_count": null,
   "id": "b1b65f13-b8b3-4979-be5e-1918fdef7798",
   "metadata": {},
   "outputs": [],
   "source": [
    "# Establish the order of the samples in the group object\n",
    "# Note: timepoint one will not automatically be the first sample\n",
    "for sample in group:\n",
    "    print(sample.name)"
   ]
  },
  {
   "cell_type": "markdown",
   "id": "15e03c10",
   "metadata": {},
   "source": [
    "### CNV workflow\n",
    "\n",
    "This workflow will normalize all reads and filter amplicons/cells based on the settings set at the beginning of the workflow: <br>\n",
    "1. <b> Amplicon completeness: </b> refers to the minimum percentage of cells that must have reads greater than or equal to the minimum read depth set. By default this is set to 50. <br>\n",
    "2. <b> Amplicon read depth: </b> refers to the minimum read depth for each amplicon-barcode combination to not be considered missing. By default this is set to 10. <br>\n",
    "3. <b>Mean cell read depth: </b> refers the minimum mean read depth for a cell to be included in the analysis, otherwise the cell will be removed. By default this is set to 40.<br>\n",
    "4. <b>Diploid clone in DNA: </b> refers to which subclone is used as the true diploid population. All ploidy estimates will be calculated in relation to this diploid population. We recommend setting this to the 'WT' population or earliest clone present. <br>\n",
    "    \n",
    "<b> Note: </b> If large copy number events are expected, Amplicon Completeness and Amplicon Read Depth may need to be reduced.\n",
    "\n",
    "Once the above filters are set, the visualizations can be changed. <br>\n",
    "1. <b> Plot:</b> Can be changed from Heatmap positions, to Heatmap genes, Line-plot positions, Line-plot genes <br>\n",
    "2. <b> Clone for line plot:</b> If one of the line-plot visualizations is selected, only one clone can be shown at a time. This determines which one is plotted. <br>\n",
    "3. <b> X-axis features: </b> To plot a subset of the data (chromosomes or genes), select which chromosomes/genes should be plotted with this function. Chromosomes can be selected for 'positions' type plots, and Genes can be selected for 'genes' type plots."
   ]
  },
  {
   "cell_type": "code",
   "execution_count": null,
   "id": "3425c6f4",
   "metadata": {},
   "outputs": [],
   "source": [
    "# CNV workflow to filter, normalize and estimate ploidy\n",
    "wfc = ms.workflows.CopyNumber(sample_one)\n",
    "wfc.run()"
   ]
  },
  {
   "cell_type": "markdown",
   "id": "6185395b-a596-40a1-8dfc-cb0167f6c462",
   "metadata": {},
   "source": [
    "<b>NOTE:</b> When continuing onto the next piece of the notebook, the workflow will stop working."
   ]
  },
  {
   "cell_type": "code",
   "execution_count": null,
   "id": "9fbfaa34",
   "metadata": {},
   "outputs": [],
   "source": [
    "# Heatmap with the features ordered by the default amplicon order\n",
    "# To plot just a subset of chromosomes, put them in list format in the features argument\n",
    "fig = sample_one.cnv.heatmap('ploidy', features='positions') #features=['7', '17', '20']\n",
    "\n",
    "# Optionally, restrict the range of ploidy values based on observed/expected CNV events (commented out)\n",
    "#fig.layout.coloraxis.cmax = 4\n",
    "#fig.layout.coloraxis.cmin = 0\n",
    "\n",
    "# Optionally, change the size of the figure:\n",
    "#fig.layout.width = 1600\n",
    "#fig.layout.height = 1500\n",
    "fig.update_layout(title = sample_one.name)\n",
    "go.Figure(fig)"
   ]
  },
  {
   "cell_type": "code",
   "execution_count": null,
   "id": "7ce86aa8",
   "metadata": {},
   "outputs": [],
   "source": [
    "# Heatmap with the features grouped by the genes\n",
    "# To plot just a subset of genes, put them in list format in the features argument\n",
    "fig = sample_one.cnv.heatmap('ploidy', features='genes', convolve=1) #features=[\"ASXL1\", \"EZH2\",'TP53']\n",
    "\n",
    "# Optionally, update the separating lines to be black\n",
    "#for shape in fig.layout.shapes:\n",
    "#    shape.line.color = '#000000'\n",
    "\n",
    "fig.update_layout(title = sample_one.name)\n",
    "go.Figure(fig)"
   ]
  },
  {
   "cell_type": "code",
   "execution_count": null,
   "id": "72924647",
   "metadata": {},
   "outputs": [],
   "source": [
    "# Show heatmap with convolve and subclustering turned off\n",
    "bars = sample_one.cnv.clustered_barcodes('ploidy', subcluster=False)\n",
    "\n",
    "# This is useful to create \"convolved\" heatmaps which are easier to interpret\n",
    "# With the subclustering off and convolve=20, the noise will be reduced and real signals will be easier to visualize\n",
    "fig = sample_one.cnv.heatmap('ploidy', bars_order=bars, convolve=20)\n",
    "fig.layout.width = 900\n",
    "fig.update_layout(title = sample_one.name)\n",
    "fig.show()"
   ]
  },
  {
   "cell_type": "markdown",
   "id": "8dfa875a",
   "metadata": {},
   "source": [
    "<b> Note: The following is a partial duplication to run through the CNV workflow with the second/subsequent sample. </b>"
   ]
  },
  {
   "cell_type": "code",
   "execution_count": null,
   "id": "6bf7c32a",
   "metadata": {},
   "outputs": [],
   "source": [
    "# Go through the workflow for any additional samples\n",
    "# CNV workflow to filter, normalize and estimate ploidy\n",
    "wfc = ms.workflows.CopyNumber(sample_two)\n",
    "wfc.run()"
   ]
  },
  {
   "cell_type": "markdown",
   "id": "ea5c44fb-e464-4886-880f-7f56955f6354",
   "metadata": {},
   "source": [
    "<b> Note: The following is a partial duplication to run through the CNV workflow with the second/subsequent sample. </b>"
   ]
  },
  {
   "cell_type": "code",
   "execution_count": null,
   "id": "383f6ab9",
   "metadata": {},
   "outputs": [],
   "source": [
    "# Heatmap with the features ordered by the default amplicon order\n",
    "# To plot just a subset of chromosomes, put them in list format for the features argument\n",
    "fig = sample_two.cnv.heatmap('ploidy', features='positions') #features=['7', '17', '20']\n",
    "\n",
    "# Optionally, restrict the range of ploidy values based on observed/expected CNV events (commented out)\n",
    "#fig.layout.coloraxis.cmax = 4\n",
    "#fig.layout.coloraxis.cmin = 0\n",
    "\n",
    "# Optionally, change the size of the figure:\n",
    "#fig.layout.width = 1600\n",
    "#fig.layout.height = 1500\n",
    "fig.update_layout(title = sample_two.name)\n",
    "go.Figure(fig)"
   ]
  },
  {
   "cell_type": "code",
   "execution_count": null,
   "id": "3121c81a",
   "metadata": {},
   "outputs": [],
   "source": [
    "# Heatmap with the features grouped by the genes\n",
    "# To plot just a subset of genes, put them in list format for the features argument\n",
    "fig = sample_two.cnv.heatmap('ploidy', features='genes', convolve=1) #features=[\"ASXL1\", \"EZH2\",'TP53']\n",
    "\n",
    "# Optionally, update the separating lines to be black\n",
    "#for shape in fig.layout.shapes:\n",
    "#    shape.line.color = '#000000'\n",
    "fig.update_layout(title = sample_two.name)\n",
    "go.Figure(fig)"
   ]
  },
  {
   "cell_type": "code",
   "execution_count": null,
   "id": "96e3216b",
   "metadata": {},
   "outputs": [],
   "source": [
    "# Show heatmap with convolve and subclustering turned off\n",
    "bars = sample_two.cnv.clustered_barcodes('ploidy', subcluster=False)\n",
    "\n",
    "# This is useful to create \"convolved\" heatmaps which are easier to interpret\n",
    "# With the subclustering off and convolve=20, the noise will be reduced and real signals will be easier to visualize\n",
    "fig = sample_two.cnv.heatmap('ploidy', bars_order=bars, convolve=20)\n",
    "fig.layout.width = 900\n",
    "fig.update_layout(title = sample_two.name)\n",
    "fig.show()"
   ]
  },
  {
   "cell_type": "markdown",
   "id": "e0fa93a8",
   "metadata": {},
   "source": [
    "<b> Note: </b> The next few cells are highly optional, and only need to be run to plot cells from all samples together in one heatmap."
   ]
  },
  {
   "cell_type": "code",
   "execution_count": null,
   "id": "a7e9d0ca",
   "metadata": {},
   "outputs": [],
   "source": [
    "# Plot heatmaps of all samples together\n",
    "combined = group.merge()\n",
    "combined.cnv.heatmap('ploidy', splitby='sample_name')"
   ]
  },
  {
   "cell_type": "code",
   "execution_count": null,
   "id": "6a2e0aaa",
   "metadata": {},
   "outputs": [],
   "source": [
    "# Subset the barcodes to match across all assays\n",
    "# This will return the barcodes common to all assays in the sample\n",
    "combined.common_barcodes()\n",
    "\n",
    "# Use that to filter the sample so that only the common barcodes are present in all assays\n",
    "combined = combined[combined.common_barcodes()]"
   ]
  },
  {
   "cell_type": "code",
   "execution_count": null,
   "id": "78d18cbe",
   "metadata": {},
   "outputs": [],
   "source": [
    "# Split merged object\n",
    "# Need to split the samples: they will go back from combined to group\n",
    "group = ms.SampleGroup(combined.split(\"sample_name\"))"
   ]
  },
  {
   "cell_type": "markdown",
   "id": "6e2fb4d2",
   "metadata": {},
   "source": [
    "## Protein Analysis\n",
    "\n",
    "<b>Topics covered</b>\n",
    "\n",
    "1. Normalization and assessment of AOC abundance\n",
    "2. Clustering and visualization\n",
    "3. Statistical significance analysis"
   ]
  },
  {
   "cell_type": "markdown",
   "id": "30b355e1",
   "metadata": {},
   "source": [
    "### Normalization and Data Inspection"
   ]
  },
  {
   "cell_type": "code",
   "execution_count": null,
   "id": "368968c5",
   "metadata": {},
   "outputs": [],
   "source": [
    "help(sample.protein.normalize_reads)"
   ]
  },
  {
   "cell_type": "code",
   "execution_count": null,
   "id": "10f4d44c",
   "metadata": {},
   "outputs": [],
   "source": [
    "# Subset the protein barcodes to match the dna and cnv barcodes\n",
    "for sample in group:\n",
    "    sample.protein = sample.protein[sample.dna.barcodes(),:]"
   ]
  },
  {
   "cell_type": "code",
   "execution_count": null,
   "id": "e7c54aae",
   "metadata": {},
   "outputs": [],
   "source": [
    "# See the new shape of the protein data frame\n",
    "for sample in group:\n",
    "    print(sample.protein.shape)"
   ]
  },
  {
   "cell_type": "code",
   "execution_count": null,
   "id": "0fd63dec",
   "metadata": {},
   "outputs": [],
   "source": [
    "# Normalize reads\n",
    "# Three different methods available: CLR = Centered Log Ratio, NSP = Noise corrected and Scaled, asinh = Inverse Hyperbolic transformation\n",
    "for sample in group:\n",
    "    sample.protein.normalize_reads('NSP') "
   ]
  },
  {
   "cell_type": "code",
   "execution_count": null,
   "id": "d5b8385f",
   "metadata": {},
   "outputs": [],
   "source": [
    "# Ridge plot: shows distribution of AOC counts across all cells (bimodal = positive and negative cell populations)\n",
    "for sample in group:\n",
    "    sample.protein.ridgeplot(attribute='normalized_counts',\n",
    "                         features=sample.protein.ids()).show()"
   ]
  },
  {
   "cell_type": "code",
   "execution_count": null,
   "id": "1bca9638-fee3-410c-ad52-a9eaf4dc42be",
   "metadata": {},
   "outputs": [],
   "source": [
    "# This plot is helpful when titrating a custom AOC panel\n",
    "import pandas as pd\n",
    "import plotly.express as plx\n",
    "\n",
    "for sample in group:\n",
    "    read_counts = sample.protein.layers[\"read_counts\"]\n",
    "    ids = sample.protein.col_attrs[\"id\"].copy()\n",
    "    cell_barcode = pd.DataFrame(read_counts, columns=ids).sum()\n",
    "    cell_barcode.index.rename(\"Antibody\", inplace=True)\n",
    "    cell_barcode = cell_barcode.reset_index(name=\"Cell Barcode Count\")\n",
    "    cell_barcode['percent'] = (cell_barcode['Cell Barcode Count'] / cell_barcode['Cell Barcode Count'].sum()) * 100\n",
    "\n",
    "    fig = plx.bar(cell_barcode, x='Antibody', y='percent', title=sample.name)\n",
    "    fig.show()\n",
    "\n",
    "    # Or make a pie chart\n",
    "    #fig = plx.pie(cell_barcode, values='Cell Barcode Count',names='Antibody', title='Count of Cell Barcodes')\n",
    "    #fig.show()"
   ]
  },
  {
   "cell_type": "code",
   "execution_count": null,
   "id": "d3a42a9e",
   "metadata": {},
   "outputs": [],
   "source": [
    "# Plotting combinations of AOCs on a biaxial scatterplot, to mimic FACS data\n",
    "for sample in group:\n",
    "    sample.protein.feature_scatter(layer='normalized_counts', ids=['CD8', 'CD4']).show()"
   ]
  },
  {
   "cell_type": "code",
   "execution_count": null,
   "id": "0d724683",
   "metadata": {},
   "outputs": [],
   "source": [
    "# List all AOCs, per sample\n",
    "for sample in group:\n",
    "    print(sample.name, '\\n', sample.protein.ids(), '\\n')"
   ]
  },
  {
   "cell_type": "code",
   "execution_count": null,
   "id": "bb20e0b9",
   "metadata": {},
   "outputs": [],
   "source": [
    "# Optionally, remove AOCs from the data set prior to clustering \n",
    "# For example, those that don't display any signal in any cells\n",
    "# Do this for each sample being analyzed\n",
    "for sample in group:\n",
    "    sample.protein = sample.protein.drop(['IgG2a'])"
   ]
  },
  {
   "cell_type": "code",
   "execution_count": null,
   "id": "4758efc1",
   "metadata": {},
   "outputs": [],
   "source": [
    "# Combine both samples into 1 object to cluster them together post-normalization\n",
    "combined = group.merge()"
   ]
  },
  {
   "cell_type": "markdown",
   "id": "1a029239",
   "metadata": {},
   "source": [
    "### Clustering and Visualization"
   ]
  },
  {
   "cell_type": "code",
   "execution_count": null,
   "id": "3bf1d7ae",
   "metadata": {},
   "outputs": [],
   "source": [
    "help(sample.protein.run_pca)"
   ]
  },
  {
   "cell_type": "code",
   "execution_count": null,
   "id": "666b27b8",
   "metadata": {},
   "outputs": [],
   "source": [
    "# Run PCA on the protein dataset to visualize how many PCs contribute the most to variation\n",
    "# Number of components should equal the number of AOCs remaining in the dataset\n",
    "combined.protein.run_pca(attribute='normalized_counts', components=45,show_plot=True, random_state=42)"
   ]
  },
  {
   "cell_type": "code",
   "execution_count": null,
   "id": "8b5559ed",
   "metadata": {},
   "outputs": [],
   "source": [
    "# Rerun PCA with optimal number of components based on elbow plot analysis\n",
    "# Typically, components = 10 is appropriate for 45-plex Biolegend panel\n",
    "combined.protein.run_pca(attribute='normalized_counts', components=10, show_plot=False, random_state=42)"
   ]
  },
  {
   "cell_type": "code",
   "execution_count": null,
   "id": "88cf3658",
   "metadata": {},
   "outputs": [],
   "source": [
    "# Now run UMAP on the chosen PCs \n",
    "# UMAPs rely on an initial randomization which leads to different projections every time\n",
    "# To address this, pass random_state to the run_umap method\n",
    "# See https://jlmelville.github.io/uwot/abparams.html for appropriate spread/min_dist values\n",
    "combined.protein.run_umap(attribute='pca', random_state=42) #, spread=, min_dist="
   ]
  },
  {
   "cell_type": "code",
   "execution_count": null,
   "id": "845813a1",
   "metadata": {},
   "outputs": [],
   "source": [
    "# Cluster the AOCs. Several options are available, see help info for more options\n",
    "# Graph-community clustering: the higher the k value, the smaller the number of clusters --> adjust if necessary\n",
    "combined.protein.cluster(attribute='umap', method='graph-community',k=300, random_state=42) "
   ]
  },
  {
   "cell_type": "code",
   "execution_count": null,
   "id": "1405a54c-ed0d-4057-b50c-4a864a883333",
   "metadata": {},
   "outputs": [],
   "source": [
    "# Plot UMAP for visualization of clusters\n",
    "fig = sample.protein.scatterplot(attribute='umap',colorby='label')\n",
    "go.Figure(fig)"
   ]
  },
  {
   "cell_type": "markdown",
   "id": "491b02af-5c0b-4649-9ba4-9c8c0ac2c658",
   "metadata": {},
   "source": [
    "The protein clusters defined by the PCA + UMAP can be regrouped by utilizing the lasso tool. First, the UMAP needs to be replotted. On the new version of the plot, clusters can be encircled with the lasso tool, found in the upper right corner of the graph. Once this step is complete, the new cluster labels can be assigned in the following block."
   ]
  },
  {
   "cell_type": "code",
   "execution_count": null,
   "id": "c457eaee-0541-42cb-99ca-d075e1814ab8",
   "metadata": {},
   "outputs": [],
   "source": [
    "# Plot UMAP for lasso cluster selection\n",
    "# Be sure that selected_bars is clear before running for lasso selection\n",
    "# Don't use go.Figure()\n",
    "combined.protein.selected_bars = {}\n",
    "combined.protein.scatterplot(attribute='umap', colorby='label')"
   ]
  },
  {
   "cell_type": "code",
   "execution_count": null,
   "id": "69067f16-84c4-4ee7-9734-bfdc92705aad",
   "metadata": {},
   "outputs": [],
   "source": [
    "# Assign new labels (run this right after selecting your new clusters)\n",
    "combined.protein.set_selected_labels()"
   ]
  },
  {
   "cell_type": "code",
   "execution_count": null,
   "id": "725213d2",
   "metadata": {},
   "outputs": [],
   "source": [
    "# Plot heatmap of normalized, clustered protein data\n",
    "fig = combined.protein.heatmap(attribute='normalized_counts')\n",
    "go.Figure(fig)"
   ]
  },
  {
   "cell_type": "code",
   "execution_count": null,
   "id": "df7f3313",
   "metadata": {},
   "outputs": [],
   "source": [
    "# If analyzing multiple samples, order barcodes by sample and then by cluster\n",
    "fig = combined.protein.heatmap(attribute='normalized_counts',splitby='sample_name')\n",
    "go.Figure(fig)"
   ]
  },
  {
   "cell_type": "code",
   "execution_count": null,
   "id": "14653091",
   "metadata": {},
   "outputs": [],
   "source": [
    "help(sample.protein.scatterplot)"
   ]
  },
  {
   "cell_type": "code",
   "execution_count": null,
   "id": "189b6c1d",
   "metadata": {},
   "outputs": [],
   "source": [
    "# Plot UMAP for visualization of clusters\n",
    "fig = combined.protein.scatterplot(attribute='umap',colorby='label')\n",
    "go.Figure(fig)"
   ]
  },
  {
   "cell_type": "code",
   "execution_count": null,
   "id": "62060889",
   "metadata": {},
   "outputs": [],
   "source": [
    "# Plot UMAP for visualization of clusters, by sample\n",
    "fig = combined.protein.scatterplot(attribute='umap',colorby='sample_name')\n",
    "go.Figure(fig)"
   ]
  },
  {
   "cell_type": "code",
   "execution_count": null,
   "id": "ab0ef4fe",
   "metadata": {},
   "outputs": [],
   "source": [
    "# UMAP colored by the expression of each AOC\n",
    "fig = combined.protein.scatterplot(attribute='umap',\n",
    "                           colorby='normalized_counts',\n",
    "                           features=sample.protein.ids())\n",
    "go.Figure(fig)"
   ]
  },
  {
   "cell_type": "code",
   "execution_count": null,
   "id": "734a7d13",
   "metadata": {},
   "outputs": [],
   "source": [
    "# Relabel clone names acccording to biology, combine clones by assigned identical names\n",
    "# Just an example! Need to fill this in based on knowledge of the sample and markers\n",
    "# For cell-type calling, view these resources: https://www.frontiersin.org/articles/10.3389/fimmu.2019.02434/full\n",
    "# Biolegend: https://www.biolegend.com/fr-lu/products/totalseq-d-human-heme-oncology-cocktail-v10-20465\n",
    "\n",
    "combined.protein.rename_labels(\n",
    "    {\n",
    "        '1': 'Cell type A', \n",
    "        '2': 'Cell type B', \n",
    "        '3': 'Cell type C',\n",
    "        '4': 'Cell type D',\n",
    "        '5': 'Cell type E'\n",
    "    }\n",
    ")"
   ]
  },
  {
   "cell_type": "code",
   "execution_count": null,
   "id": "37b4723d",
   "metadata": {},
   "outputs": [],
   "source": [
    "# Drop cells (barcodes) that need to be removed\n",
    "# Note: if no cells are dropped, this code will producs an error (ignore)\n",
    "fp_barcodes2 = combined.protein.barcodes(\"FP\")\n",
    "combined.protein = combined.protein.drop(fp_barcodes2)\n",
    "set(combined.protein.get_labels())"
   ]
  },
  {
   "cell_type": "code",
   "execution_count": null,
   "id": "c362fdae",
   "metadata": {},
   "outputs": [],
   "source": [
    "# Run heatmap again with new labels\n",
    "fig = combined.protein.heatmap(attribute='normalized_counts',splitby='label')\n",
    "go.Figure(fig)"
   ]
  },
  {
   "cell_type": "code",
   "execution_count": null,
   "id": "3ce6c853",
   "metadata": {},
   "outputs": [],
   "source": [
    "# Need to first split the samples: they will go back from combined to group\n",
    "group = ms.SampleGroup(combined.split(\"sample_name\"))"
   ]
  },
  {
   "cell_type": "code",
   "execution_count": null,
   "id": "4f914a54",
   "metadata": {},
   "outputs": [],
   "source": [
    "# Fish plot\n",
    "fig = group.fishplot(\"protein\", draw_graph=False) #,sample_order=['Sample1', 'Sample2'])\n",
    "fig.layout.width = 1000\n",
    "fig.layout.height = 850\n",
    "fig.show()"
   ]
  },
  {
   "cell_type": "code",
   "execution_count": null,
   "id": "864577ce",
   "metadata": {},
   "outputs": [],
   "source": [
    "# Multisample barplot\n",
    "group.barplot(\"protein\", percentage=True)"
   ]
  },
  {
   "cell_type": "code",
   "execution_count": null,
   "id": "a4fceca2",
   "metadata": {},
   "outputs": [],
   "source": [
    "# Additionally, option to remove AOCs from the data \n",
    "for sample in group:\n",
    "    sample.protein = sample.protein.drop(['IgG2a'])"
   ]
  },
  {
   "cell_type": "code",
   "execution_count": null,
   "id": "da0648ee",
   "metadata": {},
   "outputs": [],
   "source": [
    "# Shape of cleaned up protein data (number of cells, number of AOCs)\n",
    "for sample in group:\n",
    "    print(sample.name, sample.protein.shape)"
   ]
  },
  {
   "cell_type": "code",
   "execution_count": null,
   "id": "ed4d0b5b",
   "metadata": {},
   "outputs": [],
   "source": [
    "# Re-run heatmap with new filtered data\n",
    "for sample in group:\n",
    "    fig = sample.protein.heatmap(attribute='normalized_counts')\n",
    "    fig.update_layout(title=sample.name)\n",
    "    go.Figure(fig).show()"
   ]
  },
  {
   "cell_type": "code",
   "execution_count": null,
   "id": "e2271df3",
   "metadata": {},
   "outputs": [],
   "source": [
    "# Show heatmap with convolve and subclustering turned off, per sample\n",
    "for sample in group:\n",
    "    bars = sample.protein.clustered_barcodes('normalized_counts', subcluster=False)\n",
    "    # This is useful to create \"convolved\" heatmaps which are easier to interpret\n",
    "    # With the subclustering off and convolve=20, the noise will be reduced and real signals will be easier to determine\n",
    "    fig = sample.protein.heatmap('normalized_counts', bars_order=bars, convolve=20)\n",
    "    fig.update_layout(title=sample.name)\n",
    "    fig.layout.width = 900\n",
    "    go.Figure(fig).show()"
   ]
  },
  {
   "cell_type": "code",
   "execution_count": null,
   "id": "c28f6fc0",
   "metadata": {},
   "outputs": [],
   "source": [
    "# Signature will create a dataframe based on the layer defined and which statistical value listed\n",
    "# This can be used for: mean, median, mode, or std with this function\n",
    "for sample in group:\n",
    "    sample.protein.signature('normalized_counts', 'median')"
   ]
  },
  {
   "cell_type": "code",
   "execution_count": null,
   "id": "fdd349f4",
   "metadata": {},
   "outputs": [],
   "source": [
    "# signaturemap will plot a heatmap of the signature dataframe created above\n",
    "# The labels list will control the order of the clusters along the y-axis\n",
    "for sample in group:\n",
    "    fig = sample.protein.signaturemap('normalized_counts') #labels=[]\n",
    "    fig.update_layout(title = sample.name)\n",
    "    fig.show()"
   ]
  },
  {
   "cell_type": "markdown",
   "id": "626969d1",
   "metadata": {},
   "source": [
    "### Statistics\n",
    "\n",
    "Statistics should be run separately per sample, similar to the CNV statistics section. Note, these tests just look for differential protein expression within the individual samples. There are not yet any built in functions for cross-sample comparison, though this can be easily added with python packages and additional custom kernels of code. This will run a t-test on the protein clusters defined above. "
   ]
  },
  {
   "cell_type": "code",
   "execution_count": null,
   "id": "6ce5e743",
   "metadata": {},
   "outputs": [],
   "source": [
    "# First define the samples\n",
    "sample_one = group.samples[0]\n",
    "sample_two = group.samples[1]"
   ]
  },
  {
   "cell_type": "code",
   "execution_count": null,
   "id": "7d719a53",
   "metadata": {},
   "outputs": [],
   "source": [
    "pval_protein, tstat_protein = sample_one.protein.test_signature(\"normalized_counts\")"
   ]
  },
  {
   "cell_type": "code",
   "execution_count": null,
   "id": "48e94531",
   "metadata": {},
   "outputs": [],
   "source": [
    "pval_protein"
   ]
  },
  {
   "cell_type": "code",
   "execution_count": null,
   "id": "6415796b",
   "metadata": {},
   "outputs": [],
   "source": [
    "pval_protein = pval_protein + 10 ** -50 + pval_protein\n",
    "pvals_protein = -np.log10(pval_protein) * (tstat_protein > 0)"
   ]
  },
  {
   "cell_type": "code",
   "execution_count": null,
   "id": "015f7cc2",
   "metadata": {},
   "outputs": [],
   "source": [
    "# Colored tiles indicate strong association of a protein with a particular cluster\n",
    "plt.figure(figsize=(20, 10))\n",
    "fig = sns.heatmap(pvals_protein.T, vmax=50, vmin=40)"
   ]
  },
  {
   "cell_type": "markdown",
   "id": "e73725c5",
   "metadata": {},
   "source": [
    "This is a partial duplication of the above code, for any additional samples"
   ]
  },
  {
   "cell_type": "code",
   "execution_count": null,
   "id": "04af0228",
   "metadata": {},
   "outputs": [],
   "source": [
    "pval_protein, tstat_protein = sample_two.protein.test_signature(\"normalized_counts\")"
   ]
  },
  {
   "cell_type": "code",
   "execution_count": null,
   "id": "190350db",
   "metadata": {},
   "outputs": [],
   "source": [
    "pval_protein"
   ]
  },
  {
   "cell_type": "code",
   "execution_count": null,
   "id": "ab0a4907",
   "metadata": {},
   "outputs": [],
   "source": [
    "pval_protein = pval_protein + 10 ** -50 + pval_protein\n",
    "pvals_protein = -np.log10(pval_protein) * (tstat_protein > 0)"
   ]
  },
  {
   "cell_type": "code",
   "execution_count": null,
   "id": "4810715a",
   "metadata": {},
   "outputs": [],
   "source": [
    "# Colored tiles indicate strong association of a protein with a particular cluster\n",
    "plt.figure(figsize=(20, 10))\n",
    "fig = sns.heatmap(pvals_protein.T, vmax=50, vmin=40)"
   ]
  },
  {
   "cell_type": "markdown",
   "id": "96a14ceb",
   "metadata": {},
   "source": [
    "## Combined Visualizations\n",
    "\n",
    "In this section the dataset will be subset to only retain barcodes with remaining DNA, CNV and Protein data. Then this data can be plotted together using `sample.heatmap()` and `sample.signaturemap()`. \n",
    "\n",
    "Overlap between different analytes can be quantified and visualized, using `sample.crosstabmap()`.\n",
    "\n",
    "The first few kernels of code will generate one plot per sample for the combined visualizations, the last portion of this section will combine the samples into one dataframe and plot them all together."
   ]
  },
  {
   "cell_type": "code",
   "execution_count": null,
   "id": "996484d2",
   "metadata": {},
   "outputs": [],
   "source": [
    "# This will return the barcodes common to all assays in the sample, for each sample.\n",
    "for sample in group:\n",
    "    sample.common_barcodes()\n",
    "    # Use that to filter the sample so that only the common barcodes are present in all assays\n",
    "    sample = sample[sample.common_barcodes()]"
   ]
  },
  {
   "cell_type": "code",
   "execution_count": null,
   "id": "33b8ac33",
   "metadata": {},
   "outputs": [],
   "source": [
    "# Check dimensionality for each assay; the number of cells (first number) should be the same in each data set\n",
    "# For each sample\n",
    "for sample in group:\n",
    "    print(sample.name, sample.dna.shape, sample.cnv.shape, sample.protein.shape)"
   ]
  },
  {
   "cell_type": "code",
   "execution_count": null,
   "id": "feb8a394",
   "metadata": {},
   "outputs": [],
   "source": [
    "# DNA + CNV + Protein heatmap\n",
    "for sample in group:\n",
    "    fig = sample.heatmap(\n",
    "        clusterby=('dna', 'cnv', 'protein'),  # The first assay is used for the labels\n",
    "        attributes=['AF', 'ploidy', 'normalized_counts'],\n",
    "        features=[None, 'genes', None],  # If None, then clustered_ids is used\n",
    "        bars_order=None,  # The order of the barcodes\n",
    "        widths=None,\n",
    "        order=('dna', 'cnv', 'protein')  # The order in which the heatmaps should be drawn\n",
    "    )\n",
    "    fig.update_layout(title = sample.name)\n",
    "    fig.show()"
   ]
  },
  {
   "cell_type": "code",
   "execution_count": null,
   "id": "ca0aa2bd",
   "metadata": {},
   "outputs": [],
   "source": [
    "# DNA + CNV heatmap\n",
    "# One per sample\n",
    "for sample in group:\n",
    "    fig = sample.heatmap(\n",
    "        clusterby=('dna', 'cnv'),  # The first assay is used for the labels\n",
    "        attributes=['AF', 'ploidy'],\n",
    "        features=[None, 'genes'],  # If None, then clustered_ids is used\n",
    "        bars_order=None,  # The order of the barcodes\n",
    "        widths=None,\n",
    "        order=('dna', 'cnv')  # The order in which the heatmaps should be drawn\n",
    "    )\n",
    "    fig.update_layout(title = sample.name)\n",
    "    fig.show()"
   ]
  },
  {
   "cell_type": "code",
   "execution_count": null,
   "id": "cc30b3c0",
   "metadata": {},
   "outputs": [],
   "source": [
    "# DNA + Protein heatmap\n",
    "for sample in group:\n",
    "    fig = sample.heatmap(\n",
    "        clusterby=('dna', 'protein'),  # The first assay is used for the labels\n",
    "        attributes=['AF', 'normalized_counts'],\n",
    "        features=[None, None],  # If None, then clustered_ids is used\n",
    "        bars_order=None,  # The order of the barcodes\n",
    "        widths=None,\n",
    "        order=('dna', 'protein')  # The order in which the heatmaps should be drawn\n",
    "    )\n",
    "    fig.update_layout(title = sample.name)\n",
    "    fig.show()"
   ]
  },
  {
   "cell_type": "code",
   "execution_count": null,
   "id": "e6a35f16",
   "metadata": {},
   "outputs": [],
   "source": [
    "help(sample.signaturemap)"
   ]
  },
  {
   "cell_type": "code",
   "execution_count": null,
   "id": "b9e1fa69",
   "metadata": {},
   "outputs": [],
   "source": [
    "# Plot a combined signature heatmap, showing DNA, CNV and Protein signatures for all subclones\n",
    "# One per sample\n",
    "for sample in group:\n",
    "    fig = sample.signaturemap(\n",
    "        clusterby=('dna', 'cnv', 'protein'),\n",
    "        attributes=('NGT', 'ploidy', 'normalized_counts'),\n",
    "        features=[None, 'genes', None],\n",
    "        signature_kind=['median', 'median', 'median'],\n",
    "        widths=None,\n",
    "        order=('dna', 'cnv', 'protein')  # The order in which the heatmaps should be drawn\n",
    "    )\n",
    "    fig.update_layout(title = sample.name)\n",
    "    fig.show()"
   ]
  },
  {
   "cell_type": "code",
   "execution_count": null,
   "id": "98316a8c",
   "metadata": {},
   "outputs": [],
   "source": [
    "help(sample.clone_vs_analyte)"
   ]
  },
  {
   "cell_type": "code",
   "execution_count": null,
   "id": "0a16f3f1",
   "metadata": {},
   "outputs": [],
   "source": [
    "# Clone vs analyte\n",
    "# Visualize the CNV data stratified by clone\n",
    "# One per sample\n",
    "for sample in group:\n",
    "    fig = sample.clone_vs_analyte('cnv')\n",
    "    plt.gcf().axes[1].texts[-1].set_text(\"\")\n",
    "#fig.savefig('genotype_cnv.png')"
   ]
  },
  {
   "cell_type": "code",
   "execution_count": null,
   "id": "f8e4a4ba",
   "metadata": {},
   "outputs": [],
   "source": [
    "# Visualize the protein data (violin plots) stratified by clone\n",
    "# One per sample\n",
    "for sample in group:\n",
    "    fig = sample.clone_vs_analyte('protein')\n",
    "    plt.gcf().axes[1].texts[-1].set_text(\"\")\n",
    "#fig.savefig('genotype_cnv.png')"
   ]
  },
  {
   "cell_type": "code",
   "execution_count": null,
   "id": "4288ab33",
   "metadata": {},
   "outputs": [],
   "source": [
    "# To review a subset of features, first subset the assay itself\n",
    "for sample in group:\n",
    "    subset = sample[:]\n",
    "    subset.protein = subset.protein[:, ['CD11b', 'CD19', 'CD38', 'CD90']]\n",
    "    fig = subset.clone_vs_analyte('protein')\n",
    "    plt.gcf().axes[1].texts[-1].set_text('')"
   ]
  },
  {
   "cell_type": "code",
   "execution_count": null,
   "id": "18710012",
   "metadata": {},
   "outputs": [],
   "source": [
    "# Plot the protein heatmap with the DNA clone labels\n",
    "for sample in group:\n",
    "    fig = sample.protein.heatmap(attribute='normalized_counts',splitby=sample.dna.row_attrs['label'])\n",
    "    fig.update_layout(title = sample.name)\n",
    "    go.Figure(fig).show()"
   ]
  },
  {
   "cell_type": "code",
   "execution_count": null,
   "id": "55cfe24c",
   "metadata": {},
   "outputs": [],
   "source": [
    "# Plot the AOC ridge plots split by DNA clone\n",
    "for sample in group:\n",
    "    fig = sample.protein.ridgeplot(attribute='normalized_counts',\n",
    "                         features=['CD11b', 'CD19', 'CD38', 'CD90'],\n",
    "                         splitby=sample.dna.row_attrs['label'])\n",
    "    fig.update_layout(title = sample.name)\n",
    "    go.Figure(fig).show()"
   ]
  },
  {
   "cell_type": "code",
   "execution_count": null,
   "id": "a6acd8c3",
   "metadata": {},
   "outputs": [],
   "source": [
    "# Plot the AOC ridge plots split by protein cluster\n",
    "for sample in group:\n",
    "    fig = sample.protein.ridgeplot(attribute='normalized_counts',\n",
    "                         features=['CD11b', 'CD19', 'CD38', 'CD90'],\n",
    "                         splitby=sample.protein.row_attrs['label'])\n",
    "    fig.update_layout(title = sample.name)\n",
    "    go.Figure(fig).show()"
   ]
  },
  {
   "cell_type": "code",
   "execution_count": null,
   "id": "5d183635",
   "metadata": {},
   "outputs": [],
   "source": [
    "# Plot the biaxial AOC plot split by DNA clone\n",
    "for sample in group:\n",
    "    fig = sample.protein.feature_scatter(layer='normalized_counts', ids=['CD19', 'CD34'], colorby = sample.dna.row_attrs['label'])\n",
    "    fig.update_layout(title = sample.name)\n",
    "    go.Figure(fig).show()"
   ]
  },
  {
   "cell_type": "code",
   "execution_count": null,
   "id": "4f5b5b26",
   "metadata": {},
   "outputs": [],
   "source": [
    "for sample in group:\n",
    "    print(sample.name, '\\n', sample.dna.ids(), '\\n')"
   ]
  },
  {
   "cell_type": "markdown",
   "id": "79576dbe",
   "metadata": {},
   "source": [
    "<b>Optionally: </b> Combine all samples present into one object and plot multi-omic visualizations of all samples as a whole. First merge the sample, and then plot on the merged object."
   ]
  },
  {
   "cell_type": "code",
   "execution_count": null,
   "id": "70e0d5a7",
   "metadata": {},
   "outputs": [],
   "source": [
    "# Merge the samples into one data set\n",
    "combined = group.merge()"
   ]
  },
  {
   "cell_type": "code",
   "execution_count": null,
   "id": "426b28c5",
   "metadata": {},
   "outputs": [],
   "source": [
    "# DNA + CNV heatmap\n",
    "# For all samples together\n",
    "fig = combined.heatmap(\n",
    "        clusterby=('dna', 'cnv'),  # The first assay is used for the labels\n",
    "        attributes=['AF', 'ploidy'],\n",
    "        features=[None, 'genes'],  # If None, then clustered_ids is used\n",
    "        bars_order=None,  # The order of the barcodes\n",
    "        widths=None,\n",
    "        order=('dna', 'cnv')  # The order in which the heatmaps should be drawn\n",
    "    )\n",
    "fig.show()"
   ]
  },
  {
   "cell_type": "code",
   "execution_count": null,
   "id": "4fc62d3f",
   "metadata": {},
   "outputs": [],
   "source": [
    "# DNA + CNV + Protein heatmap\n",
    "# For all samples together\n",
    "fig = combined.heatmap(\n",
    "        clusterby=('dna', 'cnv', 'protein'),  # The first assay is used for the labels\n",
    "        attributes=['AF', 'ploidy', 'normalized_counts'],\n",
    "        features=[None, 'genes', None],  # If None, then clustered_ids is used\n",
    "        bars_order=None,  # The order of the barcodes\n",
    "        widths=None,\n",
    "        order=('dna', 'cnv', 'protein')  # The order in which the heatmaps should be drawn\n",
    "    )\n",
    "fig.show()"
   ]
  },
  {
   "cell_type": "code",
   "execution_count": null,
   "id": "b09acb0d",
   "metadata": {},
   "outputs": [],
   "source": [
    "# Plot a combined signature heatmap, showing DNA and CNV signatures for all subclones\n",
    "# For all samples together\n",
    "fig = combined.signaturemap(\n",
    "        clusterby=('dna', 'cnv'),\n",
    "        attributes=('NGT', 'ploidy'),\n",
    "        features=[None, 'genes'],\n",
    "        signature_kind=['median', 'median'],\n",
    "        widths=None,\n",
    "        order=('dna', 'cnv')  # The order in which the heatmaps should be drawn\n",
    "    )\n",
    "fig.show()"
   ]
  },
  {
   "cell_type": "code",
   "execution_count": null,
   "id": "a5de3aa6",
   "metadata": {},
   "outputs": [],
   "source": [
    "# Plot a combined signature heatmap, showing DNA and Protein signatures for all subclones\n",
    "# For all samples together\n",
    "fig = combined.signaturemap(\n",
    "        clusterby=('dna', 'protein'),\n",
    "        attributes=('NGT', 'normalized_counts'),\n",
    "        features=[None, None],\n",
    "        signature_kind=['median', 'median'],\n",
    "        widths=None,\n",
    "        order=('dna', 'protein')  # The order in which the heatmaps should be drawn\n",
    "    )\n",
    "fig.show()"
   ]
  },
  {
   "cell_type": "code",
   "execution_count": null,
   "id": "85978928",
   "metadata": {},
   "outputs": [],
   "source": [
    "# Clone vs analyte\n",
    "# Visualize the CNV data stratified by clone\n",
    "# For all samples together\n",
    "fig = combined.clone_vs_analyte('cnv')\n",
    "plt.gcf().axes[1].texts[-1].set_text(\"\")"
   ]
  },
  {
   "cell_type": "code",
   "execution_count": null,
   "id": "82c778f9",
   "metadata": {},
   "outputs": [],
   "source": [
    "# Plot the protein UMAP and color with the DNA clone labels\n",
    "protein_umap = combined.protein.row_attrs[\"umap\"]\n",
    "fig = combined.dna.scatterplot(attribute=protein_umap, colorby=\"label\")\n",
    "go.Figure(fig)"
   ]
  },
  {
   "cell_type": "code",
   "execution_count": null,
   "id": "38d0e5fe",
   "metadata": {},
   "outputs": [],
   "source": [
    "# Plot the protein UMAP and color with variant layers (e.g., VAFs) for specific variants\n",
    "protein_umap = combined.protein.row_attrs[\"umap\"]\n",
    "feats = combined.dna.ids()[:3] # plot the first 3 variants\n",
    "combined.dna.scatterplot(attribute=protein_umap, colorby=\"AF\", features=feats)"
   ]
  },
  {
   "cell_type": "code",
   "execution_count": null,
   "id": "53417ef2-fd52-41ce-a83f-df13732f2dad",
   "metadata": {},
   "outputs": [],
   "source": [
    "gene_ploidy = combined.cnv.signature(\"ploidy\", splitby=None, features=\"gene_name\")\n",
    "tp53_ploidy = gene_ploidy[\"TP53\"].values\n",
    "combined.protein.scatterplot(\"umap\", colorby=tp53_ploidy)"
   ]
  },
  {
   "cell_type": "code",
   "execution_count": null,
   "id": "8c878f24",
   "metadata": {},
   "outputs": [],
   "source": [
    "# Plot the protein heatmap with the DNA clone labels, of all samples together\n",
    "fig = combined.protein.heatmap(attribute='normalized_counts',splitby=combined.dna.row_attrs['label'])\n",
    "go.Figure(fig)"
   ]
  },
  {
   "cell_type": "markdown",
   "id": "45090acf",
   "metadata": {},
   "source": [
    "### Quantify overlaps between DNA clones and protein clusters"
   ]
  },
  {
   "cell_type": "code",
   "execution_count": null,
   "id": "fc0085c6",
   "metadata": {},
   "outputs": [],
   "source": [
    "# Use crosstab to calculate the overlap between DNA subclones and Protein Clusters\n",
    "# This will generate the dataframe\n",
    "# What percentage of each Protein cluster is defined by each Subclone\n",
    "# Per sample\n",
    "for sample in group:\n",
    "    data = sample.dna.crosstab(sample.protein.get_labels(), normalize='columns')\n",
    "    print(sample.name, '\\n', data, '\\n')"
   ]
  },
  {
   "cell_type": "code",
   "execution_count": null,
   "id": "b7a8849c",
   "metadata": {},
   "outputs": [],
   "source": [
    "# This will generate the heatmap of the dataframe generated above\n",
    "# What percentage of each Protein cluster is defined by each Subclone\n",
    "# Per sample\n",
    "for sample in group:\n",
    "    fig = sample.dna.crosstabmap(sample.protein.get_labels(), normalize='columns')\n",
    "    fig.update_layout(title = sample.name)\n",
    "    fig.show()"
   ]
  },
  {
   "cell_type": "code",
   "execution_count": null,
   "id": "ebc612bf",
   "metadata": {},
   "outputs": [],
   "source": [
    "# Use crosstab to calculate the overlap between DNA subclones and Protein Clusters\n",
    "# This will generate the dataframe\n",
    "# What percentage of each Protein cluster is defined by each Subclone\n",
    "# On all samples \n",
    "combined.dna.crosstab(combined.protein.get_labels(), normalize='columns')"
   ]
  },
  {
   "cell_type": "code",
   "execution_count": null,
   "id": "269b357f",
   "metadata": {},
   "outputs": [],
   "source": [
    "# This will generate the heatmap of the dataframe generated above\n",
    "# What percentage of each Protein cluster is defined by each Subclone\n",
    "# On all samples\n",
    "combined.dna.crosstabmap(combined.protein.get_labels(), normalize='columns').show()"
   ]
  },
  {
   "cell_type": "markdown",
   "id": "98d6bc19",
   "metadata": {},
   "source": [
    "## Export and Save Data\n",
    "\n",
    "In this section the data can export a filtered .h5 file, which will contain all new labels/layers, and contain only the filtered barcodes/cells remaining. All data can be exported (row attributes, column attributes and layers) for every assay (DNA and CNV) into easily parsable .csv tables."
   ]
  },
  {
   "cell_type": "code",
   "execution_count": null,
   "id": "056fc4d5",
   "metadata": {},
   "outputs": [],
   "source": [
    "# Save new h5 file that includes only the final, cleaned dataset\n",
    "ms.save(combined, 'FilteredData.h5')"
   ]
  },
  {
   "cell_type": "code",
   "execution_count": null,
   "id": "f71ce464",
   "metadata": {},
   "outputs": [],
   "source": [
    "# Export data into csv formats\n",
    "ms.to_zip(combined, 'filename')"
   ]
  },
  {
   "cell_type": "markdown",
   "id": "9cd16bb8",
   "metadata": {},
   "source": [
    "## Appendix"
   ]
  },
  {
   "cell_type": "markdown",
   "id": "ce57d2fe",
   "metadata": {},
   "source": [
    "### Compass imputation\n",
    "\n",
    "<b> This section of the notebook is OPTIONAL<b>\n",
    "    \n",
    "Compass can be used to impute the genotypes of cells with some missing data. It can also be used to infer the phylogeny of all subclones present in the sample. If a cell cannot be unambiguously classified, Compass will label these cells as Mixed or Ambiguous.<b> Compass can take ~1-10 minutes to run depending on the size of the data.\n",
    "    \n",
    "The Compass publication can be found [here](https://www.nature.com/articles/s41467-023-40378-8)<br>\n",
    "    \n",
    "<b>Note:</b> Compass can give different subclone composition than the variant subclone workflow. "
   ]
  },
  {
   "cell_type": "code",
   "execution_count": null,
   "id": "d4170f94",
   "metadata": {},
   "outputs": [],
   "source": [
    "# Use compass to assume the subclone architecture and phylogeny\n",
    "# Depending on the size and complexity of the data, this step can take ~1-10 minutes\n",
    "# Use the full_combined object to utilize all cells and unannotated variants\n",
    "compass = COMPASS(full_combined, somatic_variants=variants)\n",
    "compass.run()"
   ]
  },
  {
   "cell_type": "code",
   "execution_count": null,
   "id": "7116c7df",
   "metadata": {},
   "outputs": [],
   "source": [
    "# The phylogentic tree prediction by COMPASS\n",
    "fig = compass.plot_tree()\n",
    "fig.show()"
   ]
  },
  {
   "cell_type": "code",
   "execution_count": null,
   "id": "3a3df96d",
   "metadata": {},
   "outputs": [],
   "source": [
    "# Make the compass_labels the node descriptions\n",
    "# These are the new subclone labels\n",
    "labs = compass.labels_  # Stores the labels\n",
    "desc = compass.node_descriptions()  # Stores the dict mapping the label to the description\n",
    "compass_labels = np.array([desc.get(lab, lab) for lab in labs])"
   ]
  },
  {
   "cell_type": "code",
   "execution_count": null,
   "id": "b3e3b9c0",
   "metadata": {},
   "outputs": [],
   "source": [
    "# Store the compass label as a row_attr\n",
    "full_combined.dna.add_row_attr('compass_labels', compass_labels)"
   ]
  },
  {
   "cell_type": "code",
   "execution_count": null,
   "id": "956d00df",
   "metadata": {},
   "outputs": [],
   "source": [
    "# Store the index positions of the COMPASS ids for the heatmap\n",
    "idx = np.isin(full_combined.dna.ids(), compass.somatic_variants)\n",
    "# Visualize the assignment using the variants passed to COMPASS\n",
    "fig = full_combined.dna.heatmap('NGT', features=full_combined.dna.ids()[idx], splitby='compass_labels')\n",
    "fig.show()"
   ]
  },
  {
   "cell_type": "code",
   "execution_count": null,
   "id": "ec7ed2ca-204a-49f0-9d08-2115905fcd15",
   "metadata": {},
   "outputs": [],
   "source": [
    "# Create a DNA heatmap to see both the variant workflow subclone labels and the compass assigned labels\n",
    "# Parameters\n",
    "attribute = 'NGT'\n",
    "assay = full_combined.dna\n",
    "lab_row1 = \"label\"\n",
    "lab_row2 = \"compass_labels\"\n",
    "lab2_title = \"Compass\"\n",
    "\n",
    "# Graphing\n",
    "data = assay.get_attribute(attribute, constraint=\"row+col\")\n",
    "ids = assay.clustered_ids(attribute)\n",
    "labels = pd.concat([assay.get_attribute(lab_row1), assay.get_attribute(lab_row2).rename(columns={\"1\": \"2\"})], axis=1)\n",
    "bars = assay.clustered_barcodes(attribute, splitby=labels)\n",
    "\n",
    "data = data.loc[bars, ids]\n",
    "labs1 = assay.get_attribute(lab_row1, constraint=\"row\").loc[bars, :].values.flatten()\n",
    "labs2 = assay.get_attribute(lab_row2, constraint=\"row\").loc[bars, :].values.flatten()\n",
    "\n",
    "fig = MultiMap([data], labs1, names=[attribute], extra_column_titles=[lab2_title], widths=[1 / 24, 1]).draw()\n",
    "fig.add_trace(Heatmap(data, labs2).label_trace(), row=1, col=2)\n",
    "fig.layout.xaxis2.tickvals = []\n",
    "\n",
    "fig"
   ]
  },
  {
   "cell_type": "code",
   "execution_count": null,
   "id": "d66adc3c",
   "metadata": {},
   "outputs": [],
   "source": [
    "# This will return a dataframe \n",
    "# Showing the overlap of variant workflow clones and compass identified clones\n",
    "full_combined.dna.crosstab(compass_labels, normalize='columns')"
   ]
  },
  {
   "cell_type": "code",
   "execution_count": null,
   "id": "3210c26a",
   "metadata": {},
   "outputs": [],
   "source": [
    "# This will plot a heatmap of the crosstab dataframe\n",
    "full_combined.dna.crosstabmap(compass_labels, normalize='columns').show()"
   ]
  },
  {
   "cell_type": "markdown",
   "id": "76f3b563-2c41-4f47-a6cb-f32f6738fa0e",
   "metadata": {},
   "source": [
    "<b> Export data to use in COMPASS </b>"
   ]
  },
  {
   "cell_type": "code",
   "execution_count": null,
   "id": "22bbfb18-3539-4272-85b8-e8c704161ddc",
   "metadata": {},
   "outputs": [],
   "source": [
    "# Export compass data into 2 output files\n",
    "# compass_input_regions.csv and compass_input_variants.csv\n",
    "# These can be used with COMPASS outside of Mosaic\n",
    "\n",
    "compass.prepare_input(prefix=\"./compass_input\")"
   ]
  },
  {
   "cell_type": "markdown",
   "id": "a0e190b3-c5f8-4850-9a42-4ec9c283d887",
   "metadata": {},
   "source": [
    "### Protein assignment\n",
    "\n",
    "<b> This section of the notebook is OPTIONAL<b>\n",
    "\n",
    "This portion of the notebook utilizes known truth about different cell types based on protein expression, to cluster cells into the defined cell types. The known truth built into the tool is based on our catalog Total Seq-D Heme protein panel, which contains 45 AOCs. The truth was defined from data on the [cell ontology](https://github.com/obophenotype/cell-ontology) database and the [European Bioinformatics Institute Website](https://www.ebi.ac.uk/ols4) and works best for PBMCs. Other cell-types may benefit from custom truths.\n",
    "\n",
    "More information about the algorithm can be found [here](https://missionbio.github.io/mosaic/pages/methods/missionbio.mosaic.protein.Protein.assign_from_truth.html#missionbio.mosaic.protein.Protein.assign_from_truth).\n",
    "\n",
    "<b> Note:</b> For protein normalization above, either NSP or ANSP need to be used. CLR or asinh are not supported.\n",
    "\n",
    "The cluster label can be one of the following:\n",
    "\n",
    "1. Sticky - these are positive for any of the IgG markers (defined using the `sticky_antibodies` parameter).\n",
    "2. Mixed - these are cells which have a profile of 2 clusters (see the `doublet_distance` parameter)\n",
    "3. Mixed like - these cells have the profile which satisfies the `Mixed` criteria, but their proportions are too large\n",
    "    compared to their singlet proportions. (see `max_adjusted_mixing`)\n",
    "4. Labeled - Clusters that match the given truth with sufficient probability (see `min_prob_diff`)\n",
    "5. Unassiged-{n} - A cluster that couldn't be assigned to any of the above types\n"
   ]
  },
  {
   "cell_type": "code",
   "execution_count": null,
   "id": "0c0f0554-d2b3-473f-82bd-a7cb060996a4",
   "metadata": {},
   "outputs": [],
   "source": [
    "# Visualize the structure of the built-in truth\n",
    "# The names that are underlines are links to the source of truth\n",
    "\n",
    "from missionbio.demultiplex.protein.truth import Truth\n",
    "\n",
    "truth = Truth.builtin()\n",
    "truth.plot()"
   ]
  },
  {
   "cell_type": "code",
   "execution_count": null,
   "id": "881d45e2-5368-4b17-a9de-b20967a98db4",
   "metadata": {},
   "outputs": [],
   "source": [
    "# Cluster the cells based on protein data and label them\n",
    "pace = combined.protein.cluster_and_label(\n",
    "    max_adjusted_mixing=0.3,  # This parameter controls which mixed clusters would be labelled \"Mixed Like\"\n",
    "    min_distance_for_doublet=5,  # Increase this if too many mixed cells are observed.\n",
    "    cluster=True,  # If True, graph-community clustering is run, otherwise the existing cluster labels are used\n",
    ")"
   ]
  },
  {
   "cell_type": "code",
   "execution_count": null,
   "id": "e71721f0-8050-4432-8b67-6cdff7c20ae4",
   "metadata": {},
   "outputs": [],
   "source": [
    "# Visualize the clustering\n",
    "bars = combined.protein.clustered_barcodes(\"normalized_counts\", subcluster=False)\n",
    "fig = combined.protein.heatmap(\"normalized_counts\", bars_order=bars)\n",
    "fig.layout.width = 1000\n",
    "fig"
   ]
  },
  {
   "cell_type": "code",
   "execution_count": null,
   "id": "096bfd6f-9d9d-4952-b82d-addb589e1e5a",
   "metadata": {},
   "outputs": [],
   "source": [
    "# Visualize the complete truth that was used in cluster_and_label\n",
    "specific_truth = pace.cluster_truth()\n",
    "specific_truth.plot()"
   ]
  },
  {
   "cell_type": "code",
   "execution_count": null,
   "id": "febebd48-eb3f-4da7-af07-1e8694ef06b3",
   "metadata": {},
   "outputs": [],
   "source": [
    "# Recluster the data using the complete truth\n",
    "# It will not find new clusters, but it will categorize the cells into the known cell types\n",
    "combined.protein.assign_from_truth(specific_truth)"
   ]
  },
  {
   "cell_type": "code",
   "execution_count": null,
   "id": "2fb59678-1c91-43e9-a5f5-1fc5b4bb4607",
   "metadata": {},
   "outputs": [],
   "source": [
    "# Plot the protein clusters with the complete truth\n",
    "bars = combined.protein.clustered_barcodes(\"normalized_counts\", subcluster=False)\n",
    "fig = combined.protein.heatmap(\"normalized_counts\", bars_order=bars)\n",
    "fig.layout.width = 1000\n",
    "fig.show(\"jpg\")"
   ]
  },
  {
   "cell_type": "markdown",
   "id": "7f3ad37e-f4b2-45a8-aa24-90b8f20b5a8c",
   "metadata": {},
   "source": [
    "<b> Using predefined clusters or custom clustering </b> \n",
    "\n",
    "Clustering performed above in the notebook can be feed into protein assignment for the clusters to be labeled. Simply skip the previous cluster_and_label method and run the below code."
   ]
  },
  {
   "cell_type": "code",
   "execution_count": null,
   "id": "c9648ee6-0007-45c3-973c-5f78f3a768f7",
   "metadata": {},
   "outputs": [],
   "source": [
    "# To use clustering performed earler on\n",
    "# Get the truth from an older sample using `protein.truth` and then use it on this sample\n",
    "sample_truth = combined.protein.truth()\n",
    "\n",
    "combined.protein.assign_from_truth(sample_truth)\n",
    "combined.protein.heatmap(\"normalized_counts\")"
   ]
  },
  {
   "cell_type": "markdown",
   "id": "2b0df3e3-7f56-4a10-8a7d-31ae886d6d92",
   "metadata": {},
   "source": [
    "<b> Modifying the truth </b> \n",
    "\n",
    "The truth can be modified in many ways. The following blocks of code show examples on how to modify the truth."
   ]
  },
  {
   "cell_type": "code",
   "execution_count": null,
   "id": "c3d76ce2-fe57-48c0-bcb0-f81c17cbe470",
   "metadata": {},
   "outputs": [],
   "source": [
    "# Subset the truth to a few cell types\n",
    "subset_truth = truth[[\"T cell\", \"B cell\", \"NK cell\", \"Monocyte\"]]\n",
    "subset_truth.plot()"
   ]
  },
  {
   "cell_type": "code",
   "execution_count": null,
   "id": "5500f149-153f-4919-a0aa-fa2d86ce10e6",
   "metadata": {},
   "outputs": [],
   "source": [
    "# Remove cell types from the truth\n",
    "trimmed_truth = truth.trim(\"T cell\", include=False)\n",
    "trimmed_truth.plot()"
   ]
  },
  {
   "cell_type": "code",
   "execution_count": null,
   "id": "58d6a25a-1a9a-4d2a-8d4d-9e6806115376",
   "metadata": {},
   "outputs": [],
   "source": [
    "# Remove AOCs from the truth\n",
    "trimmed_truth = truth.del_ab(\"CD3\")\n",
    "trimmed_truth.plot()"
   ]
  },
  {
   "cell_type": "code",
   "execution_count": null,
   "id": "b69199c6-e0c8-4ad2-81b5-2327a2ccc18a",
   "metadata": {},
   "outputs": [],
   "source": [
    "# Add a new cell type to the truth\n",
    "source_link = \"https://jdc.jefferson.edu/cgi/viewcontent.cgi?article=1083&context=pacbfp#:~:text=CD56%20is%20an%20adhesion%20molecule,tissue%20and%20in%20granular%20lmphocytes.&text=Aberrant%20expression%20of%20CD56%20has,leukemia%20and%20plasma%20cell%20myeloma.\"\n",
    "updated_truth = truth.add_cell(\"CD56+ Monocyte\", [\"CD56+\"], parent=\"Monocyte\", source=source_link)\n",
    "updated_truth.plot()"
   ]
  },
  {
   "cell_type": "markdown",
   "id": "47ca3d94-d02e-4533-881d-b72f5da40b3e",
   "metadata": {},
   "source": [
    "<b> Exporting the truth </b>\n",
    "\n",
    "The defined truth can be exported and shared."
   ]
  },
  {
   "cell_type": "code",
   "execution_count": null,
   "id": "e0cd7db7-2675-4557-80c3-ab05eb599b37",
   "metadata": {},
   "outputs": [],
   "source": [
    "# Save the truth using the `to_yaml` function\n",
    "updated_truth.to_yaml(\"./my-truth-file.yaml\", version=\"My version\")"
   ]
  },
  {
   "cell_type": "code",
   "execution_count": null,
   "id": "981670be-cf85-4357-ada8-7004fe51f483",
   "metadata": {},
   "outputs": [],
   "source": [
    "# The yaml file can be read using the read_yaml function\n",
    "Truth.read_yaml(\"./my-truth-file.yaml\").plot()"
   ]
  },
  {
   "cell_type": "code",
   "execution_count": null,
   "id": "2149b35d-4d8c-43dd-8c15-83292577f838",
   "metadata": {},
   "outputs": [],
   "source": [
    "# Set a yaml as the truth to be used in clustering\n",
    "new_truth = Truth.read_yaml(\"./my-truth-file.yaml\")\n",
    "\n",
    "# Run the cluster_and_label with the truth argument pointing to the yaml truth\n",
    "pace = combined.protein.cluster_and_label(\n",
    "    truth=new_truth,\n",
    "    max_adjusted_mixing=0.3,  # This parameter controls which mixed clusters would be labelled \"Mixed Like\"\n",
    "    min_distance_for_doublet=5,  # Increase this if too many mixed cells are observed.\n",
    "    cluster=True,  # If True, graph-community clustering is run, otherwise the existing cluster labels are used\n",
    ")"
   ]
  }
 ],
 "metadata": {
  "kernelspec": {
   "display_name": "Python 3 (ipykernel)",
   "language": "python",
   "name": "python3"
  },
  "language_info": {
   "codemirror_mode": {
    "name": "ipython",
    "version": 3
   },
   "file_extension": ".py",
   "mimetype": "text/x-python",
   "name": "python",
   "nbconvert_exporter": "python",
   "pygments_lexer": "ipython3",
   "version": "3.10.17"
  }
 },
 "nbformat": 4,
 "nbformat_minor": 5
}

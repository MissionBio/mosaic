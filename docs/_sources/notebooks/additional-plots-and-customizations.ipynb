{
 "cells": [
  {
   "cell_type": "markdown",
   "id": "3e17597d",
   "metadata": {},
   "source": [
    "## Additional plots and customizations"
   ]
  },
  {
   "cell_type": "markdown",
   "id": "e6c13eaf",
   "metadata": {},
   "source": [
    "<b>Objective</b>\n",
    "\n",
    "This vignette contains a wide variety of code snippets for additional plots and plot customizations that are not currently included in our latest version of the jupyter notebook. "
   ]
  },
  {
   "cell_type": "markdown",
   "id": "fbdbdc38",
   "metadata": {
    "heading_collapsed": true
   },
   "source": [
    "### Load in dependencies "
   ]
  },
  {
   "cell_type": "code",
   "execution_count": null,
   "id": "cd406321",
   "metadata": {
    "ExecuteTime": {
     "end_time": "2023-06-13T13:07:37.857901Z",
     "start_time": "2023-06-13T13:07:37.816282Z"
    },
    "hidden": true,
    "is_executing": true
   },
   "outputs": [],
   "source": [
    "# Import mosaic libraries\n",
    "import missionbio.mosaic as ms\n",
    "\n",
    "# Import these to display entire dataframes\n",
    "from IPython.display import display, HTML\n",
    "\n",
    "# Import numpy for statistics\n",
    "import numpy as np\n",
    "\n",
    "# Import additional packages for specific visuals\n",
    "import matplotlib.pyplot as plt\n",
    "\n",
    "# Import the colors\n",
    "import seaborn as sns\n",
    "\n",
    "# Import the Heatmap class to create heatmaps of custom data\n",
    "from missionbio.mosaic.plots.heatmap import Heatmap"
   ]
  },
  {
   "cell_type": "markdown",
   "id": "c9ba00fe",
   "metadata": {},
   "source": [
    "### Load in data"
   ]
  },
  {
   "cell_type": "code",
   "execution_count": null,
   "id": "d2dc8b8b",
   "metadata": {
    "ExecuteTime": {
     "end_time": "2023-06-13T13:07:43.325897Z",
     "start_time": "2023-06-13T13:07:37.859666Z"
    }
   },
   "outputs": [],
   "source": [
    "sample = ms.load_example_dataset(\"Multisample PBMC\", single=True)"
   ]
  },
  {
   "cell_type": "markdown",
   "id": "f42f8eee",
   "metadata": {},
   "source": [
    "Subset the DNA data to look for high quality variants of interest."
   ]
  },
  {
   "cell_type": "code",
   "execution_count": null,
   "id": "d59b1ba5",
   "metadata": {
    "ExecuteTime": {
     "end_time": "2023-06-13T13:07:43.372342Z",
     "start_time": "2023-06-13T13:07:43.327080Z"
    }
   },
   "outputs": [],
   "source": [
    "# Adjust filters if needed by overwriting dna_vars\n",
    "dna_vars = sample.dna.filter_variants(\n",
    "    min_dp=10,\n",
    "    min_gq=50,\n",
    "    vaf_ref=5,\n",
    "    vaf_hom=95,\n",
    "    vaf_het=40,\n",
    "    min_prct_cells=80,\n",
    "    min_mut_prct_cells=1,\n",
    ")\n",
    "\n",
    "sample.dna = sample.dna[:, dna_vars]"
   ]
  },
  {
   "cell_type": "markdown",
   "id": "d3616ca3",
   "metadata": {},
   "source": [
    "### GQ violin plots"
   ]
  },
  {
   "cell_type": "markdown",
   "id": "94faf366",
   "metadata": {},
   "source": [
    "Plot GQ violin plots for all variants of interest to assess genotype quality. It is recommended that this is added before the GQ heatmap, so poor quality variants seen in the violin plots can be subsequently de-selected in the heatmap."
   ]
  },
  {
   "cell_type": "code",
   "execution_count": null,
   "id": "545aa7f0",
   "metadata": {
    "ExecuteTime": {
     "end_time": "2023-06-13T13:07:43.844488Z",
     "start_time": "2023-06-13T13:07:43.373727Z"
    }
   },
   "outputs": [],
   "source": [
    "fig = sample.dna.violinplot(\"GQ\")\n",
    "fig.layout.width = 900\n",
    "fig.show(\"jpg\")"
   ]
  },
  {
   "cell_type": "markdown",
   "id": "e75394d9",
   "metadata": {},
   "source": [
    "Identify the subclones present in your sample."
   ]
  },
  {
   "cell_type": "code",
   "execution_count": null,
   "id": "a7ecd92b",
   "metadata": {
    "ExecuteTime": {
     "end_time": "2023-06-13T13:07:44.271720Z",
     "start_time": "2023-06-13T13:07:43.847477Z"
    }
   },
   "outputs": [],
   "source": [
    "# Plot a heatmap of the variant allele frequenices being called across your variants of interest\n",
    "fig = sample.dna.heatmap(attribute='AF_MISSING')\n",
    "fig.show(\"jpg\")"
   ]
  },
  {
   "cell_type": "code",
   "execution_count": null,
   "id": "3f33607a",
   "metadata": {
    "ExecuteTime": {
     "end_time": "2023-06-13T13:07:48.097320Z",
     "start_time": "2023-06-13T13:07:44.276673Z"
    }
   },
   "outputs": [],
   "source": [
    "# Annotate the DNA variants\n",
    "sample.dna.get_annotations()  \n",
    "    \n",
    "# Add annotation to the id names\n",
    "sample.dna.set_ids_from_cols([\"annotated Gene\", \"CHROM\", \"POS\", \"REF\", \"ALT\"])\n",
    "\n",
    "# Annotations are now added to the variants\n",
    "sample.dna.ids()"
   ]
  },
  {
   "cell_type": "code",
   "execution_count": null,
   "id": "36cb504e",
   "metadata": {
    "ExecuteTime": {
     "end_time": "2023-06-13T13:07:48.341066Z",
     "start_time": "2023-06-13T13:07:48.104881Z"
    },
    "scrolled": true
   },
   "outputs": [],
   "source": [
    "# Cluster the data to identify the subclones present\n",
    "\n",
    "clone_data, fig = sample.dna.group_by_genotype(\n",
    "    features=sample.dna.ids(),\n",
    "    layer=\"NGT_FILTERED\",\n",
    "    group_missing=True,\n",
    "    min_clone_size=1,\n",
    "    return_plot=True\n",
    ")\n",
    "\n",
    "display(HTML(clone_data.to_html()))\n",
    "fig.show(\"jpg\")"
   ]
  },
  {
   "cell_type": "code",
   "execution_count": null,
   "id": "2f37f92e",
   "metadata": {
    "ExecuteTime": {
     "end_time": "2023-06-13T13:07:48.375263Z",
     "start_time": "2023-06-13T13:07:48.342621Z"
    }
   },
   "outputs": [],
   "source": [
    "# Rename the subclones and drop the clones that are not of interest by labelling them 'FP'\n",
    "\n",
    "sample.dna.rename_labels(\n",
    "  {\n",
    "    '1': 'Clone 1', \n",
    "    '2': 'Clone 2',    \n",
    "    'missing': 'FP', \n",
    "    'small': 'FP'\n",
    "  }\n",
    ")"
   ]
  },
  {
   "cell_type": "code",
   "execution_count": null,
   "id": "842c32e7",
   "metadata": {
    "ExecuteTime": {
     "end_time": "2023-06-13T13:07:48.866199Z",
     "start_time": "2023-06-13T13:07:48.376563Z"
    }
   },
   "outputs": [],
   "source": [
    "# Remove barcodes (clones) from data based on renamed labels\n",
    "# The reduced data set will now be called 'sample.dna'\n",
    "\n",
    "fp_barcodes = sample.dna.barcodes({\"FP\"})\n",
    "sample.dna = sample.dna.drop(fp_barcodes)\n",
    "\n",
    "set(sample.dna.get_labels()) "
   ]
  },
  {
   "cell_type": "markdown",
   "id": "da7f97db",
   "metadata": {},
   "source": [
    "### Stacked bar graph for multi-sample analysis"
   ]
  },
  {
   "cell_type": "markdown",
   "id": "c7fdf829",
   "metadata": {},
   "source": [
    "Plot a stacked bar graph for clone frequency within each sample, where each sample is an individual bar. Note colors can be changed, as can labels. Graph is highly customizable, but large amounts of code may deter users."
   ]
  },
  {
   "cell_type": "code",
   "execution_count": null,
   "id": "3d5cdfa5",
   "metadata": {
    "ExecuteTime": {
     "end_time": "2023-06-13T13:07:48.982723Z",
     "start_time": "2023-06-13T13:07:48.867864Z"
    }
   },
   "outputs": [],
   "source": [
    "# Create a subset of the sample by filtering the Cnv, and Protein assays with the common barcodes.\n",
    "# This will raise a \"ChangeApplieWarning\" warning if all the assays don't have the same barcodes\n",
    "sub_sample = sample[sample.common_barcodes()]\n",
    "\n",
    "fig = ms.SampleGroup(sub_sample.split()).barplot(\n",
    "    assay=\"dna\",\n",
    "    sample_order=[\"Sample 1\", \"Sample 2\"],\n",
    "    label_order=[\"Clone 1\", \"Clone 2\"],\n",
    "    percentage=True,\n",
    ")\n",
    "fig.show(\"jpg\")"
   ]
  },
  {
   "cell_type": "markdown",
   "id": "e18ae2b9",
   "metadata": {},
   "source": [
    "### Reads per amplicon"
   ]
  },
  {
   "cell_type": "markdown",
   "id": "6ebff93e",
   "metadata": {},
   "source": [
    "Plot a histogram of the reads per cell across any given amplicon, and print out the mean reads per cell of that amplicon."
   ]
  },
  {
   "cell_type": "code",
   "execution_count": null,
   "id": "07b13e2c",
   "metadata": {
    "ExecuteTime": {
     "end_time": "2023-06-13T13:07:49.090059Z",
     "start_time": "2023-06-13T13:07:48.984186Z"
    }
   },
   "outputs": [],
   "source": [
    "reads = sample.dna.get_attribute('DP', constraint='row+col')\n",
    "amplicons = sample.dna.col_attrs['amplicon']\n",
    "amp_average = reads.groupby(amplicons, axis=1).mean()\n",
    "#Insert your amplicon of interest below\n",
    "DP = amp_average['MYE_SF3B1_198266730'] \n",
    "#Print the mean\n",
    "print(np.mean(DP))\n",
    "#Plot histogram\n",
    "plt.hist(DP)"
   ]
  },
  {
   "cell_type": "markdown",
   "id": "d10b2be9",
   "metadata": {},
   "source": [
    "### Count barcodes with at least one mutation"
   ]
  },
  {
   "cell_type": "markdown",
   "id": "dc39850c",
   "metadata": {},
   "source": [
    "Define a region of interest, and then call cell-barcodes that have a least one mutation in that region of interest. This code may be useful for gene-editing experiments where you are expecting mutations on a particular amplicon, or within a small region of the amplicon surrounding a cut-site."
   ]
  },
  {
   "cell_type": "code",
   "execution_count": null,
   "id": "415ed213",
   "metadata": {
    "ExecuteTime": {
     "end_time": "2023-06-13T13:07:49.127541Z",
     "start_time": "2023-06-13T13:07:49.091581Z"
    }
   },
   "outputs": [],
   "source": [
    "# Define an amplicon of interest\n",
    "amp = 'MYE_SF3B1_198266730'\n",
    "print(\"Variants from amplicon present in dna?: \", amp in set(sample.dna.col_attrs['amplicon'])) # sanity check\n",
    "\n",
    "# Filter the data to only look at variants called from this amplicon\n",
    "amplicon_filter = sample.dna.col_attrs[\"amplicon\"] == amp \n",
    "\n",
    "# THE FOLLOWING SECTION IS OPTIONAL\n",
    "# # filtering variants by cut site\n",
    "# # e.g. cut site at chr2:60722401, range 60722481 - 60722421\n",
    "# cut_filter = (sample.dna.col_attrs[\"POS\"] > 60722381) & (sample.dna.col_attrs[\"POS\"] < 60722421)\n",
    "# amplicon_filter = amplicon_filter & cut_filter\n",
    "\n",
    "# counting barcodes with at least one mutation in region of interest(Het or Hom call)\n",
    "# creating a dataframe with numeric genotypes\n",
    "genotypes = sample.dna.get_attribute('NGT_FILTERED', constraint='row+col')\n",
    "\n",
    "# Get the number of barcodes with at least one variant that is HET (1) or HOM (2)\n",
    "num_mutated = genotypes.isin([1, 2]).any(axis=1).sum()\n",
    "\n",
    "print(num_mutated)"
   ]
  },
  {
   "cell_type": "markdown",
   "id": "1581efab",
   "metadata": {},
   "source": [
    "### Custom cluster order"
   ]
  },
  {
   "cell_type": "markdown",
   "id": "80670c24",
   "metadata": {},
   "source": [
    "For sample.dna or sample.cnv grouped heatmaps in Mosaic notebook, this code will help you order the clones along the Y-axis in whatever order you prefer."
   ]
  },
  {
   "cell_type": "code",
   "execution_count": null,
   "id": "ad04f4ce",
   "metadata": {
    "ExecuteTime": {
     "end_time": "2023-06-13T13:07:49.247463Z",
     "start_time": "2023-06-13T13:07:49.129107Z"
    }
   },
   "outputs": [],
   "source": [
    "# create a list 'cell_clusters' with the desired order of the clusters\n",
    "# In this example, clusters are labeled numerically, i.e. 1, 2, 3,...\n",
    "# Use the labels you have previously created for the clones\n",
    "\n",
    "cell_clusters = ['Clone 1', 'Clone 2']\n",
    "ordered_cells = sample.dna.barcodes(label=['Clone 1', 'Clone 2'])[::-1]\n",
    "\n",
    "fig = sample.dna.heatmap(attribute='AF_MISSING', bars_order=ordered_cells)\n",
    "fig.show(\"jpg\")"
   ]
  },
  {
   "cell_type": "markdown",
   "id": "d7bb625b",
   "metadata": {},
   "source": [
    "### Custom heatmap legend "
   ]
  },
  {
   "cell_type": "markdown",
   "id": "a83d11b9",
   "metadata": {},
   "source": [
    "For grouped sample.dna heatmaps, after clones are identified and labeled, this helps to remove unnecessary categories from the legend, for example the ‘Missing’ category. "
   ]
  },
  {
   "cell_type": "code",
   "execution_count": null,
   "id": "cfabf4da",
   "metadata": {
    "ExecuteTime": {
     "end_time": "2023-06-13T13:07:49.405339Z",
     "start_time": "2023-06-13T13:07:49.251205Z"
    }
   },
   "outputs": [],
   "source": [
    "# Customize legend to show only three categories e.g. WT, HET, HOM\n",
    "# NOTE: Only use this when there are no cells with NGT=3 (\"Missing\"), otherwise those will be colored as HOM\n",
    "\n",
    "fig = sample.dna.heatmap(attribute = 'NGT_FILTERED')\n",
    "\n",
    "# Define the categories you want to appear\n",
    "fig.layout.coloraxis.colorbar.ticktext = ('WT', 'HET', 'HOM', \"\")\n",
    "fig.layout.coloraxis.colorbar.tickvals = (0.375, 1.025, 1.675)\n",
    "fig.layout.coloraxis.cmax = 2\n",
    "fig.layout.coloraxis.colorscale = [[0.0, '#3b4d73'], [0.33, '#3b4d73'], [0.33, '#78a3bc'], [0.66, '#78a3bc'], [0.66, '#d7ecee'], [1.0, '#d7ecee']]\n",
    "fig.show(\"jpg\")"
   ]
  },
  {
   "cell_type": "markdown",
   "id": "ef044097",
   "metadata": {},
   "source": [
    "### Perform CNV analysis on your data"
   ]
  },
  {
   "cell_type": "code",
   "execution_count": null,
   "id": "28aabf8d",
   "metadata": {
    "ExecuteTime": {
     "end_time": "2023-06-13T13:07:49.521821Z",
     "start_time": "2023-06-13T13:07:49.406957Z"
    }
   },
   "outputs": [],
   "source": [
    "# Copy the labels and palette from DNA\n",
    "# Cells that were filtered in Dna but present in Cnv will be labeld `Unlabeled`\n",
    "\n",
    "sample.cnv.set_labels(sample.dna, default_label='Unlabeled')"
   ]
  },
  {
   "cell_type": "code",
   "execution_count": null,
   "id": "18b1afd6",
   "metadata": {
    "ExecuteTime": {
     "end_time": "2023-06-13T13:07:49.584731Z",
     "start_time": "2023-06-13T13:07:49.522928Z"
    },
    "scrolled": true
   },
   "outputs": [],
   "source": [
    "# Remove amplicons with missing information.\n",
    "\n",
    "# completeness : float [0, 100]\n",
    "#    The minimum percentage of barcodes for an amplicon that must have\n",
    "#    reads greater than or equal to `read_depth` to keep that amplicon.\n",
    "# read_depth : int\n",
    "#   The minimum required depth for each amplicon-barcode to not be\n",
    "#    considered as missing during the completness calculation.\n",
    "\n",
    "sample.cnv = sample.cnv[:, sample.cnv.filter_amplicons(completeness=50, read_depth=0)]\n",
    "sample.cnv.normalize_reads()"
   ]
  },
  {
   "cell_type": "code",
   "execution_count": null,
   "id": "cf26ffd8",
   "metadata": {
    "ExecuteTime": {
     "end_time": "2023-06-13T13:07:49.638998Z",
     "start_time": "2023-06-13T13:07:49.585930Z"
    }
   },
   "outputs": [],
   "source": [
    "# Normalize your amplicons to a WT/known diploid population\n",
    "sample.cnv.compute_ploidy(diploid_cells=sample.dna.barcodes('Clone 1'))"
   ]
  },
  {
   "cell_type": "markdown",
   "id": "01825116",
   "metadata": {},
   "source": [
    "### P-value chart per gene"
   ]
  },
  {
   "cell_type": "markdown",
   "id": "f2ac1693",
   "metadata": {},
   "source": [
    "For CNV statistics, this code will allow you to show the pval_cnv chart with gene name labels, instead of amplicon names. Note: if there are multiple amplicons per gene, the gene name will appear for each amplicon, and this is not an aggregate p-val across the entire gene."
   ]
  },
  {
   "cell_type": "code",
   "execution_count": null,
   "id": "8a491657",
   "metadata": {
    "ExecuteTime": {
     "end_time": "2023-06-13T13:07:59.283581Z",
     "start_time": "2023-06-13T13:07:49.640169Z"
    }
   },
   "outputs": [],
   "source": [
    "# Fetch the gene names for the amplicons\n",
    "sample.cnv.get_gene_names()"
   ]
  },
  {
   "cell_type": "code",
   "execution_count": null,
   "id": "247e879c",
   "metadata": {
    "ExecuteTime": {
     "end_time": "2023-06-13T13:07:59.831604Z",
     "start_time": "2023-06-13T13:07:59.284778Z"
    }
   },
   "outputs": [],
   "source": [
    "pval_cnv, tstat_cnv = sample.cnv.test_signature(\"normalized_counts\")\n",
    "pval_cnv = pval_cnv + 10 ** -50 + pval_cnv\n",
    "pval_cnv = -np.log10(pval_cnv) * (tstat_cnv > 0)\n",
    "\n",
    "ids, genes = sample.cnv._get_ids_from_features(\"genes\")\n",
    "pval_cnv = pval_cnv.loc[:, ids]\n",
    "\n",
    "hm = Heatmap(pval_cnv, y_groups=pval_cnv.index.values, x_groups=genes)\n",
    "fig = hm.draw()\n",
    "fig.show(\"jpg\")"
   ]
  },
  {
   "cell_type": "markdown",
   "id": "c1724429",
   "metadata": {},
   "source": [
    "### Calculate an average P-value per gene"
   ]
  },
  {
   "cell_type": "markdown",
   "id": "3bef93cc",
   "metadata": {},
   "source": [
    "For CNV statistics, this code will allow you to show the average p-value per gene in a heatmap format, instead of at an amplicon level. "
   ]
  },
  {
   "cell_type": "code",
   "execution_count": null,
   "id": "aaab2483",
   "metadata": {
    "ExecuteTime": {
     "end_time": "2023-06-13T13:08:00.309606Z",
     "start_time": "2023-06-13T13:07:59.833390Z"
    }
   },
   "outputs": [],
   "source": [
    "# statistics\n",
    "pval_cnv, tstat_cnv = sample.cnv.test_signature(\"normalized_counts\")\n",
    "\n",
    "# average the p-values by gene_id and transpose\n",
    "pval_cnv = pval_cnv.groupby(sample.cnv.col_attrs['gene_name'], axis=1).mean()\n",
    "pval_cnv = pval_cnv + 10 ** -50\n",
    "\n",
    "# plot it\n",
    "pval_cnv = -np.log10(pval_cnv)\n",
    "hm = Heatmap(pval_cnv, y_groups=pval_cnv.index.values)\n",
    "fig = hm.draw()\n",
    "fig.show(\"jpg\")"
   ]
  },
  {
   "cell_type": "markdown",
   "id": "16a6667d",
   "metadata": {},
   "source": [
    "### Protein read distribution tool"
   ]
  },
  {
   "cell_type": "markdown",
   "id": "96a19519",
   "metadata": {},
   "source": [
    "This code will read in your h5 file, and spit out a table of your antibodies, the raw read counts and what percentage of total counts the antibody accounts for, as well as a bar chart of antibody percentages."
   ]
  },
  {
   "cell_type": "code",
   "execution_count": null,
   "id": "f42ecc68",
   "metadata": {
    "ExecuteTime": {
     "end_time": "2023-06-13T13:08:00.361475Z",
     "start_time": "2023-06-13T13:08:00.310751Z"
    }
   },
   "outputs": [],
   "source": [
    "import pandas as pd\n",
    "import plotly.express as px\n",
    "\n",
    "read_counts= sample.protein.layers[\"read_counts\"]\n",
    "ids = sample.protein.col_attrs[\"id\"].copy()\n",
    "raw = pd.DataFrame(read_counts, columns=ids)\n",
    "\n",
    "total_ab = pd.DataFrame(raw.sum(axis = 0, skipna = True))\n",
    "total_ab.columns =['Raw Count']\n",
    "total_ab.index.name = 'Antibody'\n",
    "total_ab.reset_index(inplace=True)\n",
    "total_ab['Percentage'] = (total_ab['Raw Count'] / total_ab['Raw Count'].sum())\n",
    "\n",
    "# Bar chart\n",
    "fig = px.bar(total_ab, x='Antibody', y='Percentage')\n",
    "fig.update_layout(yaxis_tickformat=\"0.0%\", template=\"gridon\")\n",
    "fig.show(\"jpg\")\n",
    "\n",
    "display(total_ab)"
   ]
  },
  {
   "cell_type": "code",
   "execution_count": null,
   "id": "250ff763",
   "metadata": {
    "ExecuteTime": {
     "end_time": "2023-06-13T13:08:24.197942Z",
     "start_time": "2023-06-13T13:08:00.362922Z"
    }
   },
   "outputs": [],
   "source": [
    "# Normalize protein counts\n",
    "sample.protein.normalize_reads('NSP')"
   ]
  },
  {
   "cell_type": "markdown",
   "id": "c03df101",
   "metadata": {
    "heading_collapsed": true
   },
   "source": [
    "### Plot a joint scatterplot and histogram"
   ]
  },
  {
   "cell_type": "markdown",
   "id": "d7b8170f",
   "metadata": {
    "hidden": true
   },
   "source": [
    "This will create a scatterplot of any two proteins, where additional histograms of the protein expression profile will be shown on the sides of the scatterplots."
   ]
  },
  {
   "cell_type": "code",
   "execution_count": null,
   "id": "3f2674db",
   "metadata": {
    "ExecuteTime": {
     "end_time": "2023-06-13T13:08:24.576070Z",
     "start_time": "2023-06-13T13:08:24.199738Z"
    },
    "hidden": true
   },
   "outputs": [],
   "source": [
    "# Plot a joint scatterplot with histograms of two proteins of interest\n",
    "# for more: https://seaborn.pydata.org/generated/seaborn.jointplot.html\n",
    "\n",
    "# create data frame with normalised protein counts (\"protein_df\")\n",
    "protein_df = sample.protein.get_attribute('normalized_counts', constraint='row+col')\n",
    "\n",
    "# specify the proteins of choice using the \"x\" and \"y\" arguments\n",
    "sns.jointplot(x=\"CD3\", y=\"CD19\", data=protein_df)"
   ]
  },
  {
   "cell_type": "markdown",
   "id": "d5d10c96",
   "metadata": {
    "heading_collapsed": true
   },
   "source": [
    "### CNV signature per chromosome"
   ]
  },
  {
   "cell_type": "markdown",
   "id": "6836ae1a",
   "metadata": {
    "hidden": true
   },
   "source": [
    "This code is for the first heatmap plot in the multi-assay section of the Mosaic notebook (DNA cluster signature vs Analyte and Barcode). It allows you to show average ploidy per chromosome in the CNV section of the heatmap, instead of by amplicon or gene. \n"
   ]
  },
  {
   "cell_type": "code",
   "execution_count": null,
   "id": "023cf059",
   "metadata": {
    "ExecuteTime": {
     "end_time": "2023-06-13T13:08:24.716725Z",
     "start_time": "2023-06-13T13:08:24.577270Z"
    }
   },
   "outputs": [],
   "source": [
    "# Keep only the barcodes which are common across all assays\n",
    "# This will raise a `ChangeAppliedWarning` if any of the assays has different barcodes from the others\n",
    "\n",
    "sample = sample[sample.common_barcodes()]"
   ]
  },
  {
   "cell_type": "code",
   "execution_count": null,
   "id": "c2a054b6",
   "metadata": {
    "ExecuteTime": {
     "end_time": "2023-06-13T13:08:24.839794Z",
     "start_time": "2023-06-13T13:08:24.718155Z"
    },
    "hidden": true
   },
   "outputs": [],
   "source": [
    "# Calculate mean ploidy for each chromosome\n",
    "\n",
    "amp_ploidy = sample.cnv.get_attribute(\"ploidy\", \"rc\")\n",
    "ids, chroms = sample.cnv._get_ids_from_features(\"positions\")\n",
    "chrom_ploidy = amp_ploidy.loc[:, ids].groupby(chroms, axis=1, sort=False).mean()\n",
    "\n",
    "# Get the order of the barcodes to plot\n",
    "# `subcluster=True` will enable hierarchical clustering of cells within each label\n",
    "bars = sample.cnv.clustered_barcodes(chrom_ploidy.values, subcluster=False)\n",
    "\n",
    "# Draw normal heatmap\n",
    "hm = Heatmap(chrom_ploidy.loc[bars, :], y_groups=sample.cnv.get_labels(bars))\n",
    "fig = hm.draw()\n",
    "sample.cnv.update_coloraxis(fig, \"ploidy\")\n",
    "fig.show(\"jpg\")"
   ]
  },
  {
   "cell_type": "code",
   "execution_count": null,
   "id": "ca5c571d",
   "metadata": {
    "ExecuteTime": {
     "end_time": "2023-06-13T13:08:25.070108Z",
     "start_time": "2023-06-13T13:08:24.841191Z"
    }
   },
   "outputs": [],
   "source": [
    "# Draw multi-assay heatmap\n",
    "\n",
    "fig = sample.heatmap((\"dna\", \"protein\"))\n",
    "fig.show(\"jpg\")"
   ]
  },
  {
   "cell_type": "markdown",
   "id": "f0eb0d37",
   "metadata": {},
   "source": [
    "### Save output for one clone"
   ]
  },
  {
   "cell_type": "markdown",
   "id": "9e33d9d6",
   "metadata": {},
   "source": [
    "This code will output a filtered h5 file, containing only cells of the clone of interest, which can be used for further analysis or filtering. "
   ]
  },
  {
   "cell_type": "code",
   "execution_count": null,
   "id": "9c27da01",
   "metadata": {
    "ExecuteTime": {
     "end_time": "2023-06-13T13:08:25.289701Z",
     "start_time": "2023-06-13T13:08:25.071486Z"
    }
   },
   "outputs": [],
   "source": [
    "# Save one clone (or one sample) as a separate .h5 file\n",
    "# row attribute 'label' stores the group (e.g. clone) information\n",
    "# set the `clone` to match the clone that you would like to extract from the others\n",
    "clone = 'Clone 2'\n",
    "\n",
    "# create a new sample with a subset of the cells\n",
    "sub_sample = sample[sample.dna.barcodes(clone)]\n",
    "\n",
    "#save sample2 to disk\n",
    "ms.save(sub_sample, \"Clone2_Filtered.h5\", mode=\"w\")"
   ]
  }
 ],
 "metadata": {
  "kernelspec": {
   "display_name": "Python 3 (ipykernel)",
   "language": "python",
   "name": "python3"
  },
  "language_info": {
   "codemirror_mode": {
    "name": "ipython",
    "version": 3
   },
   "file_extension": ".py",
   "mimetype": "text/x-python",
   "name": "python",
   "nbconvert_exporter": "python",
   "pygments_lexer": "ipython3",
   "version": "3.8.17"
  },
  "toc": {
   "base_numbering": 1,
   "nav_menu": {},
   "number_sections": true,
   "sideBar": true,
   "skip_h1_title": false,
   "title_cell": "Table of Contents",
   "title_sidebar": "Contents",
   "toc_cell": false,
   "toc_position": {},
   "toc_section_display": true,
   "toc_window_display": true
  },
  "varInspector": {
   "cols": {
    "lenName": 16,
    "lenType": 16,
    "lenVar": 40
   },
   "kernels_config": {
    "python": {
     "delete_cmd_postfix": "",
     "delete_cmd_prefix": "del ",
     "library": "var_list.py",
     "varRefreshCmd": "print(var_dic_list())"
    },
    "r": {
     "delete_cmd_postfix": ") ",
     "delete_cmd_prefix": "rm(",
     "library": "var_list.r",
     "varRefreshCmd": "cat(var_dic_list()) "
    }
   },
   "types_to_exclude": [
    "module",
    "function",
    "builtin_function_or_method",
    "instance",
    "_Feature"
   ],
   "window_display": false
  }
 },
 "nbformat": 4,
 "nbformat_minor": 5
}
